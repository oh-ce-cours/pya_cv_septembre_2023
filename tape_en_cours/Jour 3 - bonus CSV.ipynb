{
 "cells": [
  {
   "cell_type": "markdown",
   "id": "f0a1c69f-e86e-4bab-9c1b-9f2a2ee5bfb3",
   "metadata": {},
   "source": [
    "# On essaie d'ouvrir les CSV fournis par Eric\n",
    "\n",
    "Consigne : \n",
    "\n",
    "> trouver la variable \"CYCLE\" et définir la donnée correspondante à la date du 13/10/2014 13:09 par exemple"
   ]
  },
  {
   "cell_type": "code",
   "execution_count": 43,
   "id": "9b0c2547-c51d-4a28-bec3-15518a60da9b",
   "metadata": {},
   "outputs": [],
   "source": [
    "import csv \n",
    "\n",
    "fname = \"./jour3/RechercheCSV.csv\"\n",
    "\n",
    "def transpose(values: dict) -> list:\n",
    "    res = []\n",
    "    transposed = list(zip(*res.values()))\n",
    "    for item in transposed:\n",
    "        res.append(dict(zip(values.keys(), item)))\n",
    "    return res\n",
    "                   \n",
    "def ouverture_avec_csv():\n",
    "    res = {}\n",
    "    with open(fname) as f_csv:\n",
    "        csv_handler = csv.reader(f_csv, delimiter=\";\")\n",
    "        for line in csv_handler:\n",
    "            if \"[ANALYSES]\" in line:\n",
    "                continue\n",
    "            if not line:\n",
    "                continue\n",
    "            header, *values = line\n",
    "            res[header] = values\n",
    "            \n",
    "    return res"
   ]
  },
  {
   "cell_type": "code",
   "execution_count": 34,
   "id": "db5b57a9-52fc-4b95-b399-adaa964eb2e6",
   "metadata": {},
   "outputs": [],
   "source": [
    "res = ouverture_avec_csv()"
   ]
  },
  {
   "cell_type": "code",
   "execution_count": 39,
   "id": "8bff7aec-8aeb-4ab5-91e4-4bbfb9c4e489",
   "metadata": {},
   "outputs": [
    {
     "data": {
      "text/plain": [
       "[('15/09/14 11:49:41',\n",
       "  '15/09/14 11:49:41',\n",
       "  '15/09/14 12:09:51',\n",
       "  'DIAGNOSIS',\n",
       "  'DEFAULT',\n",
       "  'TRI133',\n",
       "  '011'),\n",
       " ('01/10/14 16:10:02',\n",
       "  '01/10/14 16:10:02',\n",
       "  '01/10/14 16:30:13',\n",
       "  'DIAGNOSIS',\n",
       "  'DEFAULT',\n",
       "  'TRI133',\n",
       "  '012'),\n",
       " ('06/10/14 16:31:56',\n",
       "  '06/10/14 16:31:56',\n",
       "  '06/10/14 16:52:07',\n",
       "  'DIAGNOSIS',\n",
       "  'DEFAULT',\n",
       "  'TRI133',\n",
       "  '013')]"
      ]
     },
     "execution_count": 39,
     "metadata": {},
     "output_type": "execute_result"
    }
   ],
   "source": [
    "list(zip(*res.values()))[:3]"
   ]
  },
  {
   "cell_type": "code",
   "execution_count": 41,
   "id": "898d9034-5936-46f4-93c9-63c03b08998a",
   "metadata": {},
   "outputs": [
    {
     "data": {
      "text/plain": [
       "dict_keys(['DATE', 'ACQUISITION-STARTDATE', 'ACQUISITION-ENDDATE', 'STATUS', 'SETUP_NAME', 'CYCLE', 'TEST-LABEL'])"
      ]
     },
     "execution_count": 41,
     "metadata": {},
     "output_type": "execute_result"
    }
   ],
   "source": [
    "res.keys()"
   ]
  },
  {
   "cell_type": "code",
   "execution_count": 44,
   "id": "dd369e45-13aa-4983-84a6-d2b79496718e",
   "metadata": {},
   "outputs": [
    {
     "ename": "AttributeError",
     "evalue": "'list' object has no attribute 'values'",
     "output_type": "error",
     "traceback": [
      "\u001b[0;31m---------------------------------------------------------------------------\u001b[0m",
      "\u001b[0;31mAttributeError\u001b[0m                            Traceback (most recent call last)",
      "Cell \u001b[0;32mIn[44], line 1\u001b[0m\n\u001b[0;32m----> 1\u001b[0m \u001b[43mtranspose\u001b[49m\u001b[43m(\u001b[49m\u001b[43mres\u001b[49m\u001b[43m)\u001b[49m\n",
      "Cell \u001b[0;32mIn[43], line 7\u001b[0m, in \u001b[0;36mtranspose\u001b[0;34m(values)\u001b[0m\n\u001b[1;32m      5\u001b[0m \u001b[38;5;28;01mdef\u001b[39;00m \u001b[38;5;21mtranspose\u001b[39m(values: \u001b[38;5;28mdict\u001b[39m) \u001b[38;5;241m-\u001b[39m\u001b[38;5;241m>\u001b[39m \u001b[38;5;28mlist\u001b[39m:\n\u001b[1;32m      6\u001b[0m     res \u001b[38;5;241m=\u001b[39m []\n\u001b[0;32m----> 7\u001b[0m     transposed \u001b[38;5;241m=\u001b[39m \u001b[38;5;28mlist\u001b[39m(\u001b[38;5;28mzip\u001b[39m(\u001b[38;5;241m*\u001b[39m\u001b[43mres\u001b[49m\u001b[38;5;241;43m.\u001b[39;49m\u001b[43mvalues\u001b[49m()))\n\u001b[1;32m      8\u001b[0m     \u001b[38;5;28;01mfor\u001b[39;00m item \u001b[38;5;129;01min\u001b[39;00m transposed:\n\u001b[1;32m      9\u001b[0m         res\u001b[38;5;241m.\u001b[39mappend(\u001b[38;5;28mdict\u001b[39m(\u001b[38;5;28mzip\u001b[39m(values\u001b[38;5;241m.\u001b[39mkeys(), item)))\n",
      "\u001b[0;31mAttributeError\u001b[0m: 'list' object has no attribute 'values'"
     ]
    }
   ],
   "source": [
    "transpose(res)"
   ]
  },
  {
   "cell_type": "code",
   "execution_count": null,
   "id": "ff779d6a-7910-435d-b945-17a0edbdce0e",
   "metadata": {},
   "outputs": [],
   "source": []
  }
 ],
 "metadata": {
  "kernelspec": {
   "display_name": "Python 3 (ipykernel)",
   "language": "python",
   "name": "python3"
  },
  "language_info": {
   "codemirror_mode": {
    "name": "ipython",
    "version": 3
   },
   "file_extension": ".py",
   "mimetype": "text/x-python",
   "name": "python",
   "nbconvert_exporter": "python",
   "pygments_lexer": "ipython3",
   "version": "3.10.9"
  }
 },
 "nbformat": 4,
 "nbformat_minor": 5
}
