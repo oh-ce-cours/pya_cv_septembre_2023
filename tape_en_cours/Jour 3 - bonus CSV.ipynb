{
 "cells": [
  {
   "cell_type": "markdown",
   "id": "f0a1c69f-e86e-4bab-9c1b-9f2a2ee5bfb3",
   "metadata": {},
   "source": [
    "# On essaie d'ouvrir les CSV fournis par Eric\n",
    "\n",
    "Consigne : \n",
    "\n",
    "> trouver la variable \"CYCLE\" et définir la donnée correspondante à la date du 13/10/2014 13:09 par exemple"
   ]
  },
  {
   "cell_type": "markdown",
   "id": "51186d7e-8fb9-42f2-9771-160c0f227c94",
   "metadata": {},
   "source": [
    "# En python pur"
   ]
  },
  {
   "cell_type": "code",
   "execution_count": 165,
   "id": "9b0c2547-c51d-4a28-bec3-15518a60da9b",
   "metadata": {},
   "outputs": [],
   "source": [
    "import csv \n",
    "from dateutil.parser import parse\n",
    "import datetime\n",
    "\n",
    "fname = \"./jour3/RechercheCSV.csv\"\n",
    "\n",
    "\n",
    "def remove_duplicate(input):\n",
    "    return list(set(input))\n",
    "\n",
    "\n",
    "def transpose(values: dict) -> list:\n",
    "    res = []\n",
    "    transposed = list(zip(*values.values(), strict=True))\n",
    "    for item in transposed:\n",
    "        res.append(dict(zip(values.keys(), item, strict=True)))\n",
    "    return res\n",
    "\n",
    "def convert_types(values):\n",
    "    \"\"\"\n",
    "    \"\"\"\n",
    "    for value in values:\n",
    "        value[\"DATE\"] = parse(value[\"DATE\"])\n",
    "        value[\"ACQUISITION-STARTDATE\"] = parse(value[\"ACQUISITION-STARTDATE\"])\n",
    "        value[\"ACQUISITION-ENDDATE\"] = parse(value[\"ACQUISITION-ENDDATE\"])\n",
    "    return values\n",
    "\n",
    "def ouverture_avec_csv(fname):\n",
    "    res = {}\n",
    "    with open(fname) as f_csv:\n",
    "        csv_handler = csv.reader(f_csv, delimiter=\";\")\n",
    "        for line in csv_handler:\n",
    "            if \"[ANALYSES]\" in line:\n",
    "                continue\n",
    "            if not line:\n",
    "                continue\n",
    "            header, *values = line\n",
    "            res[header] = values\n",
    "            \n",
    "    return res\n",
    "\n",
    "def traitement(res_converted):\n",
    "    res = []\n",
    "    for element in res_converted:\n",
    "        if datetime.datetime(2015, 5, 1) < element[\"DATE\"] < datetime.datetime(2017, 5, 10):\n",
    "            res.append(element[\"CYCLE\"])\n",
    "    \n",
    "    return remove_duplicate(res)\n",
    "\n",
    "class CSV:\n",
    "    def __init__(self, fname):\n",
    "        self.fname = fname\n",
    "        self.data = convert_types(transpose(ouverture_avec_csv(fname)))\n",
    "\n",
    "    def get_values_between_dates(self, start, end):\n",
    "        res = []\n",
    "        for element in self.data:\n",
    "            if start < element[\"DATE\"] < end:\n",
    "                res.append(element[\"CYCLE\"])\n",
    "        return remove_duplicate(res)"
   ]
  },
  {
   "cell_type": "code",
   "execution_count": 166,
   "id": "db5b57a9-52fc-4b95-b399-adaa964eb2e6",
   "metadata": {},
   "outputs": [
    {
     "name": "stdout",
     "output_type": "stream",
     "text": [
      "['TRI134', 'TRI133', 'TRI135']\n"
     ]
    }
   ],
   "source": [
    "# sans OOP\n",
    "res = ouverture_avec_csv(fname)\n",
    "res_transpose = transpose(res)\n",
    "res_converted = convert_types(res_transpose)\n",
    "print(traitement(res_converted))"
   ]
  },
  {
   "cell_type": "code",
   "execution_count": 167,
   "id": "1e6cf78c-4c54-474f-bc41-6148db877393",
   "metadata": {},
   "outputs": [
    {
     "data": {
      "text/plain": [
       "['TRI134', 'TRI133', 'TRI135']"
      ]
     },
     "execution_count": 167,
     "metadata": {},
     "output_type": "execute_result"
    }
   ],
   "source": [
    "# avec OOP\n",
    "c = CSV(fname)\n",
    "c.get_values_between_dates(datetime.datetime(2015, 5, 1), datetime.datetime(2017, 5, 10))"
   ]
  },
  {
   "cell_type": "markdown",
   "id": "e9a6a5d8-80d1-453e-b8fd-4b64c18bfbc9",
   "metadata": {},
   "source": [
    "## Annexe : transposées de matrice "
   ]
  },
  {
   "cell_type": "code",
   "execution_count": 151,
   "id": "2d6add8a-b8f9-43a0-a067-2860b9c69894",
   "metadata": {},
   "outputs": [
    {
     "name": "stdout",
     "output_type": "stream",
     "text": [
      "1 4\n"
     ]
    }
   ],
   "source": [
    "a = [\n",
    "    [1, 2, 3, 4],\n",
    "    [1, 2, 3, 4],\n",
    "    [1, 2, 3, 4],\n",
    "    [1, 2, 3, 4],\n",
    "]\n",
    "\n",
    "print(a[3][0], a[0][3])"
   ]
  },
  {
   "cell_type": "code",
   "execution_count": 152,
   "id": "13d2262a-b805-48aa-b7bd-ff126c54e10d",
   "metadata": {},
   "outputs": [
    {
     "name": "stdout",
     "output_type": "stream",
     "text": [
      "[(1, 1, 1, 1), (2, 2, 2, 2), (3, 3, 3, 3), (4, 4, 4, 4)]\n",
      "4 1\n"
     ]
    }
   ],
   "source": [
    "b = list(zip(*a, strict=True))\n",
    "print(b)\n",
    "print(b[3][0], b[0][3])"
   ]
  },
  {
   "cell_type": "markdown",
   "id": "dfab3faf-957b-4b1b-b336-cd855da262e7",
   "metadata": {},
   "source": [
    "# Avec Pandas"
   ]
  },
  {
   "cell_type": "code",
   "execution_count": 180,
   "id": "f2281f2f-3fb7-4da1-bdcd-25c2d2fe1f1c",
   "metadata": {},
   "outputs": [],
   "source": [
    "import pandas as pd \n",
    "\n",
    "df = pd.read_csv(fname, skiprows=1, sep=\";\")\n",
    "df.rename(columns=df.iloc[0])\n",
    "df = df.T.reset_index(drop=True)"
   ]
  },
  {
   "cell_type": "code",
   "execution_count": 181,
   "id": "04136ebd-edc0-4007-8e67-4ea7d7af9d45",
   "metadata": {},
   "outputs": [
    {
     "data": {
      "text/html": [
       "<div>\n",
       "<style scoped>\n",
       "    .dataframe tbody tr th:only-of-type {\n",
       "        vertical-align: middle;\n",
       "    }\n",
       "\n",
       "    .dataframe tbody tr th {\n",
       "        vertical-align: top;\n",
       "    }\n",
       "\n",
       "    .dataframe thead th {\n",
       "        text-align: right;\n",
       "    }\n",
       "</style>\n",
       "<table border=\"1\" class=\"dataframe\">\n",
       "  <thead>\n",
       "    <tr style=\"text-align: right;\">\n",
       "      <th></th>\n",
       "      <th>ACQUISITION-STARTDATE</th>\n",
       "      <th>ACQUISITION-ENDDATE</th>\n",
       "      <th>STATUS</th>\n",
       "      <th>SETUP_NAME</th>\n",
       "      <th>CYCLE</th>\n",
       "      <th>TEST-LABEL</th>\n",
       "    </tr>\n",
       "  </thead>\n",
       "  <tbody>\n",
       "    <tr>\n",
       "      <th>0</th>\n",
       "      <td>ACQUISITION-STARTDATE</td>\n",
       "      <td>ACQUISITION-ENDDATE</td>\n",
       "      <td>STATUS</td>\n",
       "      <td>SETUP_NAME</td>\n",
       "      <td>CYCLE</td>\n",
       "      <td>TEST-LABEL</td>\n",
       "    </tr>\n",
       "    <tr>\n",
       "      <th>1</th>\n",
       "      <td>15/09/14 11:49:41</td>\n",
       "      <td>15/09/14 12:09:51</td>\n",
       "      <td>DIAGNOSIS</td>\n",
       "      <td>DEFAULT</td>\n",
       "      <td>TRI133</td>\n",
       "      <td>011</td>\n",
       "    </tr>\n",
       "    <tr>\n",
       "      <th>2</th>\n",
       "      <td>01/10/14 16:10:02</td>\n",
       "      <td>01/10/14 16:30:13</td>\n",
       "      <td>DIAGNOSIS</td>\n",
       "      <td>DEFAULT</td>\n",
       "      <td>TRI133</td>\n",
       "      <td>012</td>\n",
       "    </tr>\n",
       "    <tr>\n",
       "      <th>3</th>\n",
       "      <td>06/10/14 16:31:56</td>\n",
       "      <td>06/10/14 16:52:07</td>\n",
       "      <td>DIAGNOSIS</td>\n",
       "      <td>DEFAULT</td>\n",
       "      <td>TRI133</td>\n",
       "      <td>013</td>\n",
       "    </tr>\n",
       "    <tr>\n",
       "      <th>4</th>\n",
       "      <td>13/10/14 13:09:54</td>\n",
       "      <td>13/10/14 13:30:04</td>\n",
       "      <td>DIAGNOSIS</td>\n",
       "      <td>DEFAULT</td>\n",
       "      <td>TRI133</td>\n",
       "      <td>014</td>\n",
       "    </tr>\n",
       "    <tr>\n",
       "      <th>...</th>\n",
       "      <td>...</td>\n",
       "      <td>...</td>\n",
       "      <td>...</td>\n",
       "      <td>...</td>\n",
       "      <td>...</td>\n",
       "      <td>...</td>\n",
       "    </tr>\n",
       "    <tr>\n",
       "      <th>258</th>\n",
       "      <td>24/07/23 09:48:33</td>\n",
       "      <td>24/07/23 10:08:38</td>\n",
       "      <td>DIAGNOSIS</td>\n",
       "      <td>V2 MAJ 26-11-2019</td>\n",
       "      <td>TRI140</td>\n",
       "      <td>063</td>\n",
       "    </tr>\n",
       "    <tr>\n",
       "      <th>259</th>\n",
       "      <td>31/07/23 10:59:08</td>\n",
       "      <td>31/07/23 11:19:19</td>\n",
       "      <td>DIAGNOSIS</td>\n",
       "      <td>V2 MAJ 26-11-2019</td>\n",
       "      <td>TRI140</td>\n",
       "      <td>064</td>\n",
       "    </tr>\n",
       "    <tr>\n",
       "      <th>260</th>\n",
       "      <td>07/08/23 10:08:52</td>\n",
       "      <td>07/08/23 10:28:58</td>\n",
       "      <td>DIAGNOSIS</td>\n",
       "      <td>V2 MAJ 26-11-2019</td>\n",
       "      <td>TRI140</td>\n",
       "      <td>067</td>\n",
       "    </tr>\n",
       "    <tr>\n",
       "      <th>261</th>\n",
       "      <td>14/08/23 11:09:11</td>\n",
       "      <td>14/08/23 11:29:17</td>\n",
       "      <td>DIAGNOSIS</td>\n",
       "      <td>V2 MAJ 26-11-2019</td>\n",
       "      <td>TRI140</td>\n",
       "      <td>068</td>\n",
       "    </tr>\n",
       "    <tr>\n",
       "      <th>262</th>\n",
       "      <td>28/08/23 10:07:28</td>\n",
       "      <td>28/08/23 10:27:33</td>\n",
       "      <td>DIAGNOSIS</td>\n",
       "      <td>V2 MAJ 26-11-2019</td>\n",
       "      <td>TRI140</td>\n",
       "      <td>069</td>\n",
       "    </tr>\n",
       "  </tbody>\n",
       "</table>\n",
       "<p>263 rows × 6 columns</p>\n",
       "</div>"
      ],
      "text/plain": [
       "     ACQUISITION-STARTDATE  ACQUISITION-ENDDATE     STATUS         SETUP_NAME  \\\n",
       "0    ACQUISITION-STARTDATE  ACQUISITION-ENDDATE     STATUS         SETUP_NAME   \n",
       "1        15/09/14 11:49:41    15/09/14 12:09:51  DIAGNOSIS            DEFAULT   \n",
       "2        01/10/14 16:10:02    01/10/14 16:30:13  DIAGNOSIS            DEFAULT   \n",
       "3        06/10/14 16:31:56    06/10/14 16:52:07  DIAGNOSIS            DEFAULT   \n",
       "4        13/10/14 13:09:54    13/10/14 13:30:04  DIAGNOSIS            DEFAULT   \n",
       "..                     ...                  ...        ...                ...   \n",
       "258      24/07/23 09:48:33    24/07/23 10:08:38  DIAGNOSIS  V2 MAJ 26-11-2019   \n",
       "259      31/07/23 10:59:08    31/07/23 11:19:19  DIAGNOSIS  V2 MAJ 26-11-2019   \n",
       "260      07/08/23 10:08:52    07/08/23 10:28:58  DIAGNOSIS  V2 MAJ 26-11-2019   \n",
       "261      14/08/23 11:09:11    14/08/23 11:29:17  DIAGNOSIS  V2 MAJ 26-11-2019   \n",
       "262      28/08/23 10:07:28    28/08/23 10:27:33  DIAGNOSIS  V2 MAJ 26-11-2019   \n",
       "\n",
       "      CYCLE  TEST-LABEL  \n",
       "0     CYCLE  TEST-LABEL  \n",
       "1    TRI133         011  \n",
       "2    TRI133         012  \n",
       "3    TRI133         013  \n",
       "4    TRI133         014  \n",
       "..      ...         ...  \n",
       "258  TRI140         063  \n",
       "259  TRI140         064  \n",
       "260  TRI140         067  \n",
       "261  TRI140         068  \n",
       "262  TRI140         069  \n",
       "\n",
       "[263 rows x 6 columns]"
      ]
     },
     "execution_count": 181,
     "metadata": {},
     "output_type": "execute_result"
    }
   ],
   "source": [
    "df.i"
   ]
  },
  {
   "cell_type": "code",
   "execution_count": null,
   "id": "ef7ce196-ada6-4d3c-bc44-9f9c06287138",
   "metadata": {},
   "outputs": [],
   "source": []
  }
 ],
 "metadata": {
  "kernelspec": {
   "display_name": "Python 3 (ipykernel)",
   "language": "python",
   "name": "python3"
  },
  "language_info": {
   "codemirror_mode": {
    "name": "ipython",
    "version": 3
   },
   "file_extension": ".py",
   "mimetype": "text/x-python",
   "name": "python",
   "nbconvert_exporter": "python",
   "pygments_lexer": "ipython3",
   "version": "3.10.9"
  }
 },
 "nbformat": 4,
 "nbformat_minor": 5
}
