{
 "cells": [
  {
   "cell_type": "markdown",
   "id": "f0a1c69f-e86e-4bab-9c1b-9f2a2ee5bfb3",
   "metadata": {},
   "source": [
    "# On essaie d'ouvrir les CSV fournis par Eric\n",
    "\n",
    "Consigne : \n",
    "\n",
    "> trouver la variable \"CYCLE\" et définir la donnée correspondante à la date du 13/10/2014 13:09 par exemple"
   ]
  },
  {
   "cell_type": "markdown",
   "id": "51186d7e-8fb9-42f2-9771-160c0f227c94",
   "metadata": {},
   "source": [
    "# En python pur"
   ]
  },
  {
   "cell_type": "code",
   "execution_count": 165,
   "id": "9b0c2547-c51d-4a28-bec3-15518a60da9b",
   "metadata": {},
   "outputs": [],
   "source": [
    "import csv \n",
    "from dateutil.parser import parse\n",
    "import datetime\n",
    "\n",
    "fname = \"./jour3/RechercheCSV.csv\"\n",
    "\n",
    "\n",
    "def remove_duplicate(input):\n",
    "    return list(set(input))\n",
    "\n",
    "\n",
    "def transpose(values: dict) -> list:\n",
    "    res = []\n",
    "    transposed = list(zip(*values.values(), strict=True))\n",
    "    for item in transposed:\n",
    "        res.append(dict(zip(values.keys(), item, strict=True)))\n",
    "    return res\n",
    "\n",
    "def convert_types(values):\n",
    "    \"\"\"\n",
    "    \"\"\"\n",
    "    for value in values:\n",
    "        value[\"DATE\"] = parse(value[\"DATE\"])\n",
    "        value[\"ACQUISITION-STARTDATE\"] = parse(value[\"ACQUISITION-STARTDATE\"])\n",
    "        value[\"ACQUISITION-ENDDATE\"] = parse(value[\"ACQUISITION-ENDDATE\"])\n",
    "    return values\n",
    "\n",
    "def ouverture_avec_csv(fname):\n",
    "    res = {}\n",
    "    with open(fname) as f_csv:\n",
    "        csv_handler = csv.reader(f_csv, delimiter=\";\")\n",
    "        for line in csv_handler:\n",
    "            if \"[ANALYSES]\" in line:\n",
    "                continue\n",
    "            if not line:\n",
    "                continue\n",
    "            header, *values = line\n",
    "            res[header] = values\n",
    "            \n",
    "    return res\n",
    "\n",
    "def traitement(res_converted):\n",
    "    res = []\n",
    "    for element in res_converted:\n",
    "        if datetime.datetime(2015, 5, 1) < element[\"DATE\"] < datetime.datetime(2017, 5, 10):\n",
    "            res.append(element[\"CYCLE\"])\n",
    "    \n",
    "    return remove_duplicate(res)\n",
    "\n",
    "class CSV:\n",
    "    def __init__(self, fname):\n",
    "        self.fname = fname\n",
    "        self.data = convert_types(transpose(ouverture_avec_csv(fname)))\n",
    "\n",
    "    def get_values_between_dates(self, start, end):\n",
    "        res = []\n",
    "        for element in self.data:\n",
    "            if start < element[\"DATE\"] < end:\n",
    "                res.append(element[\"CYCLE\"])\n",
    "        return remove_duplicate(res)"
   ]
  },
  {
   "cell_type": "code",
   "execution_count": 166,
   "id": "db5b57a9-52fc-4b95-b399-adaa964eb2e6",
   "metadata": {},
   "outputs": [
    {
     "name": "stdout",
     "output_type": "stream",
     "text": [
      "['TRI134', 'TRI133', 'TRI135']\n"
     ]
    }
   ],
   "source": [
    "# sans OOP\n",
    "res = ouverture_avec_csv(fname)\n",
    "res_transpose = transpose(res)\n",
    "res_converted = convert_types(res_transpose)\n",
    "print(traitement(res_converted))"
   ]
  },
  {
   "cell_type": "code",
   "execution_count": 167,
   "id": "1e6cf78c-4c54-474f-bc41-6148db877393",
   "metadata": {},
   "outputs": [
    {
     "data": {
      "text/plain": [
       "['TRI134', 'TRI133', 'TRI135']"
      ]
     },
     "execution_count": 167,
     "metadata": {},
     "output_type": "execute_result"
    }
   ],
   "source": [
    "# avec OOP\n",
    "c = CSV(fname)\n",
    "c.get_values_between_dates(datetime.datetime(2015, 5, 1), datetime.datetime(2017, 5, 10))"
   ]
  },
  {
   "cell_type": "markdown",
   "id": "e9a6a5d8-80d1-453e-b8fd-4b64c18bfbc9",
   "metadata": {},
   "source": [
    "## Annexe : transposées de matrice "
   ]
  },
  {
   "cell_type": "code",
   "execution_count": 151,
   "id": "2d6add8a-b8f9-43a0-a067-2860b9c69894",
   "metadata": {},
   "outputs": [
    {
     "name": "stdout",
     "output_type": "stream",
     "text": [
      "1 4\n"
     ]
    }
   ],
   "source": [
    "a = [\n",
    "    [1, 2, 3, 4],\n",
    "    [1, 2, 3, 4],\n",
    "    [1, 2, 3, 4],\n",
    "    [1, 2, 3, 4],\n",
    "]\n",
    "\n",
    "print(a[3][0], a[0][3])"
   ]
  },
  {
   "cell_type": "code",
   "execution_count": 152,
   "id": "13d2262a-b805-48aa-b7bd-ff126c54e10d",
   "metadata": {},
   "outputs": [
    {
     "name": "stdout",
     "output_type": "stream",
     "text": [
      "[(1, 1, 1, 1), (2, 2, 2, 2), (3, 3, 3, 3), (4, 4, 4, 4)]\n",
      "4 1\n"
     ]
    }
   ],
   "source": [
    "b = list(zip(*a, strict=True))\n",
    "print(b)\n",
    "print(b[3][0], b[0][3])"
   ]
  },
  {
   "cell_type": "markdown",
   "id": "dfab3faf-957b-4b1b-b336-cd855da262e7",
   "metadata": {},
   "source": [
    "# Avec Pandas"
   ]
  },
  {
   "cell_type": "code",
   "execution_count": 237,
   "id": "f2281f2f-3fb7-4da1-bdcd-25c2d2fe1f1c",
   "metadata": {},
   "outputs": [],
   "source": [
    "import pandas as pd \n",
    "\n",
    "df = pd.read_csv(fname, skiprows=1, sep=\";\")\n",
    "df = df.T\n",
    "df.reset_index(inplace=True)\n",
    "df.rename(columns=df.iloc[0], inplace=True)\n",
    "df.drop(0, inplace=True)\n",
    "\n",
    "df.DATE = pd.to_datetime(df.DATE, format=\"%d/%m/%y %H:%M:%S\")\n",
    "df[\"ACQUISITION-STARTDATE\"] = pd.to_datetime(df[\"ACQUISITION-STARTDATE\"], format=\"%d/%m/%y %H:%M:%S\")\n",
    "df[\"ACQUISITION-ENDDATE\"] = pd.to_datetime(df[\"ACQUISITION-ENDDATE\"], format=\"%d/%m/%y %H:%M:%S\")\n"
   ]
  },
  {
   "cell_type": "code",
   "execution_count": null,
   "id": "04136ebd-edc0-4007-8e67-4ea7d7af9d45",
   "metadata": {},
   "outputs": [],
   "source": [
    "df[df.DATE.between(\"2014/02/05\", \"201"
   ]
  },
  {
   "cell_type": "code",
   "execution_count": null,
   "id": "ef7ce196-ada6-4d3c-bc44-9f9c06287138",
   "metadata": {},
   "outputs": [],
   "source": []
  }
 ],
 "metadata": {
  "kernelspec": {
   "display_name": "Python 3 (ipykernel)",
   "language": "python",
   "name": "python3"
  },
  "language_info": {
   "codemirror_mode": {
    "name": "ipython",
    "version": 3
   },
   "file_extension": ".py",
   "mimetype": "text/x-python",
   "name": "python",
   "nbconvert_exporter": "python",
   "pygments_lexer": "ipython3",
   "version": "3.10.9"
  }
 },
 "nbformat": 4,
 "nbformat_minor": 5
}
