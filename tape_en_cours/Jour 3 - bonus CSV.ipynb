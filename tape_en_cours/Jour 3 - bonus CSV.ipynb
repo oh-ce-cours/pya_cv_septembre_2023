{
 "cells": [
  {
   "cell_type": "markdown",
   "id": "f0a1c69f-e86e-4bab-9c1b-9f2a2ee5bfb3",
   "metadata": {},
   "source": [
    "# On essaie d'ouvrir les CSV fournis par Eric\n",
    "\n",
    "Consigne : \n",
    "\n",
    "> trouver la variable \"CYCLE\" et définir la donnée correspondante à la date du 13/10/2014 13:09 par exemple"
   ]
  },
  {
   "cell_type": "code",
   "execution_count": 137,
   "id": "9b0c2547-c51d-4a28-bec3-15518a60da9b",
   "metadata": {},
   "outputs": [],
   "source": [
    "import csv \n",
    "from dateutil.parser import parse\n",
    "\n",
    "fname = \"./jour3/RechercheCSV.csv\"\n",
    "\n",
    "def transpose(values: dict) -> list:\n",
    "    res = []\n",
    "    transposed = list(zip(*values.values(), strict=True))\n",
    "    for item in transposed:\n",
    "        res.append(dict(zip(values.keys(), item, strict=True)))\n",
    "    return res\n",
    "\n",
    "def convert_types(values):\n",
    "    \"\"\"\n",
    "    \"\"\"\n",
    "    for value in values:\n",
    "        value[\"DATE\"] = parse(value[\"DATE\"])\n",
    "        value[\"ACQUISITION-STARTDATE\"] = parse(value[\"ACQUISITION-STARTDATE\"])\n",
    "        value[\"ACQUISITION-ENDDATE\"] = parse(value[\"ACQUISITION-ENDDATE\"])\n",
    "    return values\n",
    "\n",
    "def ouverture_avec_csv(fname):\n",
    "    res = {}\n",
    "    with open(fname) as f_csv:\n",
    "        csv_handler = csv.reader(f_csv, delimiter=\";\")\n",
    "        for line in csv_handler:\n",
    "            if \"[ANALYSES]\" in line:\n",
    "                continue\n",
    "            if not line:\n",
    "                continue\n",
    "            header, *values = line\n",
    "            res[header] = values\n",
    "            \n",
    "    return res\n",
    "\n",
    "\n",
    "class CSV:\n",
    "    def __init__(self, fname):\n",
    "        self.fname = fname\n",
    "        self.data = convert_types(transpose(ouverture_avec_csv(fname)))\n",
    "\n",
    "    def get_values_between_dates(self, start, end):\n",
    "        res = []\n",
    "        for element in self.data:\n",
    "            if start < element[\"DATE\"] < end:\n",
    "                res.append(element[\"CYCLE\"])\n",
    "        return res"
   ]
  },
  {
   "cell_type": "code",
   "execution_count": 138,
   "id": "db5b57a9-52fc-4b95-b399-adaa964eb2e6",
   "metadata": {},
   "outputs": [
    {
     "ename": "TypeError",
     "evalue": "ouverture_avec_csv() missing 1 required positional argument: 'fname'",
     "output_type": "error",
     "traceback": [
      "\u001b[0;31m---------------------------------------------------------------------------\u001b[0m",
      "\u001b[0;31mTypeError\u001b[0m                                 Traceback (most recent call last)",
      "Cell \u001b[0;32mIn[138], line 1\u001b[0m\n\u001b[0;32m----> 1\u001b[0m res \u001b[38;5;241m=\u001b[39m \u001b[43mouverture_avec_csv\u001b[49m\u001b[43m(\u001b[49m\u001b[43m)\u001b[49m\n\u001b[1;32m      2\u001b[0m res_transpose \u001b[38;5;241m=\u001b[39m transpose(res)\n\u001b[1;32m      3\u001b[0m res_converted \u001b[38;5;241m=\u001b[39m convert_types(res_transpose)\n",
      "\u001b[0;31mTypeError\u001b[0m: ouverture_avec_csv() missing 1 required positional argument: 'fname'"
     ]
    }
   ],
   "source": [
    "res = ouverture_avec_csv()\n",
    "res_transpose = transpose(res)\n",
    "res_converted = convert_types(res_transpose)"
   ]
  },
  {
   "cell_type": "code",
   "execution_count": 139,
   "id": "8bff7aec-8aeb-4ab5-91e4-4bbfb9c4e489",
   "metadata": {},
   "outputs": [
    {
     "name": "stdout",
     "output_type": "stream",
     "text": [
      "{'DATE': datetime.datetime(2014, 9, 15, 11, 49, 41), 'ACQUISITION-STARTDATE': datetime.datetime(2014, 9, 15, 11, 49, 41), 'ACQUISITION-ENDDATE': datetime.datetime(2014, 9, 15, 12, 9, 51), 'STATUS': 'DIAGNOSIS', 'SETUP_NAME': 'DEFAULT', 'CYCLE': 'TRI133', 'TEST-LABEL': '011'}\n",
      "{'DATE': datetime.datetime(2014, 1, 10, 16, 10, 2), 'ACQUISITION-STARTDATE': datetime.datetime(2014, 1, 10, 16, 10, 2), 'ACQUISITION-ENDDATE': datetime.datetime(2014, 1, 10, 16, 30, 13), 'STATUS': 'DIAGNOSIS', 'SETUP_NAME': 'DEFAULT', 'CYCLE': 'TRI133', 'TEST-LABEL': '012'}\n",
      "{'DATE': datetime.datetime(2014, 6, 10, 16, 31, 56), 'ACQUISITION-STARTDATE': datetime.datetime(2014, 6, 10, 16, 31, 56), 'ACQUISITION-ENDDATE': datetime.datetime(2014, 6, 10, 16, 52, 7), 'STATUS': 'DIAGNOSIS', 'SETUP_NAME': 'DEFAULT', 'CYCLE': 'TRI133', 'TEST-LABEL': '013'}\n",
      "{'DATE': datetime.datetime(2014, 10, 13, 13, 9, 54), 'ACQUISITION-STARTDATE': datetime.datetime(2014, 10, 13, 13, 9, 54), 'ACQUISITION-ENDDATE': datetime.datetime(2014, 10, 13, 13, 30, 4), 'STATUS': 'DIAGNOSIS', 'SETUP_NAME': 'DEFAULT', 'CYCLE': 'TRI133', 'TEST-LABEL': '014'}\n",
      "{'DATE': datetime.datetime(2014, 10, 20, 12, 4, 48), 'ACQUISITION-STARTDATE': datetime.datetime(2014, 10, 20, 12, 4, 48), 'ACQUISITION-ENDDATE': datetime.datetime(2014, 10, 20, 12, 24, 58), 'STATUS': 'DIAGNOSIS', 'SETUP_NAME': 'DEFAULT', 'CYCLE': 'TRI133', 'TEST-LABEL': '015'}\n",
      "{'DATE': datetime.datetime(2014, 1, 12, 10, 32, 15), 'ACQUISITION-STARTDATE': datetime.datetime(2014, 1, 12, 10, 32, 15), 'ACQUISITION-ENDDATE': datetime.datetime(2014, 1, 12, 10, 52, 26), 'STATUS': 'DIAGNOSIS', 'SETUP_NAME': 'DEFAULT', 'CYCLE': 'TRI133', 'TEST-LABEL': '025'}\n",
      "{'DATE': datetime.datetime(2014, 8, 12, 10, 54, 43), 'ACQUISITION-STARTDATE': datetime.datetime(2014, 8, 12, 10, 54, 43), 'ACQUISITION-ENDDATE': datetime.datetime(2014, 8, 12, 11, 14, 54), 'STATUS': 'DIAGNOSIS', 'SETUP_NAME': 'DEFAULT', 'CYCLE': 'TRI133', 'TEST-LABEL': '026'}\n",
      "{'DATE': datetime.datetime(2014, 12, 15, 10, 53, 6), 'ACQUISITION-STARTDATE': datetime.datetime(2014, 12, 15, 10, 53, 6), 'ACQUISITION-ENDDATE': datetime.datetime(2014, 12, 15, 11, 13, 16), 'STATUS': 'DIAGNOSIS', 'SETUP_NAME': 'DEFAULT', 'CYCLE': 'TRI133', 'TEST-LABEL': '027'}\n",
      "{'DATE': datetime.datetime(2014, 12, 22, 10, 28, 25), 'ACQUISITION-STARTDATE': datetime.datetime(2014, 12, 22, 10, 28, 25), 'ACQUISITION-ENDDATE': datetime.datetime(2014, 12, 22, 10, 48, 36), 'STATUS': 'DIAGNOSIS', 'SETUP_NAME': 'DEFAULT', 'CYCLE': 'TRI133', 'TEST-LABEL': '028'}\n",
      "{'DATE': datetime.datetime(2014, 12, 29, 10, 20, 18), 'ACQUISITION-STARTDATE': datetime.datetime(2014, 12, 29, 10, 20, 18), 'ACQUISITION-ENDDATE': datetime.datetime(2014, 12, 29, 10, 40, 28), 'STATUS': 'DIAGNOSIS', 'SETUP_NAME': 'DEFAULT', 'CYCLE': 'TRI133', 'TEST-LABEL': '029'}\n",
      "{'DATE': datetime.datetime(2015, 5, 1, 11, 16, 2), 'ACQUISITION-STARTDATE': datetime.datetime(2015, 5, 1, 11, 16, 2), 'ACQUISITION-ENDDATE': datetime.datetime(2015, 5, 1, 11, 36, 13), 'STATUS': 'DIAGNOSIS', 'SETUP_NAME': 'DEFAULT', 'CYCLE': 'TRI133', 'TEST-LABEL': '030'}\n",
      "{'DATE': datetime.datetime(2015, 12, 1, 10, 50, 15), 'ACQUISITION-STARTDATE': datetime.datetime(2015, 12, 1, 10, 50, 15), 'ACQUISITION-ENDDATE': datetime.datetime(2015, 12, 1, 11, 10, 26), 'STATUS': 'DIAGNOSIS', 'SETUP_NAME': 'DEFAULT', 'CYCLE': 'TRI133', 'TEST-LABEL': '031'}\n",
      "{'DATE': datetime.datetime(2015, 1, 19, 10, 32, 36), 'ACQUISITION-STARTDATE': datetime.datetime(2015, 1, 19, 10, 32, 36), 'ACQUISITION-ENDDATE': datetime.datetime(2015, 1, 19, 10, 52, 47), 'STATUS': 'DIAGNOSIS', 'SETUP_NAME': 'DEFAULT', 'CYCLE': 'TRI133', 'TEST-LABEL': '033'}\n",
      "{'DATE': datetime.datetime(2015, 1, 26, 12, 28, 9), 'ACQUISITION-STARTDATE': datetime.datetime(2015, 1, 26, 12, 28, 9), 'ACQUISITION-ENDDATE': datetime.datetime(2015, 1, 26, 12, 48, 20), 'STATUS': 'DIAGNOSIS', 'SETUP_NAME': 'DEFAULT', 'CYCLE': 'TRI133', 'TEST-LABEL': '034'}\n",
      "{'DATE': datetime.datetime(2015, 6, 2, 10, 34), 'ACQUISITION-STARTDATE': datetime.datetime(2015, 6, 2, 10, 34), 'ACQUISITION-ENDDATE': datetime.datetime(2015, 6, 2, 10, 54, 10), 'STATUS': 'DIAGNOSIS', 'SETUP_NAME': 'DEFAULT', 'CYCLE': 'TRI133', 'TEST-LABEL': '035'}\n",
      "{'DATE': datetime.datetime(2015, 9, 2, 11, 7, 49), 'ACQUISITION-STARTDATE': datetime.datetime(2015, 9, 2, 11, 7, 49), 'ACQUISITION-ENDDATE': datetime.datetime(2015, 9, 2, 11, 28), 'STATUS': 'DIAGNOSIS', 'SETUP_NAME': 'DEFAULT', 'CYCLE': 'TRI133', 'TEST-LABEL': '036'}\n",
      "{'DATE': datetime.datetime(2015, 2, 16, 11, 42, 4), 'ACQUISITION-STARTDATE': datetime.datetime(2015, 2, 16, 11, 42, 4), 'ACQUISITION-ENDDATE': datetime.datetime(2015, 2, 16, 12, 2, 15), 'STATUS': 'DIAGNOSIS', 'SETUP_NAME': 'DEFAULT', 'CYCLE': 'TRI133', 'TEST-LABEL': '037'}\n",
      "{'DATE': datetime.datetime(2015, 2, 23, 11, 30, 1), 'ACQUISITION-STARTDATE': datetime.datetime(2015, 2, 23, 11, 30, 1), 'ACQUISITION-ENDDATE': datetime.datetime(2015, 2, 23, 11, 50, 12), 'STATUS': 'DIAGNOSIS', 'SETUP_NAME': 'DEFAULT', 'CYCLE': 'TRI133', 'TEST-LABEL': '038'}\n",
      "{'DATE': datetime.datetime(2015, 2, 3, 11, 35, 11), 'ACQUISITION-STARTDATE': datetime.datetime(2015, 2, 3, 11, 35, 11), 'ACQUISITION-ENDDATE': datetime.datetime(2015, 2, 3, 11, 55, 21), 'STATUS': 'DIAGNOSIS', 'SETUP_NAME': 'DEFAULT', 'CYCLE': 'TRI133', 'TEST-LABEL': '039'}\n",
      "{'DATE': datetime.datetime(2015, 9, 3, 11, 6, 8), 'ACQUISITION-STARTDATE': datetime.datetime(2015, 9, 3, 11, 6, 8), 'ACQUISITION-ENDDATE': datetime.datetime(2015, 9, 3, 11, 26, 19), 'STATUS': 'DIAGNOSIS', 'SETUP_NAME': 'DEFAULT', 'CYCLE': 'TRI133', 'TEST-LABEL': '041'}\n",
      "{'DATE': datetime.datetime(2015, 3, 16, 11, 14, 15), 'ACQUISITION-STARTDATE': datetime.datetime(2015, 3, 16, 11, 14, 15), 'ACQUISITION-ENDDATE': datetime.datetime(2015, 3, 16, 11, 34, 26), 'STATUS': 'DIAGNOSIS', 'SETUP_NAME': 'DEFAULT', 'CYCLE': 'TRI133', 'TEST-LABEL': '042'}\n",
      "{'DATE': datetime.datetime(2015, 3, 23, 11, 32, 37), 'ACQUISITION-STARTDATE': datetime.datetime(2015, 3, 23, 11, 32, 37), 'ACQUISITION-ENDDATE': datetime.datetime(2015, 3, 23, 11, 52, 48), 'STATUS': 'DIAGNOSIS', 'SETUP_NAME': 'DEFAULT', 'CYCLE': 'TRI133', 'TEST-LABEL': '043'}\n",
      "{'DATE': datetime.datetime(2015, 3, 30, 12, 25, 52), 'ACQUISITION-STARTDATE': datetime.datetime(2015, 3, 30, 12, 25, 52), 'ACQUISITION-ENDDATE': datetime.datetime(2015, 3, 30, 12, 46, 2), 'STATUS': 'DIAGNOSIS', 'SETUP_NAME': 'DEFAULT', 'CYCLE': 'TRI133', 'TEST-LABEL': '044'}\n",
      "{'DATE': datetime.datetime(2015, 7, 4, 11, 45, 35), 'ACQUISITION-STARTDATE': datetime.datetime(2015, 7, 4, 11, 45, 35), 'ACQUISITION-ENDDATE': datetime.datetime(2015, 7, 4, 12, 5, 46), 'STATUS': 'DIAGNOSIS', 'SETUP_NAME': 'DEFAULT', 'CYCLE': 'TRI133', 'TEST-LABEL': '045'}\n",
      "{'DATE': datetime.datetime(2015, 4, 13, 11, 32, 17), 'ACQUISITION-STARTDATE': datetime.datetime(2015, 4, 13, 11, 32, 17), 'ACQUISITION-ENDDATE': datetime.datetime(2015, 4, 13, 11, 52, 27), 'STATUS': 'DIAGNOSIS', 'SETUP_NAME': 'DEFAULT', 'CYCLE': 'TRI133', 'TEST-LABEL': '046'}\n",
      "{'DATE': datetime.datetime(2015, 4, 20, 17, 26, 40), 'ACQUISITION-STARTDATE': datetime.datetime(2015, 4, 20, 17, 26, 40), 'ACQUISITION-ENDDATE': datetime.datetime(2015, 4, 20, 17, 46, 50), 'STATUS': 'DIAGNOSIS', 'SETUP_NAME': 'DEFAULT', 'CYCLE': 'TRI133', 'TEST-LABEL': '047'}\n",
      "{'DATE': datetime.datetime(2015, 4, 27, 12, 15, 22), 'ACQUISITION-STARTDATE': datetime.datetime(2015, 4, 27, 12, 15, 22), 'ACQUISITION-ENDDATE': datetime.datetime(2015, 4, 27, 12, 35, 32), 'STATUS': 'DIAGNOSIS', 'SETUP_NAME': 'DEFAULT', 'CYCLE': 'TRI133', 'TEST-LABEL': '048'}\n",
      "{'DATE': datetime.datetime(2015, 4, 5, 12, 29, 36), 'ACQUISITION-STARTDATE': datetime.datetime(2015, 4, 5, 12, 29, 36), 'ACQUISITION-ENDDATE': datetime.datetime(2015, 4, 5, 12, 49, 47), 'STATUS': 'DIAGNOSIS', 'SETUP_NAME': 'DEFAULT', 'CYCLE': 'TRI133', 'TEST-LABEL': '049'}\n",
      "{'DATE': datetime.datetime(2015, 11, 5, 11, 58), 'ACQUISITION-STARTDATE': datetime.datetime(2015, 11, 5, 11, 58), 'ACQUISITION-ENDDATE': datetime.datetime(2015, 11, 5, 12, 18, 10), 'STATUS': 'DIAGNOSIS', 'SETUP_NAME': 'DEFAULT', 'CYCLE': 'TRI133', 'TEST-LABEL': '050'}\n",
      "{'DATE': datetime.datetime(2015, 5, 26, 12, 16, 58), 'ACQUISITION-STARTDATE': datetime.datetime(2015, 5, 26, 12, 16, 58), 'ACQUISITION-ENDDATE': datetime.datetime(2015, 5, 26, 12, 37, 8), 'STATUS': 'DIAGNOSIS', 'SETUP_NAME': 'DEFAULT', 'CYCLE': 'TRI133', 'TEST-LABEL': '052'}\n",
      "{'DATE': datetime.datetime(2015, 1, 6, 17, 6, 51), 'ACQUISITION-STARTDATE': datetime.datetime(2015, 1, 6, 17, 6, 51), 'ACQUISITION-ENDDATE': datetime.datetime(2015, 1, 6, 17, 27, 2), 'STATUS': 'DIAGNOSIS', 'SETUP_NAME': 'DEFAULT', 'CYCLE': 'TRI133', 'TEST-LABEL': '053'}\n",
      "{'DATE': datetime.datetime(2015, 8, 6, 11, 33, 14), 'ACQUISITION-STARTDATE': datetime.datetime(2015, 8, 6, 11, 33, 14), 'ACQUISITION-ENDDATE': datetime.datetime(2015, 8, 6, 11, 53, 25), 'STATUS': 'DIAGNOSIS', 'SETUP_NAME': 'DEFAULT', 'CYCLE': 'TRI133', 'TEST-LABEL': '054'}\n",
      "{'DATE': datetime.datetime(2015, 6, 22, 11, 43, 54), 'ACQUISITION-STARTDATE': datetime.datetime(2015, 6, 22, 11, 43, 54), 'ACQUISITION-ENDDATE': datetime.datetime(2015, 6, 22, 12, 4, 5), 'STATUS': 'DIAGNOSIS', 'SETUP_NAME': 'DEFAULT', 'CYCLE': 'TRI133', 'TEST-LABEL': '057'}\n",
      "{'DATE': datetime.datetime(2015, 10, 13, 16, 41, 2), 'ACQUISITION-STARTDATE': datetime.datetime(2015, 10, 13, 16, 41, 2), 'ACQUISITION-ENDDATE': datetime.datetime(2015, 10, 13, 17, 1, 13), 'STATUS': 'DIAGNOSIS', 'SETUP_NAME': 'DEFAULT', 'CYCLE': 'TRI134', 'TEST-LABEL': '018'}\n",
      "{'DATE': datetime.datetime(2015, 10, 19, 11, 58, 36), 'ACQUISITION-STARTDATE': datetime.datetime(2015, 10, 19, 11, 58, 36), 'ACQUISITION-ENDDATE': datetime.datetime(2015, 10, 19, 12, 18, 47), 'STATUS': 'DIAGNOSIS', 'SETUP_NAME': 'DEFAULT', 'CYCLE': 'TRI134', 'TEST-LABEL': '019'}\n",
      "{'DATE': datetime.datetime(2015, 10, 26, 11, 42, 2), 'ACQUISITION-STARTDATE': datetime.datetime(2015, 10, 26, 11, 42, 2), 'ACQUISITION-ENDDATE': datetime.datetime(2015, 10, 26, 12, 2, 13), 'STATUS': 'DIAGNOSIS', 'SETUP_NAME': 'DEFAULT', 'CYCLE': 'TRI134', 'TEST-LABEL': '023'}\n",
      "{'DATE': datetime.datetime(2015, 2, 11, 11, 46, 3), 'ACQUISITION-STARTDATE': datetime.datetime(2015, 2, 11, 11, 46, 3), 'ACQUISITION-ENDDATE': datetime.datetime(2015, 2, 11, 12, 6, 14), 'STATUS': 'DIAGNOSIS', 'SETUP_NAME': 'DEFAULT', 'CYCLE': 'TRI134', 'TEST-LABEL': '024'}\n",
      "{'DATE': datetime.datetime(2015, 11, 17, 15, 26, 43), 'ACQUISITION-STARTDATE': datetime.datetime(2015, 11, 17, 15, 26, 43), 'ACQUISITION-ENDDATE': datetime.datetime(2015, 11, 17, 15, 46, 53), 'STATUS': 'DIAGNOSIS', 'SETUP_NAME': 'DEFAULT', 'CYCLE': 'TRI134', 'TEST-LABEL': '026'}\n",
      "{'DATE': datetime.datetime(2015, 11, 30, 10, 26, 10), 'ACQUISITION-STARTDATE': datetime.datetime(2015, 11, 30, 10, 26, 10), 'ACQUISITION-ENDDATE': datetime.datetime(2015, 11, 30, 10, 46, 20), 'STATUS': 'DIAGNOSIS', 'SETUP_NAME': 'DEFAULT', 'CYCLE': 'TRI134', 'TEST-LABEL': '028'}\n",
      "{'DATE': datetime.datetime(2015, 7, 12, 17, 26, 36), 'ACQUISITION-STARTDATE': datetime.datetime(2015, 7, 12, 17, 26, 36), 'ACQUISITION-ENDDATE': datetime.datetime(2015, 7, 12, 17, 46, 46), 'STATUS': 'DIAGNOSIS', 'SETUP_NAME': 'DEFAULT', 'CYCLE': 'TRI134', 'TEST-LABEL': '031'}\n",
      "{'DATE': datetime.datetime(2015, 12, 17, 10, 43, 39), 'ACQUISITION-STARTDATE': datetime.datetime(2015, 12, 17, 10, 43, 39), 'ACQUISITION-ENDDATE': datetime.datetime(2015, 12, 17, 11, 3, 50), 'STATUS': 'DIAGNOSIS', 'SETUP_NAME': 'DEFAULT', 'CYCLE': 'TRI134', 'TEST-LABEL': '033'}\n",
      "{'DATE': datetime.datetime(2015, 12, 22, 11, 33, 33), 'ACQUISITION-STARTDATE': datetime.datetime(2015, 12, 22, 11, 33, 33), 'ACQUISITION-ENDDATE': datetime.datetime(2015, 12, 22, 11, 53, 44), 'STATUS': 'DIAGNOSIS', 'SETUP_NAME': 'DEFAULT', 'CYCLE': 'TRI134', 'TEST-LABEL': '034'}\n",
      "{'DATE': datetime.datetime(2015, 12, 28, 10, 26, 33), 'ACQUISITION-STARTDATE': datetime.datetime(2015, 12, 28, 10, 26, 33), 'ACQUISITION-ENDDATE': datetime.datetime(2015, 12, 28, 10, 46, 43), 'STATUS': 'DIAGNOSIS', 'SETUP_NAME': 'DEFAULT', 'CYCLE': 'TRI134', 'TEST-LABEL': '035'}\n",
      "{'DATE': datetime.datetime(2016, 4, 1, 11, 13, 57), 'ACQUISITION-STARTDATE': datetime.datetime(2016, 4, 1, 11, 13, 57), 'ACQUISITION-ENDDATE': datetime.datetime(2016, 4, 1, 11, 34, 7), 'STATUS': 'DIAGNOSIS', 'SETUP_NAME': 'DEFAULT', 'CYCLE': 'TRI134', 'TEST-LABEL': '036'}\n",
      "{'DATE': datetime.datetime(2016, 11, 1, 11, 13, 48), 'ACQUISITION-STARTDATE': datetime.datetime(2016, 11, 1, 11, 13, 48), 'ACQUISITION-ENDDATE': datetime.datetime(2016, 11, 1, 11, 33, 59), 'STATUS': 'DIAGNOSIS', 'SETUP_NAME': 'DEFAULT', 'CYCLE': 'TRI134', 'TEST-LABEL': '037'}\n",
      "{'DATE': datetime.datetime(2016, 1, 18, 11, 21, 40), 'ACQUISITION-STARTDATE': datetime.datetime(2016, 1, 18, 11, 21, 40), 'ACQUISITION-ENDDATE': datetime.datetime(2016, 1, 18, 11, 41, 50), 'STATUS': 'DIAGNOSIS', 'SETUP_NAME': 'DEFAULT', 'CYCLE': 'TRI134', 'TEST-LABEL': '038'}\n",
      "{'DATE': datetime.datetime(2016, 1, 25, 10, 59, 38), 'ACQUISITION-STARTDATE': datetime.datetime(2016, 1, 25, 10, 59, 38), 'ACQUISITION-ENDDATE': datetime.datetime(2016, 1, 25, 11, 19, 49), 'STATUS': 'DIAGNOSIS', 'SETUP_NAME': 'DEFAULT', 'CYCLE': 'TRI134', 'TEST-LABEL': '039'}\n",
      "{'DATE': datetime.datetime(2016, 1, 2, 12, 35, 12), 'ACQUISITION-STARTDATE': datetime.datetime(2016, 1, 2, 12, 35, 12), 'ACQUISITION-ENDDATE': datetime.datetime(2016, 1, 2, 12, 55, 22), 'STATUS': 'DIAGNOSIS', 'SETUP_NAME': 'DEFAULT', 'CYCLE': 'TRI134', 'TEST-LABEL': '041'}\n",
      "{'DATE': datetime.datetime(2016, 8, 2, 10, 49, 23), 'ACQUISITION-STARTDATE': datetime.datetime(2016, 8, 2, 10, 49, 23), 'ACQUISITION-ENDDATE': datetime.datetime(2016, 8, 2, 11, 9, 33), 'STATUS': 'DIAGNOSIS', 'SETUP_NAME': 'DEFAULT', 'CYCLE': 'TRI134', 'TEST-LABEL': '044'}\n",
      "{'DATE': datetime.datetime(2016, 2, 15, 11, 23, 1), 'ACQUISITION-STARTDATE': datetime.datetime(2016, 2, 15, 11, 23, 1), 'ACQUISITION-ENDDATE': datetime.datetime(2016, 2, 15, 11, 43, 11), 'STATUS': 'DIAGNOSIS', 'SETUP_NAME': 'DEFAULT', 'CYCLE': 'TRI134', 'TEST-LABEL': '045'}\n",
      "{'DATE': datetime.datetime(2016, 2, 22, 10, 24, 6), 'ACQUISITION-STARTDATE': datetime.datetime(2016, 2, 22, 10, 24, 6), 'ACQUISITION-ENDDATE': datetime.datetime(2016, 2, 22, 10, 44, 16), 'STATUS': 'DIAGNOSIS', 'SETUP_NAME': 'DEFAULT', 'CYCLE': 'TRI134', 'TEST-LABEL': '046'}\n",
      "{'DATE': datetime.datetime(2016, 7, 3, 11, 17, 59), 'ACQUISITION-STARTDATE': datetime.datetime(2016, 7, 3, 11, 17, 59), 'ACQUISITION-ENDDATE': datetime.datetime(2016, 7, 3, 11, 38, 10), 'STATUS': 'DIAGNOSIS', 'SETUP_NAME': 'DEFAULT', 'CYCLE': 'TRI134', 'TEST-LABEL': '047'}\n",
      "{'DATE': datetime.datetime(2016, 3, 14, 10, 59, 11), 'ACQUISITION-STARTDATE': datetime.datetime(2016, 3, 14, 10, 59, 11), 'ACQUISITION-ENDDATE': datetime.datetime(2016, 3, 14, 11, 19, 21), 'STATUS': 'DIAGNOSIS', 'SETUP_NAME': 'DEFAULT', 'CYCLE': 'TRI134', 'TEST-LABEL': '048'}\n",
      "{'DATE': datetime.datetime(2016, 3, 21, 10, 59, 15), 'ACQUISITION-STARTDATE': datetime.datetime(2016, 3, 21, 10, 59, 15), 'ACQUISITION-ENDDATE': datetime.datetime(2016, 3, 21, 11, 19, 25), 'STATUS': 'DIAGNOSIS', 'SETUP_NAME': 'DEFAULT', 'CYCLE': 'TRI134', 'TEST-LABEL': '049'}\n",
      "{'DATE': datetime.datetime(2016, 3, 29, 11, 53, 40), 'ACQUISITION-STARTDATE': datetime.datetime(2016, 3, 29, 11, 53, 40), 'ACQUISITION-ENDDATE': datetime.datetime(2016, 3, 29, 12, 13, 50), 'STATUS': 'DIAGNOSIS', 'SETUP_NAME': 'DEFAULT', 'CYCLE': 'TRI134', 'TEST-LABEL': '050'}\n",
      "{'DATE': datetime.datetime(2016, 11, 4, 11, 38, 43), 'ACQUISITION-STARTDATE': datetime.datetime(2016, 11, 4, 11, 38, 43), 'ACQUISITION-ENDDATE': datetime.datetime(2016, 11, 4, 11, 58, 53), 'STATUS': 'DIAGNOSIS', 'SETUP_NAME': 'DEFAULT', 'CYCLE': 'TRI134', 'TEST-LABEL': '053'}\n",
      "{'DATE': datetime.datetime(2016, 4, 18, 12, 9, 57), 'ACQUISITION-STARTDATE': datetime.datetime(2016, 4, 18, 12, 9, 57), 'ACQUISITION-ENDDATE': datetime.datetime(2016, 4, 18, 12, 30, 7), 'STATUS': 'DIAGNOSIS', 'SETUP_NAME': 'DEFAULT', 'CYCLE': 'TRI134', 'TEST-LABEL': '054'}\n",
      "{'DATE': datetime.datetime(2016, 9, 5, 13, 32, 2), 'ACQUISITION-STARTDATE': datetime.datetime(2016, 9, 5, 13, 32, 2), 'ACQUISITION-ENDDATE': datetime.datetime(2016, 9, 5, 13, 52, 12), 'STATUS': 'DIAGNOSIS', 'SETUP_NAME': 'DEFAULT', 'CYCLE': 'TRI134', 'TEST-LABEL': '056'}\n",
      "{'DATE': datetime.datetime(2016, 5, 17, 11, 33, 6), 'ACQUISITION-STARTDATE': datetime.datetime(2016, 5, 17, 11, 33, 6), 'ACQUISITION-ENDDATE': datetime.datetime(2016, 5, 17, 11, 53, 16), 'STATUS': 'DIAGNOSIS', 'SETUP_NAME': 'DEFAULT', 'CYCLE': 'TRI134', 'TEST-LABEL': '058'}\n",
      "{'DATE': datetime.datetime(2016, 5, 23, 13, 2, 46), 'ACQUISITION-STARTDATE': datetime.datetime(2016, 5, 23, 13, 2, 46), 'ACQUISITION-ENDDATE': datetime.datetime(2016, 5, 23, 13, 22, 57), 'STATUS': 'DIAGNOSIS', 'SETUP_NAME': 'DEFAULT', 'CYCLE': 'TRI134', 'TEST-LABEL': '059'}\n",
      "{'DATE': datetime.datetime(2016, 6, 6, 10, 51, 9), 'ACQUISITION-STARTDATE': datetime.datetime(2016, 6, 6, 10, 51, 9), 'ACQUISITION-ENDDATE': datetime.datetime(2016, 6, 6, 11, 11, 19), 'STATUS': 'DIAGNOSIS', 'SETUP_NAME': 'DEFAULT', 'CYCLE': 'TRI134', 'TEST-LABEL': '060'}\n",
      "{'DATE': datetime.datetime(2016, 6, 13, 12, 11, 58), 'ACQUISITION-STARTDATE': datetime.datetime(2016, 6, 13, 12, 11, 58), 'ACQUISITION-ENDDATE': datetime.datetime(2016, 6, 13, 12, 32, 8), 'STATUS': 'DIAGNOSIS', 'SETUP_NAME': 'DEFAULT', 'CYCLE': 'TRI134', 'TEST-LABEL': '061'}\n",
      "{'DATE': datetime.datetime(2016, 6, 20, 11, 54, 42), 'ACQUISITION-STARTDATE': datetime.datetime(2016, 6, 20, 11, 54, 42), 'ACQUISITION-ENDDATE': datetime.datetime(2016, 6, 20, 12, 14, 53), 'STATUS': 'DIAGNOSIS', 'SETUP_NAME': 'DEFAULT', 'CYCLE': 'TRI134', 'TEST-LABEL': '062'}\n",
      "{'DATE': datetime.datetime(2016, 4, 7, 11, 32, 53), 'ACQUISITION-STARTDATE': datetime.datetime(2016, 4, 7, 11, 32, 53), 'ACQUISITION-ENDDATE': datetime.datetime(2016, 4, 7, 11, 53, 3), 'STATUS': 'DIAGNOSIS', 'SETUP_NAME': 'DEFAULT', 'CYCLE': 'TRI134', 'TEST-LABEL': '064'}\n",
      "{'DATE': datetime.datetime(2016, 7, 25, 11, 34, 30), 'ACQUISITION-STARTDATE': datetime.datetime(2016, 7, 25, 11, 34, 30), 'ACQUISITION-ENDDATE': datetime.datetime(2016, 7, 25, 11, 54, 40), 'STATUS': 'DIAGNOSIS', 'SETUP_NAME': 'DEFAULT', 'CYCLE': 'TRI134', 'TEST-LABEL': '067'}\n",
      "{'DATE': datetime.datetime(2017, 6, 2, 11, 53, 26), 'ACQUISITION-STARTDATE': datetime.datetime(2017, 6, 2, 11, 53, 26), 'ACQUISITION-ENDDATE': datetime.datetime(2017, 6, 2, 12, 13, 36), 'STATUS': 'DIAGNOSIS', 'SETUP_NAME': 'DEFAULT', 'CYCLE': 'TRI135', 'TEST-LABEL': '025'}\n",
      "{'DATE': datetime.datetime(2017, 2, 27, 15, 10, 53), 'ACQUISITION-STARTDATE': datetime.datetime(2017, 2, 27, 15, 10, 53), 'ACQUISITION-ENDDATE': datetime.datetime(2017, 2, 27, 15, 31, 3), 'STATUS': 'DIAGNOSIS', 'SETUP_NAME': 'DEFAULT', 'CYCLE': 'TRI135', 'TEST-LABEL': '029'}\n",
      "{'DATE': datetime.datetime(2017, 6, 3, 11, 46, 3), 'ACQUISITION-STARTDATE': datetime.datetime(2017, 6, 3, 11, 46, 3), 'ACQUISITION-ENDDATE': datetime.datetime(2017, 6, 3, 12, 6, 14), 'STATUS': 'DIAGNOSIS', 'SETUP_NAME': 'DEFAULT', 'CYCLE': 'TRI135', 'TEST-LABEL': '030'}\n",
      "{'DATE': datetime.datetime(2017, 3, 20, 11, 58, 55), 'ACQUISITION-STARTDATE': datetime.datetime(2017, 3, 20, 11, 58, 55), 'ACQUISITION-ENDDATE': datetime.datetime(2017, 3, 20, 12, 19, 6), 'STATUS': 'DIAGNOSIS', 'SETUP_NAME': 'DEFAULT', 'CYCLE': 'TRI135', 'TEST-LABEL': '038'}\n",
      "{'DATE': datetime.datetime(2017, 3, 27, 12, 33, 3), 'ACQUISITION-STARTDATE': datetime.datetime(2017, 3, 27, 12, 33, 3), 'ACQUISITION-ENDDATE': datetime.datetime(2017, 3, 27, 12, 53, 13), 'STATUS': 'DIAGNOSIS', 'SETUP_NAME': 'DEFAULT', 'CYCLE': 'TRI135', 'TEST-LABEL': '039'}\n",
      "{'DATE': datetime.datetime(2017, 3, 4, 17, 35, 25), 'ACQUISITION-STARTDATE': datetime.datetime(2017, 3, 4, 17, 35, 25), 'ACQUISITION-ENDDATE': datetime.datetime(2017, 3, 4, 17, 55, 35), 'STATUS': 'DIAGNOSIS', 'SETUP_NAME': 'DEFAULT', 'CYCLE': 'TRI135', 'TEST-LABEL': '041'}\n",
      "{'DATE': datetime.datetime(2017, 10, 4, 12, 52), 'ACQUISITION-STARTDATE': datetime.datetime(2017, 10, 4, 12, 52), 'ACQUISITION-ENDDATE': datetime.datetime(2017, 10, 4, 13, 12, 10), 'STATUS': 'DIAGNOSIS', 'SETUP_NAME': 'DEFAULT', 'CYCLE': 'TRI135', 'TEST-LABEL': '046'}\n",
      "{'DATE': datetime.datetime(2017, 4, 24, 11, 33, 39), 'ACQUISITION-STARTDATE': datetime.datetime(2017, 4, 24, 11, 33, 39), 'ACQUISITION-ENDDATE': datetime.datetime(2017, 4, 24, 11, 53, 49), 'STATUS': 'DIAGNOSIS', 'SETUP_NAME': 'DEFAULT', 'CYCLE': 'TRI135', 'TEST-LABEL': '049'}\n",
      "{'DATE': datetime.datetime(2017, 9, 5, 11, 42, 10), 'ACQUISITION-STARTDATE': datetime.datetime(2017, 9, 5, 11, 42, 10), 'ACQUISITION-ENDDATE': datetime.datetime(2017, 9, 5, 12, 2, 21), 'STATUS': 'DIAGNOSIS', 'SETUP_NAME': 'DEFAULT', 'CYCLE': 'TRI135', 'TEST-LABEL': '051'}\n",
      "{'DATE': datetime.datetime(2017, 5, 15, 11, 57, 11), 'ACQUISITION-STARTDATE': datetime.datetime(2017, 5, 15, 11, 57, 11), 'ACQUISITION-ENDDATE': datetime.datetime(2017, 5, 15, 12, 17, 22), 'STATUS': 'DIAGNOSIS', 'SETUP_NAME': 'DEFAULT', 'CYCLE': 'TRI135', 'TEST-LABEL': '053'}\n",
      "{'DATE': datetime.datetime(2017, 6, 6, 18, 4), 'ACQUISITION-STARTDATE': datetime.datetime(2017, 6, 6, 18, 4), 'ACQUISITION-ENDDATE': datetime.datetime(2017, 6, 6, 18, 24, 10), 'STATUS': 'DIAGNOSIS', 'SETUP_NAME': 'DEFAULT', 'CYCLE': 'TRI135', 'TEST-LABEL': '060'}\n",
      "{'DATE': datetime.datetime(2017, 6, 26, 13, 20, 2), 'ACQUISITION-STARTDATE': datetime.datetime(2017, 6, 26, 13, 20, 2), 'ACQUISITION-ENDDATE': datetime.datetime(2017, 6, 26, 13, 40, 12), 'STATUS': 'DIAGNOSIS', 'SETUP_NAME': 'DEFAULT', 'CYCLE': 'TRI135', 'TEST-LABEL': '069'}\n",
      "{'DATE': datetime.datetime(2017, 3, 7, 15, 58, 57), 'ACQUISITION-STARTDATE': datetime.datetime(2017, 3, 7, 15, 58, 57), 'ACQUISITION-ENDDATE': datetime.datetime(2017, 3, 7, 16, 19, 8), 'STATUS': 'DIAGNOSIS', 'SETUP_NAME': 'DEFAULT', 'CYCLE': 'TRI135', 'TEST-LABEL': '071'}\n",
      "{'DATE': datetime.datetime(2017, 7, 17, 16, 16, 25), 'ACQUISITION-STARTDATE': datetime.datetime(2017, 7, 17, 16, 16, 25), 'ACQUISITION-ENDDATE': datetime.datetime(2017, 7, 17, 16, 36, 35), 'STATUS': 'DIAGNOSIS', 'SETUP_NAME': 'DEFAULT', 'CYCLE': 'TRI135', 'TEST-LABEL': '074'}\n",
      "{'DATE': datetime.datetime(2017, 7, 24, 13, 21, 50), 'ACQUISITION-STARTDATE': datetime.datetime(2017, 7, 24, 13, 21, 50), 'ACQUISITION-ENDDATE': datetime.datetime(2017, 7, 24, 13, 42), 'STATUS': 'DIAGNOSIS', 'SETUP_NAME': 'DEFAULT', 'CYCLE': 'TRI135', 'TEST-LABEL': '075'}\n",
      "{'DATE': datetime.datetime(2017, 11, 9, 12, 4, 10), 'ACQUISITION-STARTDATE': datetime.datetime(2017, 11, 9, 12, 4, 10), 'ACQUISITION-ENDDATE': datetime.datetime(2017, 11, 9, 12, 24, 20), 'STATUS': 'DIAGNOSIS', 'SETUP_NAME': 'DEFAULT', 'CYCLE': 'TRI135', 'TEST-LABEL': '77'}\n",
      "{'DATE': datetime.datetime(2017, 9, 18, 11, 15, 49), 'ACQUISITION-STARTDATE': datetime.datetime(2017, 9, 18, 11, 15, 49), 'ACQUISITION-ENDDATE': datetime.datetime(2017, 9, 18, 11, 35, 59), 'STATUS': 'DIAGNOSIS', 'SETUP_NAME': 'DEFAULT', 'CYCLE': 'TRI135', 'TEST-LABEL': '078'}\n",
      "{'DATE': datetime.datetime(2017, 9, 25, 13, 14, 2), 'ACQUISITION-STARTDATE': datetime.datetime(2017, 9, 25, 13, 14, 2), 'ACQUISITION-ENDDATE': datetime.datetime(2017, 9, 25, 13, 34, 13), 'STATUS': 'DIAGNOSIS', 'SETUP_NAME': 'DEFAULT', 'CYCLE': 'TRI135', 'TEST-LABEL': '079'}\n",
      "{'DATE': datetime.datetime(2018, 1, 23, 14, 57, 45), 'ACQUISITION-STARTDATE': datetime.datetime(2018, 1, 23, 14, 57, 45), 'ACQUISITION-ENDDATE': datetime.datetime(2018, 1, 23, 15, 17, 56), 'STATUS': 'DIAGNOSIS', 'SETUP_NAME': 'DEFAULT', 'CYCLE': 'TRI135', 'TEST-LABEL': '098'}\n",
      "{'DATE': datetime.datetime(2018, 1, 29, 11, 28, 55), 'ACQUISITION-STARTDATE': datetime.datetime(2018, 1, 29, 11, 28, 55), 'ACQUISITION-ENDDATE': datetime.datetime(2018, 1, 29, 11, 49, 6), 'STATUS': 'DIAGNOSIS', 'SETUP_NAME': 'DEFAULT', 'CYCLE': 'TRI135', 'TEST-LABEL': '102'}\n",
      "{'DATE': datetime.datetime(2018, 5, 2, 16, 29, 48), 'ACQUISITION-STARTDATE': datetime.datetime(2018, 5, 2, 16, 29, 48), 'ACQUISITION-ENDDATE': datetime.datetime(2018, 5, 2, 16, 49, 59), 'STATUS': 'DIAGNOSIS', 'SETUP_NAME': 'DEFAULT', 'CYCLE': 'TRI135', 'TEST-LABEL': '107'}\n",
      "{'DATE': datetime.datetime(2018, 12, 2, 10, 44, 19), 'ACQUISITION-STARTDATE': datetime.datetime(2018, 12, 2, 10, 44, 19), 'ACQUISITION-ENDDATE': datetime.datetime(2018, 12, 2, 11, 4, 29), 'STATUS': 'DIAGNOSIS', 'SETUP_NAME': 'DEFAULT', 'CYCLE': 'TRI135', 'TEST-LABEL': '108'}\n",
      "{'DATE': datetime.datetime(2018, 2, 19, 10, 41, 44), 'ACQUISITION-STARTDATE': datetime.datetime(2018, 2, 19, 10, 41, 44), 'ACQUISITION-ENDDATE': datetime.datetime(2018, 2, 19, 11, 1, 54), 'STATUS': 'DIAGNOSIS', 'SETUP_NAME': 'DEFAULT', 'CYCLE': 'TRI135', 'TEST-LABEL': '110'}\n",
      "{'DATE': datetime.datetime(2018, 2, 26, 11, 28, 26), 'ACQUISITION-STARTDATE': datetime.datetime(2018, 2, 26, 11, 28, 26), 'ACQUISITION-ENDDATE': datetime.datetime(2018, 2, 26, 11, 48, 36), 'STATUS': 'DIAGNOSIS', 'SETUP_NAME': 'DEFAULT', 'CYCLE': 'TRI135', 'TEST-LABEL': '115'}\n",
      "{'DATE': datetime.datetime(2018, 5, 3, 11, 7, 55), 'ACQUISITION-STARTDATE': datetime.datetime(2018, 5, 3, 11, 7, 55), 'ACQUISITION-ENDDATE': datetime.datetime(2018, 5, 3, 11, 28, 5), 'STATUS': 'DIAGNOSIS', 'SETUP_NAME': 'DEFAULT', 'CYCLE': 'TRI135', 'TEST-LABEL': '116'}\n",
      "{'DATE': datetime.datetime(2018, 12, 3, 11, 38, 21), 'ACQUISITION-STARTDATE': datetime.datetime(2018, 12, 3, 11, 38, 21), 'ACQUISITION-ENDDATE': datetime.datetime(2018, 12, 3, 11, 58, 31), 'STATUS': 'DIAGNOSIS', 'SETUP_NAME': 'DEFAULT', 'CYCLE': 'TRI135', 'TEST-LABEL': '118'}\n",
      "{'DATE': datetime.datetime(2018, 3, 19, 10, 34, 19), 'ACQUISITION-STARTDATE': datetime.datetime(2018, 3, 19, 10, 34, 19), 'ACQUISITION-ENDDATE': datetime.datetime(2018, 3, 19, 10, 54, 29), 'STATUS': 'DIAGNOSIS', 'SETUP_NAME': 'DEFAULT', 'CYCLE': 'TRI135', 'TEST-LABEL': '119'}\n",
      "{'DATE': datetime.datetime(2018, 3, 26, 11, 55, 33), 'ACQUISITION-STARTDATE': datetime.datetime(2018, 3, 26, 11, 55, 33), 'ACQUISITION-ENDDATE': datetime.datetime(2018, 3, 26, 12, 15, 43), 'STATUS': 'DIAGNOSIS', 'SETUP_NAME': 'DEFAULT', 'CYCLE': 'TRI135', 'TEST-LABEL': '120'}\n",
      "{'DATE': datetime.datetime(2018, 8, 22, 12, 40, 29), 'ACQUISITION-STARTDATE': datetime.datetime(2018, 8, 22, 12, 40, 29), 'ACQUISITION-ENDDATE': datetime.datetime(2018, 8, 22, 13, 0, 40), 'STATUS': 'DIAGNOSIS', 'SETUP_NAME': 'DEFAULT', 'CYCLE': 'TRI136', 'TEST-LABEL': '014'}\n",
      "{'DATE': datetime.datetime(2018, 8, 27, 12, 54, 51), 'ACQUISITION-STARTDATE': datetime.datetime(2018, 8, 27, 12, 54, 51), 'ACQUISITION-ENDDATE': datetime.datetime(2018, 8, 27, 13, 17, 16), 'STATUS': 'DIAGNOSIS', 'SETUP_NAME': 'DEFAULT', 'CYCLE': 'TRI136', 'TEST-LABEL': '017'}\n",
      "{'DATE': datetime.datetime(2018, 3, 9, 12, 34, 4), 'ACQUISITION-STARTDATE': datetime.datetime(2018, 3, 9, 12, 34, 4), 'ACQUISITION-ENDDATE': datetime.datetime(2018, 3, 9, 12, 54, 14), 'STATUS': 'DIAGNOSIS', 'SETUP_NAME': 'DEFAULT', 'CYCLE': 'TRI136', 'TEST-LABEL': '019'}\n",
      "{'DATE': datetime.datetime(2018, 4, 9, 17, 5, 37), 'ACQUISITION-STARTDATE': datetime.datetime(2018, 4, 9, 17, 5, 37), 'ACQUISITION-ENDDATE': datetime.datetime(2018, 4, 9, 17, 25, 48), 'STATUS': 'DIAGNOSIS', 'SETUP_NAME': 'DEFAULT', 'CYCLE': 'TRI136', 'TEST-LABEL': '020'}\n",
      "{'DATE': datetime.datetime(2018, 10, 9, 17, 22, 12), 'ACQUISITION-STARTDATE': datetime.datetime(2018, 10, 9, 17, 22, 12), 'ACQUISITION-ENDDATE': datetime.datetime(2018, 10, 9, 17, 51, 28), 'STATUS': 'DIAGNOSIS', 'SETUP_NAME': 'DEFAULT', 'CYCLE': 'TRI136', 'TEST-LABEL': '021'}\n",
      "{'DATE': datetime.datetime(2018, 9, 17, 12, 22, 35), 'ACQUISITION-STARTDATE': datetime.datetime(2018, 9, 17, 12, 22, 35), 'ACQUISITION-ENDDATE': datetime.datetime(2018, 9, 17, 12, 42, 46), 'STATUS': 'DIAGNOSIS', 'SETUP_NAME': 'DEFAULT', 'CYCLE': 'TRI136', 'TEST-LABEL': '024'}\n",
      "{'DATE': datetime.datetime(2018, 2, 10, 11, 15, 41), 'ACQUISITION-STARTDATE': datetime.datetime(2018, 2, 10, 11, 15, 41), 'ACQUISITION-ENDDATE': datetime.datetime(2018, 2, 10, 11, 35, 51), 'STATUS': 'DIAGNOSIS', 'SETUP_NAME': 'DEFAULT', 'CYCLE': 'TRI136', 'TEST-LABEL': '027'}\n",
      "{'DATE': datetime.datetime(2018, 10, 22, 10, 37, 5), 'ACQUISITION-STARTDATE': datetime.datetime(2018, 10, 22, 10, 37, 5), 'ACQUISITION-ENDDATE': datetime.datetime(2018, 10, 22, 10, 57, 10), 'STATUS': 'DIAGNOSIS', 'SETUP_NAME': 'DEFAULT', 'CYCLE': 'TRI136', 'TEST-LABEL': '039'}\n",
      "{'DATE': datetime.datetime(2018, 10, 23, 12, 48, 47), 'ACQUISITION-STARTDATE': datetime.datetime(2018, 10, 23, 12, 48, 47), 'ACQUISITION-ENDDATE': datetime.datetime(2018, 10, 23, 13, 8, 52), 'STATUS': 'DIAGNOSIS', 'SETUP_NAME': 'DEFAULT', 'CYCLE': 'TRI136', 'TEST-LABEL': '041'}\n",
      "{'DATE': datetime.datetime(2018, 10, 29, 14, 20, 17), 'ACQUISITION-STARTDATE': datetime.datetime(2018, 10, 29, 14, 20, 17), 'ACQUISITION-ENDDATE': datetime.datetime(2018, 10, 29, 14, 40, 23), 'STATUS': 'DIAGNOSIS', 'SETUP_NAME': 'DEFAULT', 'CYCLE': 'TRI136', 'TEST-LABEL': '042'}\n",
      "{'DATE': datetime.datetime(2018, 5, 11, 15, 48, 33), 'ACQUISITION-STARTDATE': datetime.datetime(2018, 5, 11, 15, 48, 33), 'ACQUISITION-ENDDATE': datetime.datetime(2018, 5, 11, 16, 8, 38), 'STATUS': 'DIAGNOSIS', 'SETUP_NAME': 'DEFAULT', 'CYCLE': 'TRI136', 'TEST-LABEL': '043'}\n",
      "{'DATE': datetime.datetime(2018, 12, 11, 15, 15, 18), 'ACQUISITION-STARTDATE': datetime.datetime(2018, 12, 11, 15, 15, 18), 'ACQUISITION-ENDDATE': datetime.datetime(2018, 12, 11, 15, 35, 24), 'STATUS': 'DIAGNOSIS', 'SETUP_NAME': 'DEFAULT', 'CYCLE': 'TRI136', 'TEST-LABEL': '044'}\n",
      "{'DATE': datetime.datetime(2018, 11, 19, 11, 3, 18), 'ACQUISITION-STARTDATE': datetime.datetime(2018, 11, 19, 11, 3, 18), 'ACQUISITION-ENDDATE': datetime.datetime(2018, 11, 19, 11, 23, 23), 'STATUS': 'DIAGNOSIS', 'SETUP_NAME': 'DEFAULT', 'CYCLE': 'TRI136', 'TEST-LABEL': '046'}\n",
      "{'DATE': datetime.datetime(2018, 11, 26, 10, 44, 13), 'ACQUISITION-STARTDATE': datetime.datetime(2018, 11, 26, 10, 44, 13), 'ACQUISITION-ENDDATE': datetime.datetime(2018, 11, 26, 11, 4, 19), 'STATUS': 'DIAGNOSIS', 'SETUP_NAME': 'DEFAULT', 'CYCLE': 'TRI136', 'TEST-LABEL': '047'}\n",
      "{'DATE': datetime.datetime(2018, 3, 12, 11, 11, 42), 'ACQUISITION-STARTDATE': datetime.datetime(2018, 3, 12, 11, 11, 42), 'ACQUISITION-ENDDATE': datetime.datetime(2018, 3, 12, 11, 31, 47), 'STATUS': 'DIAGNOSIS', 'SETUP_NAME': 'DEFAULT', 'CYCLE': 'TRI136', 'TEST-LABEL': '048'}\n",
      "{'DATE': datetime.datetime(2018, 12, 12, 12, 9, 56), 'ACQUISITION-STARTDATE': datetime.datetime(2018, 12, 12, 12, 9, 56), 'ACQUISITION-ENDDATE': datetime.datetime(2018, 12, 12, 12, 30, 1), 'STATUS': 'DIAGNOSIS', 'SETUP_NAME': 'DEFAULT', 'CYCLE': 'TRI136', 'TEST-LABEL': '049'}\n",
      "{'DATE': datetime.datetime(2018, 12, 17, 11, 21, 31), 'ACQUISITION-STARTDATE': datetime.datetime(2018, 12, 17, 11, 21, 31), 'ACQUISITION-ENDDATE': datetime.datetime(2018, 12, 17, 11, 41, 37), 'STATUS': 'DIAGNOSIS', 'SETUP_NAME': 'DEFAULT', 'CYCLE': 'TRI136', 'TEST-LABEL': '050'}\n",
      "{'DATE': datetime.datetime(2018, 12, 24, 11, 39, 46), 'ACQUISITION-STARTDATE': datetime.datetime(2018, 12, 24, 11, 39, 46), 'ACQUISITION-ENDDATE': datetime.datetime(2018, 12, 24, 12, 19, 52), 'STATUS': 'DIAGNOSIS', 'SETUP_NAME': 'DEFAULT', 'CYCLE': 'TRI136', 'TEST-LABEL': '052'}\n",
      "{'DATE': datetime.datetime(2018, 12, 31, 11, 12, 9), 'ACQUISITION-STARTDATE': datetime.datetime(2018, 12, 31, 11, 12, 9), 'ACQUISITION-ENDDATE': datetime.datetime(2018, 12, 31, 11, 32, 14), 'STATUS': 'DIAGNOSIS', 'SETUP_NAME': 'DEFAULT', 'CYCLE': 'TRI136', 'TEST-LABEL': '054'}\n",
      "{'DATE': datetime.datetime(2019, 1, 14, 11, 1, 22), 'ACQUISITION-STARTDATE': datetime.datetime(2019, 1, 14, 11, 1, 22), 'ACQUISITION-ENDDATE': datetime.datetime(2019, 1, 14, 11, 21, 28), 'STATUS': 'DIAGNOSIS', 'SETUP_NAME': 'DEFAULT', 'CYCLE': 'TRI136', 'TEST-LABEL': '056'}\n",
      "{'DATE': datetime.datetime(2019, 2, 18, 11, 20, 32), 'ACQUISITION-STARTDATE': datetime.datetime(2019, 2, 18, 11, 20, 32), 'ACQUISITION-ENDDATE': datetime.datetime(2019, 2, 18, 11, 40, 38), 'STATUS': 'DIAGNOSIS', 'SETUP_NAME': 'DEFAULT', 'CYCLE': 'TRI136', 'TEST-LABEL': '061'}\n",
      "{'DATE': datetime.datetime(2019, 2, 25, 11, 47, 13), 'ACQUISITION-STARTDATE': datetime.datetime(2019, 2, 25, 11, 47, 13), 'ACQUISITION-ENDDATE': datetime.datetime(2019, 2, 25, 12, 7, 19), 'STATUS': 'DIAGNOSIS', 'SETUP_NAME': 'DEFAULT', 'CYCLE': 'TRI136', 'TEST-LABEL': '063'}\n",
      "{'DATE': datetime.datetime(2019, 4, 3, 10, 48, 4), 'ACQUISITION-STARTDATE': datetime.datetime(2019, 4, 3, 10, 48, 4), 'ACQUISITION-ENDDATE': datetime.datetime(2019, 4, 3, 11, 8, 10), 'STATUS': 'DIAGNOSIS', 'SETUP_NAME': 'DEFAULT', 'CYCLE': 'TRI136', 'TEST-LABEL': '064'}\n",
      "{'DATE': datetime.datetime(2019, 11, 3, 15, 39, 30), 'ACQUISITION-STARTDATE': datetime.datetime(2019, 11, 3, 15, 39, 30), 'ACQUISITION-ENDDATE': datetime.datetime(2019, 11, 3, 15, 59, 35), 'STATUS': 'DIAGNOSIS', 'SETUP_NAME': 'DEFAULT', 'CYCLE': 'TRI136', 'TEST-LABEL': '065'}\n",
      "{'DATE': datetime.datetime(2019, 3, 18, 11, 51, 36), 'ACQUISITION-STARTDATE': datetime.datetime(2019, 3, 18, 11, 51, 36), 'ACQUISITION-ENDDATE': datetime.datetime(2019, 3, 18, 12, 11, 42), 'STATUS': 'DIAGNOSIS', 'SETUP_NAME': 'DEFAULT', 'CYCLE': 'TRI136', 'TEST-LABEL': '066'}\n",
      "{'DATE': datetime.datetime(2019, 3, 25, 10, 48, 43), 'ACQUISITION-STARTDATE': datetime.datetime(2019, 3, 25, 10, 48, 43), 'ACQUISITION-ENDDATE': datetime.datetime(2019, 3, 25, 11, 8, 48), 'STATUS': 'DIAGNOSIS', 'SETUP_NAME': 'DEFAULT', 'CYCLE': 'TRI136', 'TEST-LABEL': '067'}\n",
      "{'DATE': datetime.datetime(2019, 8, 4, 12, 38, 56), 'ACQUISITION-STARTDATE': datetime.datetime(2019, 8, 4, 12, 38, 56), 'ACQUISITION-ENDDATE': datetime.datetime(2019, 8, 4, 12, 59, 1), 'STATUS': 'DIAGNOSIS', 'SETUP_NAME': 'DEFAULT', 'CYCLE': 'TRI136', 'TEST-LABEL': '068'}\n",
      "{'DATE': datetime.datetime(2019, 4, 15, 12, 40, 21), 'ACQUISITION-STARTDATE': datetime.datetime(2019, 4, 15, 12, 40, 21), 'ACQUISITION-ENDDATE': datetime.datetime(2019, 4, 15, 13, 0, 27), 'STATUS': 'DIAGNOSIS', 'SETUP_NAME': 'DEFAULT', 'CYCLE': 'TRI136', 'TEST-LABEL': '069'}\n",
      "{'DATE': datetime.datetime(2019, 4, 23, 12, 49, 53), 'ACQUISITION-STARTDATE': datetime.datetime(2019, 4, 23, 12, 49, 53), 'ACQUISITION-ENDDATE': datetime.datetime(2019, 4, 23, 13, 9, 58), 'STATUS': 'DIAGNOSIS', 'SETUP_NAME': 'DEFAULT', 'CYCLE': 'TRI136', 'TEST-LABEL': '070'}\n",
      "{'DATE': datetime.datetime(2019, 4, 29, 12, 12, 5), 'ACQUISITION-STARTDATE': datetime.datetime(2019, 4, 29, 12, 12, 5), 'ACQUISITION-ENDDATE': datetime.datetime(2019, 4, 29, 12, 32, 10), 'STATUS': 'DIAGNOSIS', 'SETUP_NAME': 'DEFAULT', 'CYCLE': 'TRI136', 'TEST-LABEL': '071'}\n",
      "{'DATE': datetime.datetime(2019, 6, 5, 11, 49, 47), 'ACQUISITION-STARTDATE': datetime.datetime(2019, 6, 5, 11, 49, 47), 'ACQUISITION-ENDDATE': datetime.datetime(2019, 6, 5, 12, 9, 52), 'STATUS': 'DIAGNOSIS', 'SETUP_NAME': 'DEFAULT', 'CYCLE': 'TRI136', 'TEST-LABEL': '072'}\n",
      "{'DATE': datetime.datetime(2019, 5, 13, 12, 0, 11), 'ACQUISITION-STARTDATE': datetime.datetime(2019, 5, 13, 12, 0, 11), 'ACQUISITION-ENDDATE': datetime.datetime(2019, 5, 13, 12, 20, 16), 'STATUS': 'DIAGNOSIS', 'SETUP_NAME': 'DEFAULT', 'CYCLE': 'TRI136', 'TEST-LABEL': '073'}\n",
      "{'DATE': datetime.datetime(2020, 1, 14, 15, 47, 4), 'ACQUISITION-STARTDATE': datetime.datetime(2020, 1, 14, 15, 47, 4), 'ACQUISITION-ENDDATE': datetime.datetime(2020, 1, 14, 16, 8, 10), 'STATUS': 'DIAGNOSIS', 'SETUP_NAME': 'V2 MAJ 26-11-2019', 'CYCLE': 'TRI137', 'TEST-LABEL': '018'}\n",
      "{'DATE': datetime.datetime(2020, 1, 20, 11, 13, 22), 'ACQUISITION-STARTDATE': datetime.datetime(2020, 1, 20, 11, 13, 22), 'ACQUISITION-ENDDATE': datetime.datetime(2020, 1, 20, 11, 33, 28), 'STATUS': 'DIAGNOSIS', 'SETUP_NAME': 'V2 MAJ 26-11-2019', 'CYCLE': 'TRI137', 'TEST-LABEL': '020'}\n",
      "{'DATE': datetime.datetime(2020, 1, 28, 12, 8, 2), 'ACQUISITION-STARTDATE': datetime.datetime(2020, 1, 28, 12, 8, 2), 'ACQUISITION-ENDDATE': datetime.datetime(2020, 1, 28, 12, 28, 7), 'STATUS': 'DIAGNOSIS', 'SETUP_NAME': 'V2 MAJ 26-11-2019', 'CYCLE': 'TRI137', 'TEST-LABEL': '025'}\n",
      "{'DATE': datetime.datetime(2020, 3, 2, 10, 38, 43), 'ACQUISITION-STARTDATE': datetime.datetime(2020, 3, 2, 10, 38, 43), 'ACQUISITION-ENDDATE': datetime.datetime(2020, 3, 2, 10, 58, 48), 'STATUS': 'DIAGNOSIS', 'SETUP_NAME': 'V2 MAJ 26-11-2019', 'CYCLE': 'TRI137', 'TEST-LABEL': '029'}\n",
      "{'DATE': datetime.datetime(2020, 10, 2, 11, 28, 3), 'ACQUISITION-STARTDATE': datetime.datetime(2020, 10, 2, 11, 28, 3), 'ACQUISITION-ENDDATE': datetime.datetime(2020, 10, 2, 11, 48, 13), 'STATUS': 'DIAGNOSIS', 'SETUP_NAME': 'V2 MAJ 26-11-2019', 'CYCLE': 'TRI137', 'TEST-LABEL': '033'}\n",
      "{'DATE': datetime.datetime(2020, 2, 17, 11, 31, 9), 'ACQUISITION-STARTDATE': datetime.datetime(2020, 2, 17, 11, 31, 9), 'ACQUISITION-ENDDATE': datetime.datetime(2020, 2, 17, 11, 51, 15), 'STATUS': 'DIAGNOSIS', 'SETUP_NAME': 'V2 MAJ 26-11-2019', 'CYCLE': 'TRI137', 'TEST-LABEL': '040'}\n",
      "{'DATE': datetime.datetime(2020, 2, 24, 16, 36, 30), 'ACQUISITION-STARTDATE': datetime.datetime(2020, 2, 24, 16, 36, 30), 'ACQUISITION-ENDDATE': datetime.datetime(2020, 2, 24, 16, 56, 36), 'STATUS': 'DIAGNOSIS', 'SETUP_NAME': 'V2 MAJ 26-11-2019', 'CYCLE': 'TRI137', 'TEST-LABEL': '042'}\n",
      "{'DATE': datetime.datetime(2020, 2, 3, 14, 28, 29), 'ACQUISITION-STARTDATE': datetime.datetime(2020, 2, 3, 14, 28, 29), 'ACQUISITION-ENDDATE': datetime.datetime(2020, 2, 3, 14, 48, 35), 'STATUS': 'DIAGNOSIS', 'SETUP_NAME': 'V2 MAJ 26-11-2019', 'CYCLE': 'TRI137', 'TEST-LABEL': '044'}\n",
      "{'DATE': datetime.datetime(2020, 9, 3, 12, 18, 49), 'ACQUISITION-STARTDATE': datetime.datetime(2020, 9, 3, 12, 18, 49), 'ACQUISITION-ENDDATE': datetime.datetime(2020, 9, 3, 12, 38, 54), 'STATUS': 'DIAGNOSIS', 'SETUP_NAME': 'V2 MAJ 26-11-2019', 'CYCLE': 'TRI137', 'TEST-LABEL': '045'}\n",
      "{'DATE': datetime.datetime(2020, 3, 16, 14, 37, 51), 'ACQUISITION-STARTDATE': datetime.datetime(2020, 3, 16, 14, 37, 51), 'ACQUISITION-ENDDATE': datetime.datetime(2020, 3, 16, 14, 57, 57), 'STATUS': 'DIAGNOSIS', 'SETUP_NAME': 'V2 MAJ 26-11-2019', 'CYCLE': 'TRI137', 'TEST-LABEL': '048'}\n",
      "{'DATE': datetime.datetime(2020, 6, 4, 11, 20, 30), 'ACQUISITION-STARTDATE': datetime.datetime(2020, 6, 4, 11, 20, 30), 'ACQUISITION-ENDDATE': datetime.datetime(2020, 6, 4, 11, 40, 35), 'STATUS': 'DIAGNOSIS', 'SETUP_NAME': 'V2 MAJ 26-11-2019', 'CYCLE': 'TRI137', 'TEST-LABEL': '049'}\n",
      "{'DATE': datetime.datetime(2020, 4, 5, 11, 12, 52), 'ACQUISITION-STARTDATE': datetime.datetime(2020, 4, 5, 11, 12, 52), 'ACQUISITION-ENDDATE': datetime.datetime(2020, 4, 5, 11, 32, 58), 'STATUS': 'DIAGNOSIS', 'SETUP_NAME': 'V2 MAJ 26-11-2019', 'CYCLE': 'TRI137', 'TEST-LABEL': '051'}\n",
      "{'DATE': datetime.datetime(2020, 11, 5, 11, 41, 37), 'ACQUISITION-STARTDATE': datetime.datetime(2020, 11, 5, 11, 41, 37), 'ACQUISITION-ENDDATE': datetime.datetime(2020, 11, 5, 12, 1, 43), 'STATUS': 'DIAGNOSIS', 'SETUP_NAME': 'V2 MAJ 26-11-2019', 'CYCLE': 'TRI137', 'TEST-LABEL': '052'}\n",
      "{'DATE': datetime.datetime(2020, 5, 18, 11, 37, 27), 'ACQUISITION-STARTDATE': datetime.datetime(2020, 5, 18, 11, 37, 27), 'ACQUISITION-ENDDATE': datetime.datetime(2020, 5, 18, 11, 57, 37), 'STATUS': 'DIAGNOSIS', 'SETUP_NAME': 'V2 MAJ 26-11-2019', 'CYCLE': 'TRI137', 'TEST-LABEL': '054'}\n",
      "{'DATE': datetime.datetime(2020, 2, 6, 12, 6, 5), 'ACQUISITION-STARTDATE': datetime.datetime(2020, 2, 6, 12, 6, 5), 'ACQUISITION-ENDDATE': datetime.datetime(2020, 2, 6, 12, 26, 10), 'STATUS': 'DIAGNOSIS', 'SETUP_NAME': 'V2 MAJ 26-11-2019', 'CYCLE': 'TRI137', 'TEST-LABEL': '058'}\n",
      "{'DATE': datetime.datetime(2020, 8, 6, 11, 52, 52), 'ACQUISITION-STARTDATE': datetime.datetime(2020, 8, 6, 11, 52, 52), 'ACQUISITION-ENDDATE': datetime.datetime(2020, 8, 6, 12, 12, 57), 'STATUS': 'DIAGNOSIS', 'SETUP_NAME': 'V2 MAJ 26-11-2019', 'CYCLE': 'TRI137', 'TEST-LABEL': '059'}\n",
      "{'DATE': datetime.datetime(2020, 6, 15, 11, 7, 17), 'ACQUISITION-STARTDATE': datetime.datetime(2020, 6, 15, 11, 7, 17), 'ACQUISITION-ENDDATE': datetime.datetime(2020, 6, 15, 11, 27, 22), 'STATUS': 'DIAGNOSIS', 'SETUP_NAME': 'V2 MAJ 26-11-2019', 'CYCLE': 'TRI137', 'TEST-LABEL': '060'}\n",
      "{'DATE': datetime.datetime(2020, 6, 22, 16, 2, 55), 'ACQUISITION-STARTDATE': datetime.datetime(2020, 6, 22, 16, 2, 55), 'ACQUISITION-ENDDATE': datetime.datetime(2020, 6, 22, 16, 23), 'STATUS': 'DIAGNOSIS', 'SETUP_NAME': 'V2 MAJ 26-11-2019', 'CYCLE': 'TRI137', 'TEST-LABEL': '061'}\n",
      "{'DATE': datetime.datetime(2020, 6, 7, 15, 21, 38), 'ACQUISITION-STARTDATE': datetime.datetime(2020, 6, 7, 15, 21, 38), 'ACQUISITION-ENDDATE': datetime.datetime(2020, 6, 7, 15, 41, 44), 'STATUS': 'DIAGNOSIS', 'SETUP_NAME': 'V2 MAJ 26-11-2019', 'CYCLE': 'TRI137', 'TEST-LABEL': '062'}\n",
      "{'DATE': datetime.datetime(2020, 7, 13, 13, 8, 1), 'ACQUISITION-STARTDATE': datetime.datetime(2020, 7, 13, 13, 8, 1), 'ACQUISITION-ENDDATE': datetime.datetime(2020, 7, 13, 13, 28, 7), 'STATUS': 'DIAGNOSIS', 'SETUP_NAME': 'V2 MAJ 26-11-2019', 'CYCLE': 'TRI137', 'TEST-LABEL': '063'}\n",
      "{'DATE': datetime.datetime(2020, 7, 20, 12, 36, 30), 'ACQUISITION-STARTDATE': datetime.datetime(2020, 7, 20, 12, 36, 30), 'ACQUISITION-ENDDATE': datetime.datetime(2020, 7, 20, 12, 56, 35), 'STATUS': 'DIAGNOSIS', 'SETUP_NAME': 'V2 MAJ 26-11-2019', 'CYCLE': 'TRI137', 'TEST-LABEL': '064'}\n",
      "{'DATE': datetime.datetime(2020, 7, 27, 12, 30, 13), 'ACQUISITION-STARTDATE': datetime.datetime(2020, 7, 27, 12, 30, 13), 'ACQUISITION-ENDDATE': datetime.datetime(2020, 7, 27, 12, 50, 58), 'STATUS': 'DIAGNOSIS', 'SETUP_NAME': 'V2 MAJ 26-11-2019', 'CYCLE': 'TRI137', 'TEST-LABEL': '065'}\n",
      "{'DATE': datetime.datetime(2020, 3, 8, 11, 42, 4), 'ACQUISITION-STARTDATE': datetime.datetime(2020, 3, 8, 11, 42, 4), 'ACQUISITION-ENDDATE': datetime.datetime(2020, 3, 8, 12, 2, 9), 'STATUS': 'DIAGNOSIS', 'SETUP_NAME': 'V2 MAJ 26-11-2019', 'CYCLE': 'TRI137', 'TEST-LABEL': '066'}\n",
      "{'DATE': datetime.datetime(2020, 8, 24, 11, 27, 29), 'ACQUISITION-STARTDATE': datetime.datetime(2020, 8, 24, 11, 27, 29), 'ACQUISITION-ENDDATE': datetime.datetime(2020, 8, 24, 11, 47, 34), 'STATUS': 'DIAGNOSIS', 'SETUP_NAME': 'V2 MAJ 26-11-2019', 'CYCLE': 'TRI137', 'TEST-LABEL': '068'}\n",
      "{'DATE': datetime.datetime(2020, 8, 31, 12, 13, 11), 'ACQUISITION-STARTDATE': datetime.datetime(2020, 8, 31, 12, 13, 11), 'ACQUISITION-ENDDATE': datetime.datetime(2020, 8, 31, 12, 33, 17), 'STATUS': 'DIAGNOSIS', 'SETUP_NAME': 'V2 MAJ 26-11-2019', 'CYCLE': 'TRI137', 'TEST-LABEL': '069'}\n",
      "{'DATE': datetime.datetime(2020, 7, 9, 11, 15, 34), 'ACQUISITION-STARTDATE': datetime.datetime(2020, 7, 9, 11, 15, 34), 'ACQUISITION-ENDDATE': datetime.datetime(2020, 7, 9, 11, 35, 39), 'STATUS': 'DIAGNOSIS', 'SETUP_NAME': 'V2 MAJ 26-11-2019', 'CYCLE': 'TRI137', 'TEST-LABEL': '070'}\n",
      "{'DATE': datetime.datetime(2020, 9, 14, 11, 42, 40), 'ACQUISITION-STARTDATE': datetime.datetime(2020, 9, 14, 11, 42, 40), 'ACQUISITION-ENDDATE': datetime.datetime(2020, 9, 14, 12, 2, 45), 'STATUS': 'DIAGNOSIS', 'SETUP_NAME': 'V2 MAJ 26-11-2019', 'CYCLE': 'TRI137', 'TEST-LABEL': '071'}\n",
      "{'DATE': datetime.datetime(2020, 9, 21, 12, 9), 'ACQUISITION-STARTDATE': datetime.datetime(2020, 9, 21, 12, 9), 'ACQUISITION-ENDDATE': datetime.datetime(2020, 9, 21, 12, 29, 5), 'STATUS': 'DIAGNOSIS', 'SETUP_NAME': 'V2 MAJ 26-11-2019', 'CYCLE': 'TRI137', 'TEST-LABEL': '072'}\n",
      "{'DATE': datetime.datetime(2020, 11, 24, 14, 41, 39), 'ACQUISITION-STARTDATE': datetime.datetime(2020, 11, 24, 14, 41, 39), 'ACQUISITION-ENDDATE': datetime.datetime(2020, 11, 24, 15, 1, 45), 'STATUS': 'DIAGNOSIS', 'SETUP_NAME': 'V2 MAJ 26-11-2019', 'CYCLE': 'TRI138', 'TEST-LABEL': '011'}\n",
      "{'DATE': datetime.datetime(2020, 11, 27, 12, 22, 37), 'ACQUISITION-STARTDATE': datetime.datetime(2020, 11, 27, 12, 22, 37), 'ACQUISITION-ENDDATE': datetime.datetime(2020, 11, 27, 12, 42, 43), 'STATUS': 'DIAGNOSIS', 'SETUP_NAME': 'V2 MAJ 26-11-2019', 'CYCLE': 'TRI138', 'TEST-LABEL': '013'}\n",
      "{'DATE': datetime.datetime(2020, 11, 30, 9, 53, 22), 'ACQUISITION-STARTDATE': datetime.datetime(2020, 11, 30, 9, 53, 22), 'ACQUISITION-ENDDATE': datetime.datetime(2020, 11, 30, 10, 13, 27), 'STATUS': 'DIAGNOSIS', 'SETUP_NAME': 'V2 MAJ 26-11-2019', 'CYCLE': 'TRI138', 'TEST-LABEL': '014'}\n",
      "{'DATE': datetime.datetime(2020, 7, 12, 11, 7, 25), 'ACQUISITION-STARTDATE': datetime.datetime(2020, 7, 12, 11, 7, 25), 'ACQUISITION-ENDDATE': datetime.datetime(2020, 7, 12, 11, 28, 31), 'STATUS': 'DIAGNOSIS', 'SETUP_NAME': 'V2 MAJ 26-11-2019', 'CYCLE': 'TRI138', 'TEST-LABEL': '015'}\n",
      "{'DATE': datetime.datetime(2020, 12, 14, 14, 27), 'ACQUISITION-STARTDATE': datetime.datetime(2020, 12, 14, 14, 27), 'ACQUISITION-ENDDATE': datetime.datetime(2020, 12, 14, 14, 48, 5), 'STATUS': 'DIAGNOSIS', 'SETUP_NAME': 'V2 MAJ 26-11-2019', 'CYCLE': 'TRI138', 'TEST-LABEL': '016'}\n",
      "{'DATE': datetime.datetime(2020, 12, 21, 11, 34, 36), 'ACQUISITION-STARTDATE': datetime.datetime(2020, 12, 21, 11, 34, 36), 'ACQUISITION-ENDDATE': datetime.datetime(2020, 12, 21, 11, 54, 41), 'STATUS': 'DIAGNOSIS', 'SETUP_NAME': 'V2 MAJ 26-11-2019', 'CYCLE': 'TRI138', 'TEST-LABEL': '018'}\n",
      "{'DATE': datetime.datetime(2020, 12, 28, 10, 15, 10), 'ACQUISITION-STARTDATE': datetime.datetime(2020, 12, 28, 10, 15, 10), 'ACQUISITION-ENDDATE': datetime.datetime(2020, 12, 28, 10, 36, 16), 'STATUS': 'DIAGNOSIS', 'SETUP_NAME': 'V2 MAJ 26-11-2019', 'CYCLE': 'TRI138', 'TEST-LABEL': '019'}\n",
      "{'DATE': datetime.datetime(2021, 4, 1, 10, 53, 37), 'ACQUISITION-STARTDATE': datetime.datetime(2021, 4, 1, 10, 53, 37), 'ACQUISITION-ENDDATE': datetime.datetime(2021, 4, 1, 11, 13, 43), 'STATUS': 'DIAGNOSIS', 'SETUP_NAME': 'V2 MAJ 26-11-2019', 'CYCLE': 'TRI138', 'TEST-LABEL': '020'}\n",
      "{'DATE': datetime.datetime(2021, 11, 1, 12, 12, 20), 'ACQUISITION-STARTDATE': datetime.datetime(2021, 11, 1, 12, 12, 20), 'ACQUISITION-ENDDATE': datetime.datetime(2021, 11, 1, 12, 32, 25), 'STATUS': 'DIAGNOSIS', 'SETUP_NAME': 'V2 MAJ 26-11-2019', 'CYCLE': 'TRI138', 'TEST-LABEL': '021'}\n",
      "{'DATE': datetime.datetime(2021, 1, 18, 8, 22, 56), 'ACQUISITION-STARTDATE': datetime.datetime(2021, 1, 18, 8, 22, 56), 'ACQUISITION-ENDDATE': datetime.datetime(2021, 1, 18, 8, 43, 7), 'STATUS': 'DIAGNOSIS', 'SETUP_NAME': 'V2 MAJ 26-11-2019', 'CYCLE': 'TRI138', 'TEST-LABEL': '022'}\n",
      "{'DATE': datetime.datetime(2021, 1, 25, 11, 38, 52), 'ACQUISITION-STARTDATE': datetime.datetime(2021, 1, 25, 11, 38, 52), 'ACQUISITION-ENDDATE': datetime.datetime(2021, 1, 25, 11, 58, 57), 'STATUS': 'DIAGNOSIS', 'SETUP_NAME': 'V2 MAJ 26-11-2019', 'CYCLE': 'TRI138', 'TEST-LABEL': '023'}\n",
      "{'DATE': datetime.datetime(2021, 1, 2, 11, 18, 9), 'ACQUISITION-STARTDATE': datetime.datetime(2021, 1, 2, 11, 18, 9), 'ACQUISITION-ENDDATE': datetime.datetime(2021, 1, 2, 11, 38, 19), 'STATUS': 'DIAGNOSIS', 'SETUP_NAME': 'V2 MAJ 26-11-2019', 'CYCLE': 'TRI138', 'TEST-LABEL': '024'}\n",
      "{'DATE': datetime.datetime(2021, 8, 2, 11, 2, 14), 'ACQUISITION-STARTDATE': datetime.datetime(2021, 8, 2, 11, 2, 14), 'ACQUISITION-ENDDATE': datetime.datetime(2021, 8, 2, 11, 22, 20), 'STATUS': 'DIAGNOSIS', 'SETUP_NAME': 'V2 MAJ 26-11-2019', 'CYCLE': 'TRI138', 'TEST-LABEL': '025'}\n",
      "{'DATE': datetime.datetime(2021, 2, 15, 10, 47, 32), 'ACQUISITION-STARTDATE': datetime.datetime(2021, 2, 15, 10, 47, 32), 'ACQUISITION-ENDDATE': datetime.datetime(2021, 2, 15, 11, 7, 42), 'STATUS': 'DIAGNOSIS', 'SETUP_NAME': 'V2 MAJ 26-11-2019', 'CYCLE': 'TRI138', 'TEST-LABEL': '026'}\n",
      "{'DATE': datetime.datetime(2021, 2, 22, 10, 12, 53), 'ACQUISITION-STARTDATE': datetime.datetime(2021, 2, 22, 10, 12, 53), 'ACQUISITION-ENDDATE': datetime.datetime(2021, 2, 22, 10, 32, 58), 'STATUS': 'DIAGNOSIS', 'SETUP_NAME': 'V2 MAJ 26-11-2019', 'CYCLE': 'TRI138', 'TEST-LABEL': '028'}\n",
      "{'DATE': datetime.datetime(2021, 1, 3, 10, 57, 48), 'ACQUISITION-STARTDATE': datetime.datetime(2021, 1, 3, 10, 57, 48), 'ACQUISITION-ENDDATE': datetime.datetime(2021, 1, 3, 11, 17, 53), 'STATUS': 'DIAGNOSIS', 'SETUP_NAME': 'V2 MAJ 26-11-2019', 'CYCLE': 'TRI138', 'TEST-LABEL': '029'}\n",
      "{'DATE': datetime.datetime(2021, 8, 3, 10, 31, 24), 'ACQUISITION-STARTDATE': datetime.datetime(2021, 8, 3, 10, 31, 24), 'ACQUISITION-ENDDATE': datetime.datetime(2021, 8, 3, 10, 52, 30), 'STATUS': 'DIAGNOSIS', 'SETUP_NAME': 'V2 MAJ 26-11-2019', 'CYCLE': 'TRI138', 'TEST-LABEL': '030'}\n",
      "{'DATE': datetime.datetime(2021, 3, 15, 11, 8, 32), 'ACQUISITION-STARTDATE': datetime.datetime(2021, 3, 15, 11, 8, 32), 'ACQUISITION-ENDDATE': datetime.datetime(2021, 3, 15, 11, 29, 37), 'STATUS': 'DIAGNOSIS', 'SETUP_NAME': 'V2 MAJ 26-11-2019', 'CYCLE': 'TRI138', 'TEST-LABEL': '031'}\n",
      "{'DATE': datetime.datetime(2021, 3, 22, 9, 49, 40), 'ACQUISITION-STARTDATE': datetime.datetime(2021, 3, 22, 9, 49, 40), 'ACQUISITION-ENDDATE': datetime.datetime(2021, 3, 22, 10, 9, 46), 'STATUS': 'DIAGNOSIS', 'SETUP_NAME': 'V2 MAJ 26-11-2019', 'CYCLE': 'TRI138', 'TEST-LABEL': '032'}\n",
      "{'DATE': datetime.datetime(2021, 3, 29, 9, 12, 54), 'ACQUISITION-STARTDATE': datetime.datetime(2021, 3, 29, 9, 12, 54), 'ACQUISITION-ENDDATE': datetime.datetime(2021, 3, 29, 9, 33), 'STATUS': 'DIAGNOSIS', 'SETUP_NAME': 'V2 MAJ 26-11-2019', 'CYCLE': 'TRI138', 'TEST-LABEL': '033'}\n",
      "{'DATE': datetime.datetime(2021, 6, 4, 10, 31, 12), 'ACQUISITION-STARTDATE': datetime.datetime(2021, 6, 4, 10, 31, 12), 'ACQUISITION-ENDDATE': datetime.datetime(2021, 6, 4, 10, 51, 17), 'STATUS': 'DIAGNOSIS', 'SETUP_NAME': 'V2 MAJ 26-11-2019', 'CYCLE': 'TRI138', 'TEST-LABEL': '036'}\n",
      "{'DATE': datetime.datetime(2021, 4, 26, 9, 14, 49), 'ACQUISITION-STARTDATE': datetime.datetime(2021, 4, 26, 9, 14, 49), 'ACQUISITION-ENDDATE': datetime.datetime(2021, 4, 26, 9, 34, 55), 'STATUS': 'DIAGNOSIS', 'SETUP_NAME': 'V2 MAJ 26-11-2019', 'CYCLE': 'TRI138', 'TEST-LABEL': '039'}\n",
      "{'DATE': datetime.datetime(2021, 3, 5, 9, 49, 39), 'ACQUISITION-STARTDATE': datetime.datetime(2021, 3, 5, 9, 49, 39), 'ACQUISITION-ENDDATE': datetime.datetime(2021, 3, 5, 10, 9, 45), 'STATUS': 'DIAGNOSIS', 'SETUP_NAME': 'V2 MAJ 26-11-2019', 'CYCLE': 'TRI138', 'TEST-LABEL': '040'}\n",
      "{'DATE': datetime.datetime(2021, 10, 5, 10, 9, 38), 'ACQUISITION-STARTDATE': datetime.datetime(2021, 10, 5, 10, 9, 38), 'ACQUISITION-ENDDATE': datetime.datetime(2021, 10, 5, 10, 29, 44), 'STATUS': 'DIAGNOSIS', 'SETUP_NAME': 'V2 MAJ 26-11-2019', 'CYCLE': 'TRI138', 'TEST-LABEL': '041'}\n",
      "{'DATE': datetime.datetime(2021, 5, 17, 10, 16, 1), 'ACQUISITION-STARTDATE': datetime.datetime(2021, 5, 17, 10, 16, 1), 'ACQUISITION-ENDDATE': datetime.datetime(2021, 5, 17, 10, 36, 11), 'STATUS': 'DIAGNOSIS', 'SETUP_NAME': 'V2 MAJ 26-11-2019', 'CYCLE': 'TRI138', 'TEST-LABEL': '044'}\n",
      "{'DATE': datetime.datetime(2021, 5, 25, 10, 12, 13), 'ACQUISITION-STARTDATE': datetime.datetime(2021, 5, 25, 10, 12, 13), 'ACQUISITION-ENDDATE': datetime.datetime(2021, 5, 25, 10, 32, 23), 'STATUS': 'DIAGNOSIS', 'SETUP_NAME': 'V2 MAJ 26-11-2019', 'CYCLE': 'TRI138', 'TEST-LABEL': '045'}\n",
      "{'DATE': datetime.datetime(2021, 7, 6, 13, 55, 30), 'ACQUISITION-STARTDATE': datetime.datetime(2021, 7, 6, 13, 55, 30), 'ACQUISITION-ENDDATE': datetime.datetime(2021, 7, 6, 14, 15, 36), 'STATUS': 'DIAGNOSIS', 'SETUP_NAME': 'V2 MAJ 26-11-2019', 'CYCLE': 'TRI138', 'TEST-LABEL': '046'}\n",
      "{'DATE': datetime.datetime(2021, 6, 14, 10, 22, 33), 'ACQUISITION-STARTDATE': datetime.datetime(2021, 6, 14, 10, 22, 33), 'ACQUISITION-ENDDATE': datetime.datetime(2021, 6, 14, 10, 42, 38), 'STATUS': 'DIAGNOSIS', 'SETUP_NAME': 'V2 MAJ 26-11-2019', 'CYCLE': 'TRI138', 'TEST-LABEL': '047'}\n",
      "{'DATE': datetime.datetime(2021, 6, 21, 10, 13), 'ACQUISITION-STARTDATE': datetime.datetime(2021, 6, 21, 10, 13), 'ACQUISITION-ENDDATE': datetime.datetime(2021, 6, 21, 10, 33, 6), 'STATUS': 'DIAGNOSIS', 'SETUP_NAME': 'V2 MAJ 26-11-2019', 'CYCLE': 'TRI138', 'TEST-LABEL': '048'}\n",
      "{'DATE': datetime.datetime(2021, 6, 28, 9, 52, 23), 'ACQUISITION-STARTDATE': datetime.datetime(2021, 6, 28, 9, 52, 23), 'ACQUISITION-ENDDATE': datetime.datetime(2021, 6, 28, 10, 12, 29), 'STATUS': 'DIAGNOSIS', 'SETUP_NAME': 'V2 MAJ 26-11-2019', 'CYCLE': 'TRI138', 'TEST-LABEL': '049'}\n",
      "{'DATE': datetime.datetime(2021, 5, 7, 9, 4, 23), 'ACQUISITION-STARTDATE': datetime.datetime(2021, 5, 7, 9, 4, 23), 'ACQUISITION-ENDDATE': datetime.datetime(2021, 5, 7, 9, 24, 28), 'STATUS': 'DIAGNOSIS', 'SETUP_NAME': 'V2 MAJ 26-11-2019', 'CYCLE': 'TRI138', 'TEST-LABEL': '050'}\n",
      "{'DATE': datetime.datetime(2021, 12, 7, 10, 3, 8), 'ACQUISITION-STARTDATE': datetime.datetime(2021, 12, 7, 10, 3, 8), 'ACQUISITION-ENDDATE': datetime.datetime(2021, 12, 7, 10, 23, 14), 'STATUS': 'DIAGNOSIS', 'SETUP_NAME': 'V2 MAJ 26-11-2019', 'CYCLE': 'TRI138', 'TEST-LABEL': '051'}\n",
      "{'DATE': datetime.datetime(2021, 7, 19, 10, 16, 22), 'ACQUISITION-STARTDATE': datetime.datetime(2021, 7, 19, 10, 16, 22), 'ACQUISITION-ENDDATE': datetime.datetime(2021, 7, 19, 10, 36, 33), 'STATUS': 'DIAGNOSIS', 'SETUP_NAME': 'V2 MAJ 26-11-2019', 'CYCLE': 'TRI138', 'TEST-LABEL': '052'}\n",
      "{'DATE': datetime.datetime(2021, 2, 8, 9, 44, 57), 'ACQUISITION-STARTDATE': datetime.datetime(2021, 2, 8, 9, 44, 57), 'ACQUISITION-ENDDATE': datetime.datetime(2021, 2, 8, 10, 5, 3), 'STATUS': 'DIAGNOSIS', 'SETUP_NAME': 'V2 MAJ 26-11-2019', 'CYCLE': 'TRI138', 'TEST-LABEL': '053'}\n",
      "{'DATE': datetime.datetime(2021, 12, 16, 10, 10, 23), 'ACQUISITION-STARTDATE': datetime.datetime(2021, 12, 16, 10, 10, 23), 'ACQUISITION-ENDDATE': datetime.datetime(2021, 12, 16, 10, 30, 28), 'STATUS': 'DIAGNOSIS', 'SETUP_NAME': 'V2 MAJ 26-11-2019', 'CYCLE': 'TRI139', 'TEST-LABEL': '008'}\n",
      "{'DATE': datetime.datetime(2021, 12, 20, 9, 21, 48), 'ACQUISITION-STARTDATE': datetime.datetime(2021, 12, 20, 9, 21, 48), 'ACQUISITION-ENDDATE': datetime.datetime(2021, 12, 20, 9, 42, 54), 'STATUS': 'DIAGNOSIS', 'SETUP_NAME': 'V2 MAJ 26-11-2019', 'CYCLE': 'TRI139', 'TEST-LABEL': '010'}\n",
      "{'DATE': datetime.datetime(2021, 12, 27, 8, 51, 32), 'ACQUISITION-STARTDATE': datetime.datetime(2021, 12, 27, 8, 51, 32), 'ACQUISITION-ENDDATE': datetime.datetime(2021, 12, 27, 9, 11, 37), 'STATUS': 'DIAGNOSIS', 'SETUP_NAME': 'V2 MAJ 26-11-2019', 'CYCLE': 'TRI139', 'TEST-LABEL': '012'}\n",
      "{'DATE': datetime.datetime(2022, 3, 1, 11, 3, 17), 'ACQUISITION-STARTDATE': datetime.datetime(2022, 3, 1, 11, 3, 17), 'ACQUISITION-ENDDATE': datetime.datetime(2022, 3, 1, 11, 23, 23), 'STATUS': 'DIAGNOSIS', 'SETUP_NAME': 'V2 MAJ 26-11-2019', 'CYCLE': 'TRI139', 'TEST-LABEL': '013'}\n",
      "{'DATE': datetime.datetime(2022, 10, 1, 11, 3, 45), 'ACQUISITION-STARTDATE': datetime.datetime(2022, 10, 1, 11, 3, 45), 'ACQUISITION-ENDDATE': datetime.datetime(2022, 10, 1, 11, 23, 50), 'STATUS': 'DIAGNOSIS', 'SETUP_NAME': 'V2 MAJ 26-11-2019', 'CYCLE': 'TRI139', 'TEST-LABEL': '015'}\n",
      "{'DATE': datetime.datetime(2022, 1, 17, 8, 30, 10), 'ACQUISITION-STARTDATE': datetime.datetime(2022, 1, 17, 8, 30, 10), 'ACQUISITION-ENDDATE': datetime.datetime(2022, 1, 17, 8, 50, 20), 'STATUS': 'DIAGNOSIS', 'SETUP_NAME': 'V2 MAJ 26-11-2019', 'CYCLE': 'TRI139', 'TEST-LABEL': '016'}\n",
      "{'DATE': datetime.datetime(2022, 1, 24, 8, 30, 52), 'ACQUISITION-STARTDATE': datetime.datetime(2022, 1, 24, 8, 30, 52), 'ACQUISITION-ENDDATE': datetime.datetime(2022, 1, 24, 8, 50, 57), 'STATUS': 'DIAGNOSIS', 'SETUP_NAME': 'V2 MAJ 26-11-2019', 'CYCLE': 'TRI139', 'TEST-LABEL': '017'}\n",
      "{'DATE': datetime.datetime(2022, 1, 31, 16, 20, 30), 'ACQUISITION-STARTDATE': datetime.datetime(2022, 1, 31, 16, 20, 30), 'ACQUISITION-ENDDATE': datetime.datetime(2022, 1, 31, 16, 40, 35), 'STATUS': 'DIAGNOSIS', 'SETUP_NAME': 'V2 MAJ 26-11-2019', 'CYCLE': 'TRI139', 'TEST-LABEL': '019'}\n",
      "{'DATE': datetime.datetime(2022, 7, 2, 9, 39, 35), 'ACQUISITION-STARTDATE': datetime.datetime(2022, 7, 2, 9, 39, 35), 'ACQUISITION-ENDDATE': datetime.datetime(2022, 7, 2, 9, 59, 41), 'STATUS': 'DIAGNOSIS', 'SETUP_NAME': 'V2 MAJ 26-11-2019', 'CYCLE': 'TRI139', 'TEST-LABEL': '023'}\n",
      "{'DATE': datetime.datetime(2022, 2, 14, 10, 9, 20), 'ACQUISITION-STARTDATE': datetime.datetime(2022, 2, 14, 10, 9, 20), 'ACQUISITION-ENDDATE': datetime.datetime(2022, 2, 14, 10, 29, 26), 'STATUS': 'DIAGNOSIS', 'SETUP_NAME': 'V2 MAJ 26-11-2019', 'CYCLE': 'TRI139', 'TEST-LABEL': '027'}\n",
      "{'DATE': datetime.datetime(2022, 2, 21, 10, 33, 44), 'ACQUISITION-STARTDATE': datetime.datetime(2022, 2, 21, 10, 33, 44), 'ACQUISITION-ENDDATE': datetime.datetime(2022, 2, 21, 10, 53, 50), 'STATUS': 'DIAGNOSIS', 'SETUP_NAME': 'V2 MAJ 26-11-2019', 'CYCLE': 'TRI139', 'TEST-LABEL': '028'}\n",
      "{'DATE': datetime.datetime(2022, 2, 28, 14, 5, 47), 'ACQUISITION-STARTDATE': datetime.datetime(2022, 2, 28, 14, 5, 47), 'ACQUISITION-ENDDATE': datetime.datetime(2022, 2, 28, 14, 25, 57), 'STATUS': 'DIAGNOSIS', 'SETUP_NAME': 'V2 MAJ 26-11-2019', 'CYCLE': 'TRI139', 'TEST-LABEL': '030'}\n",
      "{'DATE': datetime.datetime(2022, 7, 3, 10, 31, 20), 'ACQUISITION-STARTDATE': datetime.datetime(2022, 7, 3, 10, 31, 20), 'ACQUISITION-ENDDATE': datetime.datetime(2022, 7, 3, 10, 51, 26), 'STATUS': 'DIAGNOSIS', 'SETUP_NAME': 'V2 MAJ 26-11-2019', 'CYCLE': 'TRI139', 'TEST-LABEL': '031'}\n",
      "{'DATE': datetime.datetime(2022, 3, 21, 9, 47, 21), 'ACQUISITION-STARTDATE': datetime.datetime(2022, 3, 21, 9, 47, 21), 'ACQUISITION-ENDDATE': datetime.datetime(2022, 3, 21, 10, 7, 27), 'STATUS': 'DIAGNOSIS', 'SETUP_NAME': 'V2 MAJ 26-11-2019', 'CYCLE': 'TRI139', 'TEST-LABEL': '033'}\n",
      "{'DATE': datetime.datetime(2022, 3, 28, 10, 3, 13), 'ACQUISITION-STARTDATE': datetime.datetime(2022, 3, 28, 10, 3, 13), 'ACQUISITION-ENDDATE': datetime.datetime(2022, 3, 28, 10, 23, 18), 'STATUS': 'DIAGNOSIS', 'SETUP_NAME': 'V2 MAJ 26-11-2019', 'CYCLE': 'TRI139', 'TEST-LABEL': '035'}\n",
      "{'DATE': datetime.datetime(2022, 4, 4, 9, 43, 59), 'ACQUISITION-STARTDATE': datetime.datetime(2022, 4, 4, 9, 43, 59), 'ACQUISITION-ENDDATE': datetime.datetime(2022, 4, 4, 10, 4, 10), 'STATUS': 'DIAGNOSIS', 'SETUP_NAME': 'V2 MAJ 26-11-2019', 'CYCLE': 'TRI139', 'TEST-LABEL': '036'}\n",
      "{'DATE': datetime.datetime(2022, 11, 4, 10, 6), 'ACQUISITION-STARTDATE': datetime.datetime(2022, 11, 4, 10, 6), 'ACQUISITION-ENDDATE': datetime.datetime(2022, 11, 4, 10, 26, 5), 'STATUS': 'DIAGNOSIS', 'SETUP_NAME': 'V2 MAJ 26-11-2019', 'CYCLE': 'TRI139', 'TEST-LABEL': '037'}\n",
      "{'DATE': datetime.datetime(2022, 4, 19, 8, 17, 39), 'ACQUISITION-STARTDATE': datetime.datetime(2022, 4, 19, 8, 17, 39), 'ACQUISITION-ENDDATE': datetime.datetime(2022, 4, 19, 8, 37, 45), 'STATUS': 'DIAGNOSIS', 'SETUP_NAME': 'V2 MAJ 26-11-2019', 'CYCLE': 'TRI139', 'TEST-LABEL': '038'}\n",
      "{'DATE': datetime.datetime(2022, 4, 28, 9, 50), 'ACQUISITION-STARTDATE': datetime.datetime(2022, 4, 28, 9, 50), 'ACQUISITION-ENDDATE': datetime.datetime(2022, 4, 28, 10, 10, 6), 'STATUS': 'DIAGNOSIS', 'SETUP_NAME': 'V2 MAJ 26-11-2019', 'CYCLE': 'TRI139', 'TEST-LABEL': '039'}\n",
      "{'DATE': datetime.datetime(2022, 2, 5, 7, 35, 39), 'ACQUISITION-STARTDATE': datetime.datetime(2022, 2, 5, 7, 35, 39), 'ACQUISITION-ENDDATE': datetime.datetime(2022, 2, 5, 7, 55, 45), 'STATUS': 'DIAGNOSIS', 'SETUP_NAME': 'V2 MAJ 26-11-2019', 'CYCLE': 'TRI139', 'TEST-LABEL': '040'}\n",
      "{'DATE': datetime.datetime(2022, 5, 16, 10, 39, 18), 'ACQUISITION-STARTDATE': datetime.datetime(2022, 5, 16, 10, 39, 18), 'ACQUISITION-ENDDATE': datetime.datetime(2022, 5, 16, 10, 59, 24), 'STATUS': 'DIAGNOSIS', 'SETUP_NAME': 'V2 MAJ 26-11-2019', 'CYCLE': 'TRI139', 'TEST-LABEL': '042'}\n",
      "{'DATE': datetime.datetime(2022, 5, 23, 14, 50, 9), 'ACQUISITION-STARTDATE': datetime.datetime(2022, 5, 23, 14, 50, 9), 'ACQUISITION-ENDDATE': datetime.datetime(2022, 5, 23, 15, 10, 15), 'STATUS': 'DIAGNOSIS', 'SETUP_NAME': 'V2 MAJ 26-11-2019', 'CYCLE': 'TRI139', 'TEST-LABEL': '043'}\n",
      "{'DATE': datetime.datetime(2022, 6, 13, 11, 43, 33), 'ACQUISITION-STARTDATE': datetime.datetime(2022, 6, 13, 11, 43, 33), 'ACQUISITION-ENDDATE': datetime.datetime(2022, 6, 13, 12, 3, 38), 'STATUS': 'DIAGNOSIS', 'SETUP_NAME': 'V2 MAJ 26-11-2019', 'CYCLE': 'TRI139', 'TEST-LABEL': '044'}\n",
      "{'DATE': datetime.datetime(2022, 6, 20, 10, 18, 40), 'ACQUISITION-STARTDATE': datetime.datetime(2022, 6, 20, 10, 18, 40), 'ACQUISITION-ENDDATE': datetime.datetime(2022, 6, 20, 10, 38, 46), 'STATUS': 'DIAGNOSIS', 'SETUP_NAME': 'V2 MAJ 26-11-2019', 'CYCLE': 'TRI139', 'TEST-LABEL': '045'}\n",
      "{'DATE': datetime.datetime(2022, 6, 27, 9, 59, 46), 'ACQUISITION-STARTDATE': datetime.datetime(2022, 6, 27, 9, 59, 46), 'ACQUISITION-ENDDATE': datetime.datetime(2022, 6, 27, 10, 20, 56), 'STATUS': 'DIAGNOSIS', 'SETUP_NAME': 'V2 MAJ 26-11-2019', 'CYCLE': 'TRI139', 'TEST-LABEL': '046'}\n",
      "{'DATE': datetime.datetime(2022, 5, 7, 14, 55, 10), 'ACQUISITION-STARTDATE': datetime.datetime(2022, 5, 7, 14, 55, 10), 'ACQUISITION-ENDDATE': datetime.datetime(2022, 5, 7, 15, 15, 16), 'STATUS': 'DIAGNOSIS', 'SETUP_NAME': 'V2 MAJ 26-11-2019', 'CYCLE': 'TRI139', 'TEST-LABEL': '047'}\n",
      "{'DATE': datetime.datetime(2022, 11, 7, 8, 42, 57), 'ACQUISITION-STARTDATE': datetime.datetime(2022, 11, 7, 8, 42, 57), 'ACQUISITION-ENDDATE': datetime.datetime(2022, 11, 7, 9, 3, 3), 'STATUS': 'DIAGNOSIS', 'SETUP_NAME': 'V2 MAJ 26-11-2019', 'CYCLE': 'TRI139', 'TEST-LABEL': '048'}\n",
      "{'DATE': datetime.datetime(2022, 12, 7, 10, 43, 34), 'ACQUISITION-STARTDATE': datetime.datetime(2022, 12, 7, 10, 43, 34), 'ACQUISITION-ENDDATE': datetime.datetime(2022, 12, 7, 11, 3, 40), 'STATUS': 'DIAGNOSIS', 'SETUP_NAME': 'V2 MAJ 26-11-2019', 'CYCLE': 'TRI139', 'TEST-LABEL': '050'}\n",
      "{'DATE': datetime.datetime(2022, 7, 18, 10, 41, 24), 'ACQUISITION-STARTDATE': datetime.datetime(2022, 7, 18, 10, 41, 24), 'ACQUISITION-ENDDATE': datetime.datetime(2022, 7, 18, 11, 1, 34), 'STATUS': 'DIAGNOSIS', 'SETUP_NAME': 'V2 MAJ 26-11-2019', 'CYCLE': 'TRI139', 'TEST-LABEL': '051'}\n",
      "{'DATE': datetime.datetime(2022, 7, 25, 9, 11, 54), 'ACQUISITION-STARTDATE': datetime.datetime(2022, 7, 25, 9, 11, 54), 'ACQUISITION-ENDDATE': datetime.datetime(2022, 7, 25, 9, 32), 'STATUS': 'DIAGNOSIS', 'SETUP_NAME': 'V2 MAJ 26-11-2019', 'CYCLE': 'TRI139', 'TEST-LABEL': '052'}\n",
      "{'DATE': datetime.datetime(2022, 8, 8, 9, 26, 36), 'ACQUISITION-STARTDATE': datetime.datetime(2022, 8, 8, 9, 26, 36), 'ACQUISITION-ENDDATE': datetime.datetime(2022, 8, 8, 9, 46, 41), 'STATUS': 'DIAGNOSIS', 'SETUP_NAME': 'V2 MAJ 26-11-2019', 'CYCLE': 'TRI139', 'TEST-LABEL': '053'}\n",
      "{'DATE': datetime.datetime(2022, 8, 16, 11, 48, 21), 'ACQUISITION-STARTDATE': datetime.datetime(2022, 8, 16, 11, 48, 21), 'ACQUISITION-ENDDATE': datetime.datetime(2022, 8, 16, 12, 8, 26), 'STATUS': 'DIAGNOSIS', 'SETUP_NAME': 'V2 MAJ 26-11-2019', 'CYCLE': 'TRI139', 'TEST-LABEL': '054'}\n",
      "{'DATE': datetime.datetime(2022, 8, 22, 9, 22, 43), 'ACQUISITION-STARTDATE': datetime.datetime(2022, 8, 22, 9, 22, 43), 'ACQUISITION-ENDDATE': datetime.datetime(2022, 8, 22, 9, 42, 49), 'STATUS': 'DIAGNOSIS', 'SETUP_NAME': 'V2 MAJ 26-11-2019', 'CYCLE': 'TRI139', 'TEST-LABEL': '055'}\n",
      "{'DATE': datetime.datetime(2022, 8, 29, 9, 6, 27), 'ACQUISITION-STARTDATE': datetime.datetime(2022, 8, 29, 9, 6, 27), 'ACQUISITION-ENDDATE': datetime.datetime(2022, 8, 29, 9, 26, 33), 'STATUS': 'DIAGNOSIS', 'SETUP_NAME': 'V2 MAJ 26-11-2019', 'CYCLE': 'TRI139', 'TEST-LABEL': '056'}\n",
      "{'DATE': datetime.datetime(2022, 12, 9, 9, 23, 7), 'ACQUISITION-STARTDATE': datetime.datetime(2022, 12, 9, 9, 23, 7), 'ACQUISITION-ENDDATE': datetime.datetime(2022, 12, 9, 9, 43, 13), 'STATUS': 'DIAGNOSIS', 'SETUP_NAME': 'V2 MAJ 26-11-2019', 'CYCLE': 'TRI139', 'TEST-LABEL': '057'}\n",
      "{'DATE': datetime.datetime(2022, 9, 19, 14, 35, 3), 'ACQUISITION-STARTDATE': datetime.datetime(2022, 9, 19, 14, 35, 3), 'ACQUISITION-ENDDATE': datetime.datetime(2022, 9, 19, 14, 55, 9), 'STATUS': 'DIAGNOSIS', 'SETUP_NAME': 'V2 MAJ 26-11-2019', 'CYCLE': 'TRI139', 'TEST-LABEL': '058'}\n",
      "{'DATE': datetime.datetime(2022, 4, 10, 9, 33, 46), 'ACQUISITION-STARTDATE': datetime.datetime(2022, 4, 10, 9, 33, 46), 'ACQUISITION-ENDDATE': datetime.datetime(2022, 4, 10, 9, 53, 52), 'STATUS': 'DIAGNOSIS', 'SETUP_NAME': 'V2 MAJ 26-11-2019', 'CYCLE': 'TRI139', 'TEST-LABEL': '059'}\n",
      "{'DATE': datetime.datetime(2022, 10, 10, 9, 0, 40), 'ACQUISITION-STARTDATE': datetime.datetime(2022, 10, 10, 9, 0, 40), 'ACQUISITION-ENDDATE': datetime.datetime(2022, 10, 10, 9, 20, 45), 'STATUS': 'DIAGNOSIS', 'SETUP_NAME': 'V2 MAJ 26-11-2019', 'CYCLE': 'TRI139', 'TEST-LABEL': '060'}\n",
      "{'DATE': datetime.datetime(2022, 10, 17, 10, 22, 35), 'ACQUISITION-STARTDATE': datetime.datetime(2022, 10, 17, 10, 22, 35), 'ACQUISITION-ENDDATE': datetime.datetime(2022, 10, 17, 10, 42, 40), 'STATUS': 'DIAGNOSIS', 'SETUP_NAME': 'V2 MAJ 26-11-2019', 'CYCLE': 'TRI139', 'TEST-LABEL': '061'}\n",
      "{'DATE': datetime.datetime(2022, 12, 19, 9, 18, 11), 'ACQUISITION-STARTDATE': datetime.datetime(2022, 12, 19, 9, 18, 11), 'ACQUISITION-ENDDATE': datetime.datetime(2022, 12, 19, 9, 38, 16), 'STATUS': 'DIAGNOSIS', 'SETUP_NAME': 'V2 MAJ 26-11-2019', 'CYCLE': 'TRI140', 'TEST-LABEL': '010'}\n",
      "{'DATE': datetime.datetime(2022, 12, 26, 9, 59, 24), 'ACQUISITION-STARTDATE': datetime.datetime(2022, 12, 26, 9, 59, 24), 'ACQUISITION-ENDDATE': datetime.datetime(2022, 12, 26, 10, 19, 30), 'STATUS': 'DIAGNOSIS', 'SETUP_NAME': 'V2 MAJ 26-11-2019', 'CYCLE': 'TRI140', 'TEST-LABEL': '015'}\n",
      "{'DATE': datetime.datetime(2023, 3, 1, 9, 57, 48), 'ACQUISITION-STARTDATE': datetime.datetime(2023, 3, 1, 9, 57, 48), 'ACQUISITION-ENDDATE': datetime.datetime(2023, 3, 1, 10, 17, 54), 'STATUS': 'DIAGNOSIS', 'SETUP_NAME': 'V2 MAJ 26-11-2019', 'CYCLE': 'TRI140', 'TEST-LABEL': '016'}\n",
      "{'DATE': datetime.datetime(2023, 9, 1, 11, 28, 36), 'ACQUISITION-STARTDATE': datetime.datetime(2023, 9, 1, 11, 28, 36), 'ACQUISITION-ENDDATE': datetime.datetime(2023, 9, 1, 11, 48, 42), 'STATUS': 'DIAGNOSIS', 'SETUP_NAME': 'V2 MAJ 26-11-2019', 'CYCLE': 'TRI140', 'TEST-LABEL': '017'}\n",
      "{'DATE': datetime.datetime(2023, 1, 16, 8, 58, 27), 'ACQUISITION-STARTDATE': datetime.datetime(2023, 1, 16, 8, 58, 27), 'ACQUISITION-ENDDATE': datetime.datetime(2023, 1, 16, 9, 18, 32), 'STATUS': 'DIAGNOSIS', 'SETUP_NAME': 'V2 MAJ 26-11-2019', 'CYCLE': 'TRI140', 'TEST-LABEL': '019'}\n",
      "{'DATE': datetime.datetime(2023, 1, 23, 9, 4, 3), 'ACQUISITION-STARTDATE': datetime.datetime(2023, 1, 23, 9, 4, 3), 'ACQUISITION-ENDDATE': datetime.datetime(2023, 1, 23, 9, 24, 8), 'STATUS': 'DIAGNOSIS', 'SETUP_NAME': 'V2 MAJ 26-11-2019', 'CYCLE': 'TRI140', 'TEST-LABEL': '025'}\n",
      "{'DATE': datetime.datetime(2023, 1, 30, 9, 29, 9), 'ACQUISITION-STARTDATE': datetime.datetime(2023, 1, 30, 9, 29, 9), 'ACQUISITION-ENDDATE': datetime.datetime(2023, 1, 30, 9, 49, 15), 'STATUS': 'DIAGNOSIS', 'SETUP_NAME': 'V2 MAJ 26-11-2019', 'CYCLE': 'TRI140', 'TEST-LABEL': '026'}\n",
      "{'DATE': datetime.datetime(2023, 3, 2, 10, 47, 5), 'ACQUISITION-STARTDATE': datetime.datetime(2023, 3, 2, 10, 47, 5), 'ACQUISITION-ENDDATE': datetime.datetime(2023, 3, 2, 11, 7, 11), 'STATUS': 'DIAGNOSIS', 'SETUP_NAME': 'V2 MAJ 26-11-2019', 'CYCLE': 'TRI140', 'TEST-LABEL': '028'}\n",
      "{'DATE': datetime.datetime(2023, 6, 2, 10, 4, 19), 'ACQUISITION-STARTDATE': datetime.datetime(2023, 6, 2, 10, 4, 19), 'ACQUISITION-ENDDATE': datetime.datetime(2023, 6, 2, 10, 24, 25), 'STATUS': 'DIAGNOSIS', 'SETUP_NAME': 'V2 MAJ 26-11-2019', 'CYCLE': 'TRI140', 'TEST-LABEL': '029'}\n",
      "{'DATE': datetime.datetime(2023, 2, 13, 9, 21, 47), 'ACQUISITION-STARTDATE': datetime.datetime(2023, 2, 13, 9, 21, 47), 'ACQUISITION-ENDDATE': datetime.datetime(2023, 2, 13, 9, 41, 53), 'STATUS': 'DIAGNOSIS', 'SETUP_NAME': 'V2 MAJ 26-11-2019', 'CYCLE': 'TRI140', 'TEST-LABEL': '031'}\n",
      "{'DATE': datetime.datetime(2023, 2, 20, 11, 40, 50), 'ACQUISITION-STARTDATE': datetime.datetime(2023, 2, 20, 11, 40, 50), 'ACQUISITION-ENDDATE': datetime.datetime(2023, 2, 20, 12, 0, 55), 'STATUS': 'DIAGNOSIS', 'SETUP_NAME': 'V2 MAJ 26-11-2019', 'CYCLE': 'TRI140', 'TEST-LABEL': '032'}\n",
      "{'DATE': datetime.datetime(2023, 2, 27, 8, 32, 39), 'ACQUISITION-STARTDATE': datetime.datetime(2023, 2, 27, 8, 32, 39), 'ACQUISITION-ENDDATE': datetime.datetime(2023, 2, 27, 8, 52, 45), 'STATUS': 'DIAGNOSIS', 'SETUP_NAME': 'V2 MAJ 26-11-2019', 'CYCLE': 'TRI140', 'TEST-LABEL': '033'}\n",
      "{'DATE': datetime.datetime(2023, 6, 3, 14, 12, 57), 'ACQUISITION-STARTDATE': datetime.datetime(2023, 6, 3, 14, 12, 57), 'ACQUISITION-ENDDATE': datetime.datetime(2023, 6, 3, 14, 33, 3), 'STATUS': 'DIAGNOSIS', 'SETUP_NAME': 'V2 MAJ 26-11-2019', 'CYCLE': 'TRI140', 'TEST-LABEL': '034'}\n",
      "{'DATE': datetime.datetime(2023, 3, 13, 10, 22), 'ACQUISITION-STARTDATE': datetime.datetime(2023, 3, 13, 10, 22), 'ACQUISITION-ENDDATE': datetime.datetime(2023, 3, 13, 10, 42, 5), 'STATUS': 'DIAGNOSIS', 'SETUP_NAME': 'V2 MAJ 26-11-2019', 'CYCLE': 'TRI140', 'TEST-LABEL': '035'}\n",
      "{'DATE': datetime.datetime(2023, 3, 21, 7, 19, 2), 'ACQUISITION-STARTDATE': datetime.datetime(2023, 3, 21, 7, 19, 2), 'ACQUISITION-ENDDATE': datetime.datetime(2023, 3, 21, 7, 39, 8), 'STATUS': 'DIAGNOSIS', 'SETUP_NAME': 'V2 MAJ 26-11-2019', 'CYCLE': 'TRI140', 'TEST-LABEL': '036'}\n",
      "{'DATE': datetime.datetime(2023, 3, 27, 9, 43, 29), 'ACQUISITION-STARTDATE': datetime.datetime(2023, 3, 27, 9, 43, 29), 'ACQUISITION-ENDDATE': datetime.datetime(2023, 3, 27, 10, 3, 34), 'STATUS': 'DIAGNOSIS', 'SETUP_NAME': 'V2 MAJ 26-11-2019', 'CYCLE': 'TRI140', 'TEST-LABEL': '037'}\n",
      "{'DATE': datetime.datetime(2023, 3, 4, 10, 22, 26), 'ACQUISITION-STARTDATE': datetime.datetime(2023, 3, 4, 10, 22, 26), 'ACQUISITION-ENDDATE': datetime.datetime(2023, 3, 4, 10, 42, 32), 'STATUS': 'DIAGNOSIS', 'SETUP_NAME': 'V2 MAJ 26-11-2019', 'CYCLE': 'TRI140', 'TEST-LABEL': '038'}\n",
      "{'DATE': datetime.datetime(2023, 11, 4, 11, 22, 55), 'ACQUISITION-STARTDATE': datetime.datetime(2023, 11, 4, 11, 22, 55), 'ACQUISITION-ENDDATE': datetime.datetime(2023, 11, 4, 11, 43, 1), 'STATUS': 'DIAGNOSIS', 'SETUP_NAME': 'V2 MAJ 26-11-2019', 'CYCLE': 'TRI140', 'TEST-LABEL': '039'}\n",
      "{'DATE': datetime.datetime(2023, 4, 17, 10, 57, 15), 'ACQUISITION-STARTDATE': datetime.datetime(2023, 4, 17, 10, 57, 15), 'ACQUISITION-ENDDATE': datetime.datetime(2023, 4, 17, 11, 17, 21), 'STATUS': 'DIAGNOSIS', 'SETUP_NAME': 'V2 MAJ 26-11-2019', 'CYCLE': 'TRI140', 'TEST-LABEL': '040'}\n",
      "{'DATE': datetime.datetime(2023, 4, 24, 10, 16, 42), 'ACQUISITION-STARTDATE': datetime.datetime(2023, 4, 24, 10, 16, 42), 'ACQUISITION-ENDDATE': datetime.datetime(2023, 4, 24, 10, 36, 48), 'STATUS': 'DIAGNOSIS', 'SETUP_NAME': 'V2 MAJ 26-11-2019', 'CYCLE': 'TRI140', 'TEST-LABEL': '041'}\n",
      "{'DATE': datetime.datetime(2023, 2, 5, 11, 26, 20), 'ACQUISITION-STARTDATE': datetime.datetime(2023, 2, 5, 11, 26, 20), 'ACQUISITION-ENDDATE': datetime.datetime(2023, 2, 5, 11, 46, 25), 'STATUS': 'DIAGNOSIS', 'SETUP_NAME': 'V2 MAJ 26-11-2019', 'CYCLE': 'TRI140', 'TEST-LABEL': '046'}\n",
      "{'DATE': datetime.datetime(2023, 9, 5, 11, 1, 49), 'ACQUISITION-STARTDATE': datetime.datetime(2023, 9, 5, 11, 1, 49), 'ACQUISITION-ENDDATE': datetime.datetime(2023, 9, 5, 11, 21, 54), 'STATUS': 'DIAGNOSIS', 'SETUP_NAME': 'V2 MAJ 26-11-2019', 'CYCLE': 'TRI140', 'TEST-LABEL': '048'}\n",
      "{'DATE': datetime.datetime(2023, 5, 15, 11, 45, 48), 'ACQUISITION-STARTDATE': datetime.datetime(2023, 5, 15, 11, 45, 48), 'ACQUISITION-ENDDATE': datetime.datetime(2023, 5, 15, 12, 5, 54), 'STATUS': 'DIAGNOSIS', 'SETUP_NAME': 'V2 MAJ 26-11-2019', 'CYCLE': 'TRI140', 'TEST-LABEL': '049'}\n",
      "{'DATE': datetime.datetime(2023, 5, 30, 9, 49, 1), 'ACQUISITION-STARTDATE': datetime.datetime(2023, 5, 30, 9, 49, 1), 'ACQUISITION-ENDDATE': datetime.datetime(2023, 5, 30, 10, 9, 6), 'STATUS': 'DIAGNOSIS', 'SETUP_NAME': 'V2 MAJ 26-11-2019', 'CYCLE': 'TRI140', 'TEST-LABEL': '054'}\n",
      "{'DATE': datetime.datetime(2023, 5, 6, 10, 10, 3), 'ACQUISITION-STARTDATE': datetime.datetime(2023, 5, 6, 10, 10, 3), 'ACQUISITION-ENDDATE': datetime.datetime(2023, 5, 6, 10, 30, 8), 'STATUS': 'DIAGNOSIS', 'SETUP_NAME': 'V2 MAJ 26-11-2019', 'CYCLE': 'TRI140', 'TEST-LABEL': '055'}\n",
      "{'DATE': datetime.datetime(2023, 6, 13, 13, 30, 23), 'ACQUISITION-STARTDATE': datetime.datetime(2023, 6, 13, 13, 30, 23), 'ACQUISITION-ENDDATE': datetime.datetime(2023, 6, 13, 13, 50, 28), 'STATUS': 'DIAGNOSIS', 'SETUP_NAME': 'V2 MAJ 26-11-2019', 'CYCLE': 'TRI140', 'TEST-LABEL': '057'}\n",
      "{'DATE': datetime.datetime(2023, 6, 19, 9, 24, 45), 'ACQUISITION-STARTDATE': datetime.datetime(2023, 6, 19, 9, 24, 45), 'ACQUISITION-ENDDATE': datetime.datetime(2023, 6, 19, 9, 44, 51), 'STATUS': 'DIAGNOSIS', 'SETUP_NAME': 'V2 MAJ 26-11-2019', 'CYCLE': 'TRI140', 'TEST-LABEL': '058'}\n",
      "{'DATE': datetime.datetime(2023, 6, 27, 13, 10, 59), 'ACQUISITION-STARTDATE': datetime.datetime(2023, 6, 27, 13, 10, 59), 'ACQUISITION-ENDDATE': datetime.datetime(2023, 6, 27, 13, 31, 9), 'STATUS': 'DIAGNOSIS', 'SETUP_NAME': 'V2 MAJ 26-11-2019', 'CYCLE': 'TRI140', 'TEST-LABEL': '059'}\n",
      "{'DATE': datetime.datetime(2023, 3, 7, 13, 41, 48), 'ACQUISITION-STARTDATE': datetime.datetime(2023, 3, 7, 13, 41, 48), 'ACQUISITION-ENDDATE': datetime.datetime(2023, 3, 7, 14, 1, 54), 'STATUS': 'DIAGNOSIS', 'SETUP_NAME': 'V2 MAJ 26-11-2019', 'CYCLE': 'TRI140', 'TEST-LABEL': '060'}\n",
      "{'DATE': datetime.datetime(2023, 10, 7, 10, 11, 34), 'ACQUISITION-STARTDATE': datetime.datetime(2023, 10, 7, 10, 11, 34), 'ACQUISITION-ENDDATE': datetime.datetime(2023, 10, 7, 10, 31, 39), 'STATUS': 'DIAGNOSIS', 'SETUP_NAME': 'V2 MAJ 26-11-2019', 'CYCLE': 'TRI140', 'TEST-LABEL': '061'}\n",
      "{'DATE': datetime.datetime(2023, 7, 17, 10, 11, 47), 'ACQUISITION-STARTDATE': datetime.datetime(2023, 7, 17, 10, 11, 47), 'ACQUISITION-ENDDATE': datetime.datetime(2023, 7, 17, 10, 31, 52), 'STATUS': 'DIAGNOSIS', 'SETUP_NAME': 'V2 MAJ 26-11-2019', 'CYCLE': 'TRI140', 'TEST-LABEL': '062'}\n",
      "{'DATE': datetime.datetime(2023, 7, 24, 9, 48, 33), 'ACQUISITION-STARTDATE': datetime.datetime(2023, 7, 24, 9, 48, 33), 'ACQUISITION-ENDDATE': datetime.datetime(2023, 7, 24, 10, 8, 38), 'STATUS': 'DIAGNOSIS', 'SETUP_NAME': 'V2 MAJ 26-11-2019', 'CYCLE': 'TRI140', 'TEST-LABEL': '063'}\n",
      "{'DATE': datetime.datetime(2023, 7, 31, 10, 59, 8), 'ACQUISITION-STARTDATE': datetime.datetime(2023, 7, 31, 10, 59, 8), 'ACQUISITION-ENDDATE': datetime.datetime(2023, 7, 31, 11, 19, 19), 'STATUS': 'DIAGNOSIS', 'SETUP_NAME': 'V2 MAJ 26-11-2019', 'CYCLE': 'TRI140', 'TEST-LABEL': '064'}\n",
      "{'DATE': datetime.datetime(2023, 7, 8, 10, 8, 52), 'ACQUISITION-STARTDATE': datetime.datetime(2023, 7, 8, 10, 8, 52), 'ACQUISITION-ENDDATE': datetime.datetime(2023, 7, 8, 10, 28, 58), 'STATUS': 'DIAGNOSIS', 'SETUP_NAME': 'V2 MAJ 26-11-2019', 'CYCLE': 'TRI140', 'TEST-LABEL': '067'}\n",
      "{'DATE': datetime.datetime(2023, 8, 14, 11, 9, 11), 'ACQUISITION-STARTDATE': datetime.datetime(2023, 8, 14, 11, 9, 11), 'ACQUISITION-ENDDATE': datetime.datetime(2023, 8, 14, 11, 29, 17), 'STATUS': 'DIAGNOSIS', 'SETUP_NAME': 'V2 MAJ 26-11-2019', 'CYCLE': 'TRI140', 'TEST-LABEL': '068'}\n",
      "{'DATE': datetime.datetime(2023, 8, 28, 10, 7, 28), 'ACQUISITION-STARTDATE': datetime.datetime(2023, 8, 28, 10, 7, 28), 'ACQUISITION-ENDDATE': datetime.datetime(2023, 8, 28, 10, 27, 33), 'STATUS': 'DIAGNOSIS', 'SETUP_NAME': 'V2 MAJ 26-11-2019', 'CYCLE': 'TRI140', 'TEST-LABEL': '069'}\n"
     ]
    }
   ],
   "source": [
    "for data in res_converted:\n",
    "    print(data)"
   ]
  },
  {
   "cell_type": "code",
   "execution_count": null,
   "id": "898d9034-5936-46f4-93c9-63c03b08998a",
   "metadata": {},
   "outputs": [],
   "source": []
  },
  {
   "cell_type": "code",
   "execution_count": null,
   "id": "dd369e45-13aa-4983-84a6-d2b79496718e",
   "metadata": {},
   "outputs": [],
   "source": []
  },
  {
   "cell_type": "code",
   "execution_count": 140,
   "id": "42294595-93a3-4edc-8927-a97c2505c087",
   "metadata": {},
   "outputs": [
    {
     "ename": "TypeError",
     "evalue": "list indices must be integers or slices, not str",
     "output_type": "error",
     "traceback": [
      "\u001b[0;31m---------------------------------------------------------------------------\u001b[0m",
      "\u001b[0;31mTypeError\u001b[0m                                 Traceback (most recent call last)",
      "Cell \u001b[0;32mIn[140], line 1\u001b[0m\n\u001b[0;32m----> 1\u001b[0m \u001b[43mres\u001b[49m\u001b[43m[\u001b[49m\u001b[38;5;124;43m\"\u001b[39;49m\u001b[38;5;124;43mDATE\u001b[39;49m\u001b[38;5;124;43m\"\u001b[39;49m\u001b[43m]\u001b[49m[\u001b[38;5;241m50\u001b[39m], res[\u001b[38;5;124m\"\u001b[39m\u001b[38;5;124mCYCLE\u001b[39m\u001b[38;5;124m\"\u001b[39m][\u001b[38;5;241m50\u001b[39m]\n",
      "\u001b[0;31mTypeError\u001b[0m: list indices must be integers or slices, not str"
     ]
    }
   ],
   "source": [
    "res[\"DATE\"][50], res[\"CYCLE\"][50]"
   ]
  },
  {
   "cell_type": "code",
   "execution_count": 141,
   "id": "2d6add8a-b8f9-43a0-a067-2860b9c69894",
   "metadata": {},
   "outputs": [
    {
     "name": "stdout",
     "output_type": "stream",
     "text": [
      "1 4\n"
     ]
    }
   ],
   "source": [
    "a = [\n",
    "    [1, 2, 3, 4],\n",
    "    [1, 2, 3, 4],\n",
    "    [1, 2, 3, 4],\n",
    "    [1, 2, 3, 4],\n",
    "]\n",
    "\n",
    "print(a[3][0], a[0][3])"
   ]
  },
  {
   "cell_type": "code",
   "execution_count": 142,
   "id": "13d2262a-b805-48aa-b7bd-ff126c54e10d",
   "metadata": {},
   "outputs": [
    {
     "name": "stdout",
     "output_type": "stream",
     "text": [
      "[(1, 1, 1, 1), (2, 2, 2, 2), (3, 3, 3, 3), (4, 4, 4, 4)]\n",
      "4 1\n"
     ]
    }
   ],
   "source": [
    "b = list(zip(*a, strict=True))\n",
    "print(b)\n",
    "print(b[3][0], b[0][3])"
   ]
  },
  {
   "cell_type": "code",
   "execution_count": 143,
   "id": "152d98a6-a5db-4b8e-8915-2ef6662e8ce2",
   "metadata": {},
   "outputs": [
    {
     "data": {
      "text/plain": [
       "['TRI134', 'TRI133', 'TRI135']"
      ]
     },
     "execution_count": 143,
     "metadata": {},
     "output_type": "execute_result"
    }
   ],
   "source": [
    "import datetime\n",
    "\n",
    "res = []\n",
    "for element in res_converted:\n",
    "    if datetime.datetime(2015, 5, 1) < element[\"DATE\"] < datetime.datetime(2017, 5, 10):\n",
    "        res.append(element[\"CYCLE\"])\n",
    "\n",
    "def remove_duplicate(input):\n",
    "    return list(set(input))\n",
    "\n",
    "remove_duplicate(res)"
   ]
  },
  {
   "cell_type": "code",
   "execution_count": 144,
   "id": "d1c41e61-0fd9-45df-a6af-c90e91c74965",
   "metadata": {},
   "outputs": [
    {
     "data": {
      "text/plain": [
       "False"
      ]
     },
     "execution_count": 144,
     "metadata": {},
     "output_type": "execute_result"
    }
   ],
   "source": [
    "n = 40\n",
    "1 < n < 10"
   ]
  },
  {
   "cell_type": "code",
   "execution_count": 145,
   "id": "df9cc8fb-89f5-47ad-9802-134c2078d1dc",
   "metadata": {},
   "outputs": [
    {
     "data": {
      "text/plain": [
       "2"
      ]
     },
     "execution_count": 145,
     "metadata": {},
     "output_type": "execute_result"
    }
   ],
   "source": [
    "parse(\"01/01/3023\").weekday()"
   ]
  },
  {
   "cell_type": "code",
   "execution_count": 146,
   "id": "53443722-7159-4740-83f7-afa02d47c3a9",
   "metadata": {},
   "outputs": [
    {
     "ename": "NameError",
     "evalue": "name 'begin' is not defined",
     "output_type": "error",
     "traceback": [
      "\u001b[0;31m---------------------------------------------------------------------------\u001b[0m",
      "\u001b[0;31mNameError\u001b[0m                                 Traceback (most recent call last)",
      "Cell \u001b[0;32mIn[146], line 2\u001b[0m\n\u001b[1;32m      1\u001b[0m c \u001b[38;5;241m=\u001b[39m CSV(fname)\n\u001b[0;32m----> 2\u001b[0m c\u001b[38;5;241m.\u001b[39mget_values_between_dates(\u001b[43mbegin\u001b[49m, end)\n",
      "\u001b[0;31mNameError\u001b[0m: name 'begin' is not defined"
     ]
    }
   ],
   "source": [
    "c = CSV(fname)\n",
    "c.get_values_between_dates(begin, end)"
   ]
  },
  {
   "cell_type": "code",
   "execution_count": null,
   "id": "94a3f279-1b6d-4f6d-8047-791e6c258be3",
   "metadata": {},
   "outputs": [],
   "source": []
  },
  {
   "cell_type": "code",
   "execution_count": null,
   "id": "f2281f2f-3fb7-4da1-bdcd-25c2d2fe1f1c",
   "metadata": {},
   "outputs": [],
   "source": []
  }
 ],
 "metadata": {
  "kernelspec": {
   "display_name": "Python 3 (ipykernel)",
   "language": "python",
   "name": "python3"
  },
  "language_info": {
   "codemirror_mode": {
    "name": "ipython",
    "version": 3
   },
   "file_extension": ".py",
   "mimetype": "text/x-python",
   "name": "python",
   "nbconvert_exporter": "python",
   "pygments_lexer": "ipython3",
   "version": "3.10.9"
  }
 },
 "nbformat": 4,
 "nbformat_minor": 5
}
