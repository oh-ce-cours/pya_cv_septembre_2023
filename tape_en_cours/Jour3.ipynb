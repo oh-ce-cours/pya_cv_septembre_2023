{
 "cells": [
  {
   "cell_type": "markdown",
   "id": "5c0330ba-96e9-4375-8216-4451a3784a4d",
   "metadata": {},
   "source": [
    "# Ecrire un décorateur qui permette de mesurer le temps d'éxécution d'une fonction"
   ]
  },
  {
   "cell_type": "code",
   "execution_count": 1,
   "id": "5e9816fb-1075-4505-9754-a41f5f9b2f87",
   "metadata": {},
   "outputs": [],
   "source": [
    "import time\n",
    "\n",
    "def lente():\n",
    "    temps_avant = time.time()\n",
    "    time.sleep(0.1)\n",
    "    temps_apres = time.time()\n",
    "    duree = temps_apres - temps_avant\n",
    "    print(f\"{duree=}\")\n",
    "\n"
   ]
  },
  {
   "cell_type": "code",
   "execution_count": null,
   "id": "301bba14-8bc9-4ad0-8010-312ce0eb577b",
   "metadata": {},
   "outputs": [],
   "source": []
  }
 ],
 "metadata": {
  "kernelspec": {
   "display_name": "Python 3 (ipykernel)",
   "language": "python",
   "name": "python3"
  },
  "language_info": {
   "codemirror_mode": {
    "name": "ipython",
    "version": 3
   },
   "file_extension": ".py",
   "mimetype": "text/x-python",
   "name": "python",
   "nbconvert_exporter": "python",
   "pygments_lexer": "ipython3",
   "version": "3.10.9"
  }
 },
 "nbformat": 4,
 "nbformat_minor": 5
}
