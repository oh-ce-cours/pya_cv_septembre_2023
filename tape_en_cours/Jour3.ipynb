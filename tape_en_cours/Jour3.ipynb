{
 "cells": [
  {
   "cell_type": "markdown",
   "id": "5c0330ba-96e9-4375-8216-4451a3784a4d",
   "metadata": {},
   "source": [
    "# Ecrire un décorateur qui permette de mesurer le temps d'éxécution de plusieurs fonctions"
   ]
  },
  {
   "cell_type": "code",
   "execution_count": 4,
   "id": "5e9816fb-1075-4505-9754-a41f5f9b2f87",
   "metadata": {},
   "outputs": [],
   "source": [
    "import time\n",
    "\n",
    "def lente():\n",
    "    temps_avant = time.time()\n",
    "    time.sleep(0.1)\n",
    "    temps_apres = time.time()\n",
    "    duree = temps_apres - temps_avant\n",
    "    print(f\"{duree=}\")\n",
    "    return 42\n",
    "\n",
    "def lente2(param):\n",
    "    time.sleep(0.2*param)"
   ]
  },
  {
   "cell_type": "code",
   "execution_count": 5,
   "id": "301bba14-8bc9-4ad0-8010-312ce0eb577b",
   "metadata": {},
   "outputs": [
    {
     "name": "stdout",
     "output_type": "stream",
     "text": [
      "avant décoration\n"
     ]
    }
   ],
   "source": [
    "def ecrit_avant_apres(f):\n",
    "    def wrapper():\n",
    "        print(\"avant l'appel\")\n",
    "        f() \n",
    "        print(\"apres l'appel\")\n",
    "    return wrapper \n",
    "\n",
    "print(\"avant décoration\")\n",
    "@ecrit_avant_apres\n",
    "def parle():\n",
    "    print(\"salut\")\n"
   ]
  },
  {
   "cell_type": "code",
   "execution_count": null,
   "id": "5fcd4e39-dd63-4008-aa6b-1f62559baf3a",
   "metadata": {},
   "outputs": [],
   "source": [
    "lente2(param=3)\n",
    "lente2(3)\n",
    "lente()"
   ]
  }
 ],
 "metadata": {
  "kernelspec": {
   "display_name": "Python 3 (ipykernel)",
   "language": "python",
   "name": "python3"
  },
  "language_info": {
   "codemirror_mode": {
    "name": "ipython",
    "version": 3
   },
   "file_extension": ".py",
   "mimetype": "text/x-python",
   "name": "python",
   "nbconvert_exporter": "python",
   "pygments_lexer": "ipython3",
   "version": "3.10.9"
  }
 },
 "nbformat": 4,
 "nbformat_minor": 5
}
