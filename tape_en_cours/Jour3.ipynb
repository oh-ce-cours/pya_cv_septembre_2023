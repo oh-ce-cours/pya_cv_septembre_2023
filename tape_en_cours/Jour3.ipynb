{
 "cells": [
  {
   "cell_type": "markdown",
   "id": "5c0330ba-96e9-4375-8216-4451a3784a4d",
   "metadata": {},
   "source": [
    "# Ecrire un décorateur qui permette de mesurer le temps d'éxécution de plusieurs fonctions"
   ]
  },
  {
   "cell_type": "code",
   "execution_count": 14,
   "id": "55252568-ea88-481d-8415-2412a9157fd9",
   "metadata": {},
   "outputs": [
    {
     "name": "stdout",
     "output_type": "stream",
     "text": [
      "() {'a': 'riri', 'b': 'fifi'}\n"
     ]
    }
   ],
   "source": [
    "def je_prend_plein_parametres(*args, **kwargs):\n",
    "    print(args, kwargs)\n",
    "\n",
    "\n",
    "tableau_de_param = []\n",
    "dict_de_param = {\"a\": \"riri\", \"b\": \"fifi\"}\n",
    "je_prend_plein_parametres(*tableau_de_param, **dict_de_param)"
   ]
  },
  {
   "cell_type": "code",
   "execution_count": 22,
   "id": "5e9816fb-1075-4505-9754-a41f5f9b2f87",
   "metadata": {},
   "outputs": [],
   "source": [
    "import time\n",
    "\n",
    "def timer(fonction_decorer):\n",
    "    def wrapper(*args, **kwargs):\n",
    "        temps_avant = time.time()\n",
    "        fonction_decorer(*args, **kwargs) \n",
    "        temps_apres = time.time()\n",
    "        duree = temps_apres - temps_avant\n",
    "        print(f\"{duree=}\")\n",
    "    return wrapper \n",
    "\n",
    "@timer\n",
    "def lente():\n",
    "    temps_avant = time.time()\n",
    "    time.sleep(0.1)\n",
    "    temps_apres = time.time()\n",
    "    duree = temps_apres - temps_avant\n",
    "    print(f\"{duree=}\")\n",
    "    return 42\n",
    "\n",
    "@timer\n",
    "def lente2(param):\n",
    "    time.sleep(0.2*param)\n",
    "\n",
    "\n",
    "@timer\n",
    "def parle():\n",
    "    print(\"salut\")"
   ]
  },
  {
   "cell_type": "markdown",
   "id": "82a0c20a-dcd5-4be5-a8c9-69af455dfeae",
   "metadata": {},
   "source": [
    "```python \n",
    "@timer\n",
    "def parle():\n",
    "    pass \n",
    "\n",
    "\n",
    "<===>\n",
    "\n",
    "parle = timer(parle)\n",
    "\n",
    "```"
   ]
  },
  {
   "cell_type": "code",
   "execution_count": 23,
   "id": "5fcd4e39-dd63-4008-aa6b-1f62559baf3a",
   "metadata": {},
   "outputs": [
    {
     "name": "stdout",
     "output_type": "stream",
     "text": [
      "duree=0.6027839183807373\n",
      "duree=0.6048901081085205\n",
      "duree=0.10396385192871094\n",
      "duree=0.10406494140625\n"
     ]
    }
   ],
   "source": [
    "lente2(param=3)\n",
    "lente2(3)\n",
    "lente()"
   ]
  },
  {
   "cell_type": "code",
   "execution_count": 19,
   "id": "dc905f47-199d-40f9-bf5c-1d1fc4f31ec0",
   "metadata": {},
   "outputs": [
    {
     "name": "stdout",
     "output_type": "stream",
     "text": [
      "1\n",
      "2\n",
      "3\n"
     ]
    }
   ],
   "source": [
    "castors_juniors = {\"1\": \"riri\", \"2\": \"fifi\", \"3\": \"loulou\"}\n",
    "for castors_junior in castors_juniors:\n",
    "    print(castors_junior)"
   ]
  },
  {
   "cell_type": "code",
   "execution_count": null,
   "id": "773ae427-5672-4a6d-a1af-b97f96d44e96",
   "metadata": {},
   "outputs": [],
   "source": [
    "def a():\n",
    "    b() \n",
    "    \n",
    "def b():\n",
    "    a() \n",
    "\n",
    "b()"
   ]
  }
 ],
 "metadata": {
  "kernelspec": {
   "display_name": "Python 3 (ipykernel)",
   "language": "python",
   "name": "python3"
  },
  "language_info": {
   "codemirror_mode": {
    "name": "ipython",
    "version": 3
   },
   "file_extension": ".py",
   "mimetype": "text/x-python",
   "name": "python",
   "nbconvert_exporter": "python",
   "pygments_lexer": "ipython3",
   "version": "3.10.9"
  }
 },
 "nbformat": 4,
 "nbformat_minor": 5
}
