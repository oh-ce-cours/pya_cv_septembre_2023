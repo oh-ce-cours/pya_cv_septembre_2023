{
 "cells": [
  {
   "cell_type": "markdown",
   "id": "5c0330ba-96e9-4375-8216-4451a3784a4d",
   "metadata": {},
   "source": [
    "# Ecrire un décorateur qui permette de mesurer le temps d'éxécution de plusieurs fonctions"
   ]
  },
  {
   "cell_type": "code",
   "execution_count": 14,
   "id": "55252568-ea88-481d-8415-2412a9157fd9",
   "metadata": {},
   "outputs": [
    {
     "name": "stdout",
     "output_type": "stream",
     "text": [
      "() {'a': 'riri', 'b': 'fifi'}\n"
     ]
    }
   ],
   "source": [
    "def je_prend_plein_parametres(*args, **kwargs):\n",
    "    print(args, kwargs)\n",
    "\n",
    "\n",
    "tableau_de_param = []\n",
    "dict_de_param = {\"a\": \"riri\", \"b\": \"fifi\"}\n",
    "je_prend_plein_parametres(*tableau_de_param, **dict_de_param)"
   ]
  },
  {
   "cell_type": "code",
   "execution_count": 34,
   "id": "5e9816fb-1075-4505-9754-a41f5f9b2f87",
   "metadata": {},
   "outputs": [],
   "source": [
    "def timer(fonction_decorer):\n",
    "    def wrapper(*args, **kwargs):\n",
    "        temps_avant = time.time()\n",
    "        res = fonction_decorer(*args, **kwargs) \n",
    "        temps_apres = time.time()\n",
    "        duree = temps_apres - temps_avant\n",
    "        print(f\"{duree=}\")\n",
    "        return res\n",
    "    return wrapper \n",
    "\n",
    "@timer\n",
    "def lente():\n",
    "    temps_avant = time.time()\n",
    "    time.sleep(0.1)\n",
    "    temps_apres = time.time()\n",
    "    duree = temps_apres - temps_avant\n",
    "    print(f\"{duree=}\")\n",
    "    return 42\n",
    "\n",
    "@timer\n",
    "def lente2(param):\n",
    "    time.sleep(0.2*param)\n",
    "\n",
    "\n",
    "@timer\n",
    "def parle():\n",
    "    print(\"salut\")"
   ]
  },
  {
   "cell_type": "markdown",
   "id": "82a0c20a-dcd5-4be5-a8c9-69af455dfeae",
   "metadata": {},
   "source": [
    "```python \n",
    "@timer\n",
    "def parle():\n",
    "    pass \n",
    "\n",
    "<===>\n",
    "\n",
    "def parle():\n",
    "    pass \n",
    "parle = timer(parle)\n",
    "\n",
    "```"
   ]
  },
  {
   "cell_type": "code",
   "execution_count": 35,
   "id": "5fcd4e39-dd63-4008-aa6b-1f62559baf3a",
   "metadata": {},
   "outputs": [
    {
     "name": "stdout",
     "output_type": "stream",
     "text": [
      "duree=0.6050429344177246\n",
      "duree=0.6019270420074463\n",
      "duree=0.1019437313079834\n",
      "duree=0.10199594497680664\n",
      "42\n",
      "<function timer.<locals>.wrapper at 0x1078a8e50>\n"
     ]
    }
   ],
   "source": [
    "lente2(param=3)\n",
    "lente2(3)\n",
    "print(lente())\n",
    "print(lente)"
   ]
  },
  {
   "cell_type": "code",
   "execution_count": 36,
   "id": "dc905f47-199d-40f9-bf5c-1d1fc4f31ec0",
   "metadata": {},
   "outputs": [
    {
     "name": "stdout",
     "output_type": "stream",
     "text": [
      "1\n",
      "2\n",
      "3\n"
     ]
    }
   ],
   "source": [
    "castors_juniors = {\"1\": \"riri\", \"2\": \"fifi\", \"3\": \"loulou\"}\n",
    "for castors_junior in castors_juniors:\n",
    "    print(castors_junior)"
   ]
  },
  {
   "cell_type": "code",
   "execution_count": 37,
   "id": "773ae427-5672-4a6d-a1af-b97f96d44e96",
   "metadata": {},
   "outputs": [],
   "source": [
    "def a():\n",
    "    print(\"dasn a\")\n",
    "    b() \n",
    "    \n",
    "def b():\n",
    "    print(\"dans b\")\n",
    "    a() \n",
    "\n",
    "#b()"
   ]
  },
  {
   "cell_type": "markdown",
   "id": "b38e278e-8e5c-4a0c-ab06-c9b0a92d423f",
   "metadata": {},
   "source": [
    "pain\n",
    "salade \n",
    "tomate \n",
    "steak \n",
    "fromage \n",
    "salade \n",
    "pain"
   ]
  },
  {
   "cell_type": "markdown",
   "id": "1ed2da95-822d-4ff5-9a63-949b76906943",
   "metadata": {},
   "source": [
    "# Exemple de decorateur pour faire de la mise en cache"
   ]
  },
  {
   "cell_type": "code",
   "execution_count": 52,
   "id": "817323c2-cd56-498f-9006-53a7e45ba2c3",
   "metadata": {},
   "outputs": [],
   "source": [
    "from functools import lru_cache\n",
    "\n",
    "@lru_cache(maxsize=None)\n",
    "def fib(n):\n",
    "    if n < 2:\n",
    "        return n\n",
    "    print(n)\n",
    "    return fib(n-1) + fib(n-2)"
   ]
  },
  {
   "cell_type": "code",
   "execution_count": 53,
   "id": "85675d0f-9410-45db-aca4-93a4c34738a0",
   "metadata": {},
   "outputs": [
    {
     "name": "stdout",
     "output_type": "stream",
     "text": [
      "20\n",
      "19\n",
      "18\n",
      "17\n",
      "16\n",
      "15\n",
      "14\n",
      "13\n",
      "12\n",
      "11\n",
      "10\n",
      "9\n",
      "8\n",
      "7\n",
      "6\n",
      "5\n",
      "4\n",
      "3\n",
      "2\n"
     ]
    },
    {
     "data": {
      "text/plain": [
       "6765"
      ]
     },
     "execution_count": 53,
     "metadata": {},
     "output_type": "execute_result"
    }
   ],
   "source": [
    "fib(20)"
   ]
  },
  {
   "cell_type": "code",
   "execution_count": null,
   "id": "093964ee-0775-46ca-ab60-99569b4fe890",
   "metadata": {},
   "outputs": [],
   "source": [
    "%timeit fib(21)"
   ]
  },
  {
   "cell_type": "code",
   "execution_count": 48,
   "id": "cde43825-42fe-417c-bd15-c5bc8910205e",
   "metadata": {},
   "outputs": [
    {
     "name": "stdout",
     "output_type": "stream",
     "text": [
      "738 ns ± 4.34 ns per loop (mean ± std. dev. of 7 runs, 1,000,000 loops each)\n"
     ]
    }
   ],
   "source": [
    "%timeit fib(5)"
   ]
  },
  {
   "cell_type": "code",
   "execution_count": 49,
   "id": "19761013-270a-4f60-8f76-f431b87a52f8",
   "metadata": {},
   "outputs": [
    {
     "name": "stdout",
     "output_type": "stream",
     "text": [
      "1.23 µs ± 3.51 ns per loop (mean ± std. dev. of 7 runs, 1,000,000 loops each)\n"
     ]
    }
   ],
   "source": [
    "%timeit fib(6)"
   ]
  },
  {
   "cell_type": "code",
   "execution_count": 50,
   "id": "944c001d-38ff-400c-8385-e82f8a73a8f5",
   "metadata": {},
   "outputs": [
    {
     "name": "stdout",
     "output_type": "stream",
     "text": [
      "8.63 µs ± 28.5 ns per loop (mean ± std. dev. of 7 runs, 100,000 loops each)\n"
     ]
    }
   ],
   "source": [
    "%timeit fib(10)"
   ]
  },
  {
   "cell_type": "code",
   "execution_count": 51,
   "id": "8188755d-a684-4f3b-82fc-f1560c982a00",
   "metadata": {},
   "outputs": [
    {
     "name": "stdout",
     "output_type": "stream",
     "text": [
      "14 µs ± 32.9 ns per loop (mean ± std. dev. of 7 runs, 100,000 loops each)\n"
     ]
    }
   ],
   "source": [
    "%timeit fib(11)"
   ]
  },
  {
   "cell_type": "code",
   "execution_count": 54,
   "id": "3ffe49ba-84d3-4030-afdd-480ec1ab4c4b",
   "metadata": {},
   "outputs": [
    {
     "name": "stdout",
     "output_type": "stream",
     "text": [
      "29.1 ns ± 0.0842 ns per loop (mean ± std. dev. of 7 runs, 10,000,000 loops each)\n"
     ]
    }
   ],
   "source": [
    "%timeit fib(11)"
   ]
  },
  {
   "cell_type": "code",
   "execution_count": 55,
   "id": "d7ae4dcf-cd37-4c76-a61a-ed1a6a0eb4ec",
   "metadata": {},
   "outputs": [
    {
     "name": "stdout",
     "output_type": "stream",
     "text": [
      "110\n",
      "109\n",
      "108\n",
      "107\n",
      "106\n",
      "105\n",
      "104\n",
      "103\n",
      "102\n",
      "101\n",
      "100\n",
      "99\n",
      "98\n",
      "97\n",
      "96\n",
      "95\n",
      "94\n",
      "93\n",
      "92\n",
      "91\n",
      "90\n",
      "89\n",
      "88\n",
      "87\n",
      "86\n",
      "85\n",
      "84\n",
      "83\n",
      "82\n",
      "81\n",
      "80\n",
      "79\n",
      "78\n",
      "77\n",
      "76\n",
      "75\n",
      "74\n",
      "73\n",
      "72\n",
      "71\n",
      "70\n",
      "69\n",
      "68\n",
      "67\n",
      "66\n",
      "65\n",
      "64\n",
      "63\n",
      "62\n",
      "61\n",
      "60\n",
      "59\n",
      "58\n",
      "57\n",
      "56\n",
      "55\n",
      "54\n",
      "53\n",
      "52\n",
      "51\n",
      "50\n",
      "49\n",
      "48\n",
      "47\n",
      "46\n",
      "45\n",
      "44\n",
      "43\n",
      "42\n",
      "41\n",
      "40\n",
      "39\n",
      "38\n",
      "37\n",
      "36\n",
      "35\n",
      "34\n",
      "33\n",
      "32\n",
      "31\n",
      "30\n",
      "29\n",
      "28\n",
      "27\n",
      "26\n",
      "25\n",
      "24\n",
      "23\n",
      "22\n",
      "21\n",
      "29.2 ns ± 0.152 ns per loop (mean ± std. dev. of 7 runs, 10,000,000 loops each)\n"
     ]
    }
   ],
   "source": [
    "%timeit fib(110)"
   ]
  },
  {
   "cell_type": "code",
   "execution_count": 113,
   "id": "61b46689-f384-4511-983c-25dd515c8d86",
   "metadata": {},
   "outputs": [],
   "source": [
    "def decorateur_cache(f):\n",
    "    cache = {}\n",
    "    print(f\"j'ai créé le cache pour {f}\")\n",
    "\n",
    "    #@functools.wraps(f)\n",
    "    def wrapper(*args):\n",
    "        \"\"\"\n",
    "        \"\"\"\n",
    "        if args not in cache:\n",
    "            res = f(*args)\n",
    "            cache[args] = res\n",
    "        res = cache[args]\n",
    "        return res\n",
    "\n",
    "    # en vrai on utiliserai le wrapper @functools.wraps pour faire de faux papiers à la fonctions\n",
    "    print(id(f), id(wrapper))\n",
    "    wrapper.__doc__ = f.__doc__\n",
    "    wrapper.__qualname__ = f.__qualname__\n",
    "    wrapper.__name__ = f.__name__\n",
    "    \n",
    "    return wrapper"
   ]
  },
  {
   "cell_type": "code",
   "execution_count": 106,
   "id": "8be32ca2-c6b2-46a9-ab4b-847db4cfbf4d",
   "metadata": {},
   "outputs": [
    {
     "name": "stdout",
     "output_type": "stream",
     "text": [
      "j'ai créé le cache pour <function toto at 0x118504940>\n",
      "4702882112 4702885712\n"
     ]
    }
   ],
   "source": [
    "@decorateur_cache\n",
    "def toto():\n",
    "    print(\"salut\")"
   ]
  },
  {
   "cell_type": "code",
   "execution_count": 107,
   "id": "57731be8-fbc2-4e51-a29e-a69737d8ff4e",
   "metadata": {},
   "outputs": [
    {
     "name": "stdout",
     "output_type": "stream",
     "text": [
      "j'ai créé le cache pour <function tata at 0x118505fc0>\n",
      "4702887872 4702884560\n"
     ]
    }
   ],
   "source": [
    "@decorateur_cache\n",
    "def tata():\n",
    "    print(\"salut\")"
   ]
  },
  {
   "cell_type": "code",
   "execution_count": 108,
   "id": "72cf1c5a-6df4-4258-9e5f-6d5931d914f2",
   "metadata": {},
   "outputs": [
    {
     "name": "stdout",
     "output_type": "stream",
     "text": [
      "salut\n"
     ]
    }
   ],
   "source": [
    "toto()"
   ]
  },
  {
   "cell_type": "code",
   "execution_count": 109,
   "id": "6eaf39ef-55c1-4899-b503-5145f614fb99",
   "metadata": {},
   "outputs": [
    {
     "name": "stdout",
     "output_type": "stream",
     "text": [
      "j'ai créé le cache pour <function fib at 0x118507ac0>\n",
      "4702894784 4702893776\n"
     ]
    }
   ],
   "source": [
    "@decorateur_cache\n",
    "def fib(n):\n",
    "    if n < 2:\n",
    "        return n\n",
    "    print(n)\n",
    "    return fib(n-1) + fib(n-2)"
   ]
  },
  {
   "cell_type": "code",
   "execution_count": 110,
   "id": "c2c90f92-efcb-4a73-bfc1-9a9f38e658af",
   "metadata": {},
   "outputs": [
    {
     "name": "stdout",
     "output_type": "stream",
     "text": [
      "100\n",
      "99\n",
      "98\n",
      "97\n",
      "96\n",
      "95\n",
      "94\n",
      "93\n",
      "92\n",
      "91\n",
      "90\n",
      "89\n",
      "88\n",
      "87\n",
      "86\n",
      "85\n",
      "84\n",
      "83\n",
      "82\n",
      "81\n",
      "80\n",
      "79\n",
      "78\n",
      "77\n",
      "76\n",
      "75\n",
      "74\n",
      "73\n",
      "72\n",
      "71\n",
      "70\n",
      "69\n",
      "68\n",
      "67\n",
      "66\n",
      "65\n",
      "64\n",
      "63\n",
      "62\n",
      "61\n",
      "60\n",
      "59\n",
      "58\n",
      "57\n",
      "56\n",
      "55\n",
      "54\n",
      "53\n",
      "52\n",
      "51\n",
      "50\n",
      "49\n",
      "48\n",
      "47\n",
      "46\n",
      "45\n",
      "44\n",
      "43\n",
      "42\n",
      "41\n",
      "40\n",
      "39\n",
      "38\n",
      "37\n",
      "36\n",
      "35\n",
      "34\n",
      "33\n",
      "32\n",
      "31\n",
      "30\n",
      "29\n",
      "28\n",
      "27\n",
      "26\n",
      "25\n",
      "24\n",
      "23\n",
      "22\n",
      "21\n",
      "20\n",
      "19\n",
      "18\n",
      "17\n",
      "16\n",
      "15\n",
      "14\n",
      "13\n",
      "12\n",
      "11\n",
      "10\n",
      "9\n",
      "8\n",
      "7\n",
      "6\n",
      "5\n",
      "4\n",
      "3\n",
      "2\n"
     ]
    },
    {
     "data": {
      "text/plain": [
       "354224848179261915075"
      ]
     },
     "execution_count": 110,
     "metadata": {},
     "output_type": "execute_result"
    }
   ],
   "source": [
    "fib(100)"
   ]
  },
  {
   "cell_type": "code",
   "execution_count": 111,
   "id": "46a53e62-bb91-4ca9-8dac-1d77a97e5853",
   "metadata": {},
   "outputs": [
    {
     "name": "stdout",
     "output_type": "stream",
     "text": [
      "j'ai créé le cache pour <function f at 0x1185053f0>\n",
      "4702884848 4702895504\n"
     ]
    },
    {
     "data": {
      "text/plain": [
       "('f', 'f', 'une docstring')"
      ]
     },
     "execution_count": 111,
     "metadata": {},
     "output_type": "execute_result"
    }
   ],
   "source": [
    "@decorateur_cache\n",
    "def f():\n",
    "    \"\"\"une docstring\"\"\"\n",
    "    pass \n",
    "\n",
    "f.__name__, f.__qualname__, f.__doc__"
   ]
  },
  {
   "cell_type": "code",
   "execution_count": 112,
   "id": "49f4e39a-2644-48ef-8a1c-0777577a1bed",
   "metadata": {},
   "outputs": [
    {
     "name": "stdout",
     "output_type": "stream",
     "text": [
      "Help on function f in module __main__:\n",
      "\n",
      "f(*args)\n",
      "    une docstring\n",
      "\n"
     ]
    }
   ],
   "source": [
    "help(f)"
   ]
  },
  {
   "cell_type": "markdown",
   "id": "69306232-d4e8-4767-9455-f714d83cab6c",
   "metadata": {},
   "source": [
    "# Opérations sur les sets "
   ]
  },
  {
   "cell_type": "code",
   "execution_count": 115,
   "id": "bf8725d2-daf4-440a-aa97-117e3ebe0cdf",
   "metadata": {},
   "outputs": [
    {
     "name": "stdout",
     "output_type": "stream",
     "text": [
      "<class 'set'>\n"
     ]
    }
   ],
   "source": [
    "a = {1, 2, 3}\n",
    "b = {3, 4, 5}"
   ]
  },
  {
   "cell_type": "code",
   "execution_count": null,
   "id": "47506cc4-2844-427b-99b8-547b5eb902b8",
   "metadata": {},
   "outputs": [],
   "source": []
  },
  {
   "cell_type": "code",
   "execution_count": null,
   "id": "9f9669b8-3f31-459d-989e-a7b6da660cd5",
   "metadata": {},
   "outputs": [],
   "source": []
  },
  {
   "cell_type": "code",
   "execution_count": null,
   "id": "76d85938-b592-4282-8d48-07bab8f27f58",
   "metadata": {},
   "outputs": [],
   "source": []
  }
 ],
 "metadata": {
  "kernelspec": {
   "display_name": "Python 3 (ipykernel)",
   "language": "python",
   "name": "python3"
  },
  "language_info": {
   "codemirror_mode": {
    "name": "ipython",
    "version": 3
   },
   "file_extension": ".py",
   "mimetype": "text/x-python",
   "name": "python",
   "nbconvert_exporter": "python",
   "pygments_lexer": "ipython3",
   "version": "3.10.9"
  }
 },
 "nbformat": 4,
 "nbformat_minor": 5
}
