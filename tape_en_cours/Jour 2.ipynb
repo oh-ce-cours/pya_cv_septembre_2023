{
 "cells": [
  {
   "cell_type": "markdown",
   "id": "00a41edb-9588-4ca3-a12b-42632fa6b3dd",
   "metadata": {},
   "source": [
    "# A voir \n",
    "\n",
    "* fonctions d'ordre supérieur (recoder map)\n",
    "* tests unitaires + mocking \n",
    "* manipulation de strings / fstrings "
   ]
  },
  {
   "cell_type": "markdown",
   "id": "c7d5b449-5f52-4e18-b5fc-21cc90145960",
   "metadata": {},
   "source": [
    "# Résumé du jour précédent \n",
    "\n",
    "* environnements virtuels\n",
    "    * un environnement par projet / cela va vous éviter beaucoup de problèmes\n",
    "    * cycle de vie (dans un shell / CMD) :\n",
    "        * création (une fois par projet) : `python -m venv LE_NOM_DU_VENV`\n",
    "        * activer (dès que vous voulez utiliser le projet) :\n",
    "            * sous Unix : `source LE_NOM_DU_VENV/bin/activate`\n",
    "            * sous Windows : `LE_NOM_DU_VENV/source/activate`\n",
    "        * désactivation :\n",
    "            *  `deactivate`\n",
    "            *  fermer le terminal / redémarrer l'ordi\n",
    "        * suppression : on supprime le répertoire\n",
    "    * on ne le met pas dans le dépôt git\n",
    "        * ça prend de la place\n",
    "        * c'est dépendant entre les versions de système d'exploitation et de machine \n",
    "* installation de paquets / requirements.txt : liste les paquets et leur version installés dans le python actif\n",
    "    * ne contient pas la version de python utilisée, elle doit être renseignée ailleurs, par exemple, dans un readme\n",
    "    * construit avec `pip freeze > requirements.txt`\n",
    "    * on installe les paquets avec `pip install -r requirements.txt`\n",
    "* utilisation de jupyter (programmation littérale)\n",
    "    * pour le lancer `jupyter notebook`\n",
    "* exercice\n",
    "* opérations paraisseuses\n",
    "    * on déclenche le calcul uniquement quand on a besoin \n",
    "* discussion sur les commentaires\n",
    "    * qu'est-ce qu'un bon commentaire ?\n",
    "        * il explique le pourquoi et pas le comment\n",
    "    * comment les écrire ?\n",
    "        * soit un dièse, soit une \"docstring\"\n",
    "        * pour les docstring, on peut utiliser l'extension \"autodocsting\" de VSCode\n",
    "        * les docstring permettent de construire des documentations, par exemple avec \"sphinx\" : https://www.sphinx-doc.org/en/master/"
   ]
  },
  {
   "cell_type": "markdown",
   "id": "8aeff66f-c2ac-43bb-aee5-2d4af9c76b4b",
   "metadata": {},
   "source": [
    "# Exercice"
   ]
  },
  {
   "cell_type": "code",
   "execution_count": 2,
   "id": "6a1c90a5-bd6a-4e76-8cf9-96bf3b26d7a9",
   "metadata": {},
   "outputs": [
    {
     "ename": "TypeError",
     "evalue": "my_map() missing 1 required positional argument: 'iterator'",
     "output_type": "error",
     "traceback": [
      "\u001b[0;31m---------------------------------------------------------------------------\u001b[0m",
      "\u001b[0;31mTypeError\u001b[0m                                 Traceback (most recent call last)",
      "Cell \u001b[0;32mIn[2], line 5\u001b[0m\n\u001b[1;32m      1\u001b[0m \u001b[38;5;28;01mdef\u001b[39;00m \u001b[38;5;21mmy_map\u001b[39m(f, iterator):\n\u001b[1;32m      2\u001b[0m     \u001b[38;5;28;01mpass\u001b[39;00m \n\u001b[0;32m----> 5\u001b[0m \u001b[38;5;28mlist\u001b[39m(\u001b[43mmy_map\u001b[49m\u001b[43m(\u001b[49m\u001b[38;5;241;43m.\u001b[39;49m\u001b[38;5;241;43m.\u001b[39;49m\u001b[38;5;241;43m.\u001b[39;49m\u001b[43m)\u001b[49m)\n",
      "\u001b[0;31mTypeError\u001b[0m: my_map() missing 1 required positional argument: 'iterator'"
     ]
    }
   ],
   "source": [
    "def fois_deux(nombre):\n",
    "    return nombre * 2\n",
    "\n",
    "def my_map(f, iterator):\n",
    "    \n",
    "\n",
    "\n",
    "list(my_map(...))"
   ]
  },
  {
   "cell_type": "code",
   "execution_count": null,
   "id": "e2005b5a-a6dc-4fdc-a014-b012538cfb44",
   "metadata": {},
   "outputs": [],
   "source": []
  }
 ],
 "metadata": {
  "kernelspec": {
   "display_name": "Python 3 (ipykernel)",
   "language": "python",
   "name": "python3"
  },
  "language_info": {
   "codemirror_mode": {
    "name": "ipython",
    "version": 3
   },
   "file_extension": ".py",
   "mimetype": "text/x-python",
   "name": "python",
   "nbconvert_exporter": "python",
   "pygments_lexer": "ipython3",
   "version": "3.10.9"
  }
 },
 "nbformat": 4,
 "nbformat_minor": 5
}
