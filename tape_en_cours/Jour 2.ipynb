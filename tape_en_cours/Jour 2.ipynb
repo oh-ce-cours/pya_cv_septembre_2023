{
 "cells": [
  {
   "cell_type": "markdown",
   "id": "00a41edb-9588-4ca3-a12b-42632fa6b3dd",
   "metadata": {},
   "source": [
    "# A voir \n",
    "\n",
    "* fonctions d'ordre supérieur (recoder map)\n",
    "* tests unitaires + mocking \n",
    "* manipulation de strings / fstrings "
   ]
  },
  {
   "cell_type": "markdown",
   "id": "c7d5b449-5f52-4e18-b5fc-21cc90145960",
   "metadata": {},
   "source": [
    "# Résumé du jour précédent \n",
    "\n",
    "* environnements virtuels\n",
    "    * un environnement par projet / cela va vous éviter beaucoup de problèmes\n",
    "    * cycle de vie (dans un shell / CMD) :\n",
    "        * création (une fois par projet) : `python -m venv LE_NOM_DU_VENV`\n",
    "        * activer (dès que vous voulez utiliser le projet) :\n",
    "            * sous Unix : `source LE_NOM_DU_VENV/bin/activate`\n",
    "            * sous Windows : `LE_NOM_DU_VENV/source/activate`\n",
    "        * désactivation :\n",
    "            *  `deactivate`\n",
    "            *  fermer le terminal / redémarrer l'ordi\n",
    "        * suppression : on supprime le répertoire\n",
    "    * on ne le met pas dans le dépôt git\n",
    "        * ça prend de la place\n",
    "        * c'est dépendant entre les versions de système d'exploitation et de machine \n",
    "* installation de paquets / requirements.txt : liste les paquets et leur version installés dans le python actif\n",
    "    * ne contient pas la version de python utilisée, elle doit être renseignée ailleurs, par exemple, dans un readme\n",
    "    * construit avec `pip freeze > requirements.txt`\n",
    "    * on installe les paquets avec `pip install -r requirements.txt`\n",
    "* utilisation de jupyter (programmation littérale)\n",
    "    * pour le lancer `jupyter notebook`\n",
    "* exercice\n",
    "* opérations paraisseuses\n",
    "    * on déclenche le calcul uniquement quand on a besoin \n",
    "* discussion sur les commentaires\n",
    "    * qu'est-ce qu'un bon commentaire ?\n",
    "        * il explique le pourquoi et pas le comment\n",
    "    * comment les écrire ?\n",
    "        * soit un dièse, soit une \"docstring\"\n",
    "        * pour les docstring, on peut utiliser l'extension \"autodocsting\" de VSCode\n",
    "        * les docstring permettent de construire des documentations, par exemple avec \"sphinx\" : https://www.sphinx-doc.org/en/master/"
   ]
  },
  {
   "cell_type": "markdown",
   "id": "8aeff66f-c2ac-43bb-aee5-2d4af9c76b4b",
   "metadata": {},
   "source": [
    "# Exercice"
   ]
  },
  {
   "cell_type": "code",
   "execution_count": 5,
   "id": "6a1c90a5-bd6a-4e76-8cf9-96bf3b26d7a9",
   "metadata": {},
   "outputs": [
    {
     "data": {
      "text/plain": [
       "[2, 4, 6]"
      ]
     },
     "execution_count": 5,
     "metadata": {},
     "output_type": "execute_result"
    }
   ],
   "source": [
    "def fois_deux(nombre):\n",
    "    return nombre * 2\n",
    "\n",
    "def my_map(f, iterator):\n",
    "    res = []\n",
    "    for value in iterator:\n",
    "        f_result = f(value)\n",
    "        res.append(f_result)\n",
    "    return res \n",
    "\n",
    "my_map(fois_deux, [1, 2, 3])"
   ]
  },
  {
   "cell_type": "code",
   "execution_count": 7,
   "id": "e2005b5a-a6dc-4fdc-a014-b012538cfb44",
   "metadata": {},
   "outputs": [
    {
     "ename": "TypeError",
     "evalue": "multiplication() missing 1 required positional argument: 'b'",
     "output_type": "error",
     "traceback": [
      "\u001b[0;31m---------------------------------------------------------------------------\u001b[0m",
      "\u001b[0;31mTypeError\u001b[0m                                 Traceback (most recent call last)",
      "Cell \u001b[0;32mIn[7], line 4\u001b[0m\n\u001b[1;32m      1\u001b[0m \u001b[38;5;28;01mdef\u001b[39;00m \u001b[38;5;21mmultiplication\u001b[39m(a, b):\n\u001b[1;32m      2\u001b[0m     \u001b[38;5;28;01mreturn\u001b[39;00m a \u001b[38;5;241m*\u001b[39m b \n\u001b[0;32m----> 4\u001b[0m \u001b[43mmy_map\u001b[49m\u001b[43m(\u001b[49m\u001b[43mmultiplication\u001b[49m\u001b[43m,\u001b[49m\u001b[43m \u001b[49m\u001b[43m[\u001b[49m\u001b[38;5;241;43m1\u001b[39;49m\u001b[43m,\u001b[49m\u001b[43m \u001b[49m\u001b[38;5;241;43m2\u001b[39;49m\u001b[43m,\u001b[49m\u001b[43m \u001b[49m\u001b[38;5;241;43m3\u001b[39;49m\u001b[43m]\u001b[49m\u001b[43m)\u001b[49m\n",
      "Cell \u001b[0;32mIn[5], line 7\u001b[0m, in \u001b[0;36mmy_map\u001b[0;34m(f, iterator)\u001b[0m\n\u001b[1;32m      5\u001b[0m res \u001b[38;5;241m=\u001b[39m []\n\u001b[1;32m      6\u001b[0m \u001b[38;5;28;01mfor\u001b[39;00m value \u001b[38;5;129;01min\u001b[39;00m iterator:\n\u001b[0;32m----> 7\u001b[0m     f_result \u001b[38;5;241m=\u001b[39m \u001b[43mf\u001b[49m\u001b[43m(\u001b[49m\u001b[43mvalue\u001b[49m\u001b[43m)\u001b[49m\n\u001b[1;32m      8\u001b[0m     res\u001b[38;5;241m.\u001b[39mappend(f_result)\n\u001b[1;32m      9\u001b[0m \u001b[38;5;28;01mreturn\u001b[39;00m res\n",
      "\u001b[0;31mTypeError\u001b[0m: multiplication() missing 1 required positional argument: 'b'"
     ]
    }
   ],
   "source": [
    "def multiplication(a, b):\n",
    "    return a * b \n",
    "\n",
    "my_map(multiplication, [1, 2, 3])"
   ]
  },
  {
   "cell_type": "markdown",
   "id": "76b72eda-d6fa-452c-b708-721f25e7ed90",
   "metadata": {},
   "source": [
    "## Zip"
   ]
  },
  {
   "cell_type": "code",
   "execution_count": 10,
   "id": "f3797040-c0da-4725-a724-c08392113f80",
   "metadata": {},
   "outputs": [
    {
     "data": {
      "text/plain": [
       "[('hiver', 'blanc'), ('printemps', 'vert'), ('été', 'jaune')]"
      ]
     },
     "execution_count": 10,
     "metadata": {},
     "output_type": "execute_result"
    }
   ],
   "source": [
    "list_adjectifs = [\"blanc\", \"vert\", \"jaune\", \"orange\"]\n",
    "list_saisons = [\"hiver\", \"printemps\", \"été\"]\n",
    "\n",
    "list(zip(list_saisons, list_adjectifs))"
   ]
  },
  {
   "cell_type": "code",
   "execution_count": null,
   "id": "96362a17-97f3-49f0-9f30-e98eada911db",
   "metadata": {},
   "outputs": [],
   "source": []
  }
 ],
 "metadata": {
  "kernelspec": {
   "display_name": "Python 3 (ipykernel)",
   "language": "python",
   "name": "python3"
  },
  "language_info": {
   "codemirror_mode": {
    "name": "ipython",
    "version": 3
   },
   "file_extension": ".py",
   "mimetype": "text/x-python",
   "name": "python",
   "nbconvert_exporter": "python",
   "pygments_lexer": "ipython3",
   "version": "3.10.9"
  }
 },
 "nbformat": 4,
 "nbformat_minor": 5
}
