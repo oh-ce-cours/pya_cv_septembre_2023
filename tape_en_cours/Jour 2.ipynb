{
 "cells": [
  {
   "cell_type": "markdown",
   "id": "00a41edb-9588-4ca3-a12b-42632fa6b3dd",
   "metadata": {},
   "source": [
    "# A voir \n",
    "\n",
    "* fonctions d'ordre supérieur (recoder map)\n",
    "* tests unitaires + mocking \n",
    "* manipulation de strings / fstrings "
   ]
  },
  {
   "cell_type": "markdown",
   "id": "c7d5b449-5f52-4e18-b5fc-21cc90145960",
   "metadata": {},
   "source": [
    "# Résumé du jour précédent \n",
    "\n",
    "* environnements virtuels\n",
    "    * un environnement par projet / cela va vous éviter beaucoup de problèmes\n",
    "    * cycle de vie (dans un shell / CMD) :\n",
    "        * création (une fois par projet) : `python -m venv LE_NOM_DU_VENV`\n",
    "        * activer (dès que vous voulez utiliser le projet) :\n",
    "            * sous Unix : `source LE_NOM_DU_VENV/bin/activate`\n",
    "            * sous Windows : `LE_NOM_DU_VENV/source/activate`\n",
    "        * désactivation :\n",
    "            *  `deactivate`\n",
    "            *  fermer le terminal / redémarrer l'ordi\n",
    "        * suppression : on supprime le répertoire\n",
    "    * on ne le met pas dans le dépôt git\n",
    "        * ça prend de la place\n",
    "        * c'est dépendant entre les versions de système d'exploitation et de machine \n",
    "* installation de paquets / requirements.txt : liste les paquets et leur version installés dans le python actif\n",
    "    * ne contient pas la version de python utilisée, elle doit être renseignée ailleurs, par exemple, dans un readme\n",
    "    * construit avec `pip freeze > requirements.txt`\n",
    "    * on installe les paquets avec `pip install -r requirements.txt`\n",
    "* utilisation de jupyter (programmation littérale)\n",
    "    * pour le lancer `jupyter notebook`\n",
    "* exercice\n",
    "* opérations paraisseuses\n",
    "    * on déclenche le calcul uniquement quand on a besoin \n",
    "* discussion sur les commentaires\n",
    "    * qu'est-ce qu'un bon commentaire ?\n",
    "        * il explique le pourquoi et pas le comment\n",
    "    * comment les écrire ?\n",
    "        * soit un dièse, soit une \"docstring\"\n",
    "        * pour les docstring, on peut utiliser l'extension \"autodocsting\" de VSCode\n",
    "        * les docstring permettent de construire des documentations, par exemple avec \"sphinx\" : https://www.sphinx-doc.org/en/master/"
   ]
  },
  {
   "cell_type": "markdown",
   "id": "8aeff66f-c2ac-43bb-aee5-2d4af9c76b4b",
   "metadata": {},
   "source": [
    "# Exercice\n",
    "\n",
    "Recoder la fonction \"map\" de python. \n",
    "\n",
    "Etapes : \n",
    "* la fonction a mapper ne prend qu'un paramètre\n",
    "* la fonction a mapper peut en accepter autant qu'elle le souhaite"
   ]
  },
  {
   "cell_type": "code",
   "execution_count": 5,
   "id": "6a1c90a5-bd6a-4e76-8cf9-96bf3b26d7a9",
   "metadata": {},
   "outputs": [
    {
     "data": {
      "text/plain": [
       "[2, 4, 6]"
      ]
     },
     "execution_count": 5,
     "metadata": {},
     "output_type": "execute_result"
    }
   ],
   "source": [
    "def fois_deux(nombre):\n",
    "    return nombre * 2\n",
    "\n",
    "def my_map(f, iterator):\n",
    "    res = []\n",
    "    for value in iterator:\n",
    "        f_result = f(value)\n",
    "        res.append(f_result)\n",
    "    return res \n",
    "\n",
    "my_map(fois_deux, [1, 2, 3])"
   ]
  },
  {
   "cell_type": "code",
   "execution_count": 7,
   "id": "e2005b5a-a6dc-4fdc-a014-b012538cfb44",
   "metadata": {},
   "outputs": [
    {
     "ename": "TypeError",
     "evalue": "multiplication() missing 1 required positional argument: 'b'",
     "output_type": "error",
     "traceback": [
      "\u001b[0;31m---------------------------------------------------------------------------\u001b[0m",
      "\u001b[0;31mTypeError\u001b[0m                                 Traceback (most recent call last)",
      "Cell \u001b[0;32mIn[7], line 4\u001b[0m\n\u001b[1;32m      1\u001b[0m \u001b[38;5;28;01mdef\u001b[39;00m \u001b[38;5;21mmultiplication\u001b[39m(a, b):\n\u001b[1;32m      2\u001b[0m     \u001b[38;5;28;01mreturn\u001b[39;00m a \u001b[38;5;241m*\u001b[39m b \n\u001b[0;32m----> 4\u001b[0m \u001b[43mmy_map\u001b[49m\u001b[43m(\u001b[49m\u001b[43mmultiplication\u001b[49m\u001b[43m,\u001b[49m\u001b[43m \u001b[49m\u001b[43m[\u001b[49m\u001b[38;5;241;43m1\u001b[39;49m\u001b[43m,\u001b[49m\u001b[43m \u001b[49m\u001b[38;5;241;43m2\u001b[39;49m\u001b[43m,\u001b[49m\u001b[43m \u001b[49m\u001b[38;5;241;43m3\u001b[39;49m\u001b[43m]\u001b[49m\u001b[43m)\u001b[49m\n",
      "Cell \u001b[0;32mIn[5], line 7\u001b[0m, in \u001b[0;36mmy_map\u001b[0;34m(f, iterator)\u001b[0m\n\u001b[1;32m      5\u001b[0m res \u001b[38;5;241m=\u001b[39m []\n\u001b[1;32m      6\u001b[0m \u001b[38;5;28;01mfor\u001b[39;00m value \u001b[38;5;129;01min\u001b[39;00m iterator:\n\u001b[0;32m----> 7\u001b[0m     f_result \u001b[38;5;241m=\u001b[39m \u001b[43mf\u001b[49m\u001b[43m(\u001b[49m\u001b[43mvalue\u001b[49m\u001b[43m)\u001b[49m\n\u001b[1;32m      8\u001b[0m     res\u001b[38;5;241m.\u001b[39mappend(f_result)\n\u001b[1;32m      9\u001b[0m \u001b[38;5;28;01mreturn\u001b[39;00m res\n",
      "\u001b[0;31mTypeError\u001b[0m: multiplication() missing 1 required positional argument: 'b'"
     ]
    }
   ],
   "source": [
    "def multiplication(a, b):\n",
    "    return a * b \n",
    "\n",
    "my_map(multiplication, [1, 2, 3])"
   ]
  },
  {
   "cell_type": "markdown",
   "id": "76b72eda-d6fa-452c-b708-721f25e7ed90",
   "metadata": {},
   "source": [
    "## Zip"
   ]
  },
  {
   "cell_type": "code",
   "execution_count": 12,
   "id": "f3797040-c0da-4725-a724-c08392113f80",
   "metadata": {},
   "outputs": [
    {
     "data": {
      "text/plain": [
       "[('hiver', 'blanc', 'choux'),\n",
       " ('printemps', 'vert', 'cerises'),\n",
       " ('été', 'jaune', 'peches'),\n",
       " ('automne', 'orange', 'pommes')]"
      ]
     },
     "execution_count": 12,
     "metadata": {},
     "output_type": "execute_result"
    }
   ],
   "source": [
    "list_adjectifs = [\"blanc\", \"vert\", \"jaune\", \"orange\"]\n",
    "list_saisons = [\"hiver\", \"printemps\", \"été\", \"automne\"]\n",
    "list_fruits = [\"choux\", \"cerises\", \"peches\", \"pommes\"]\n",
    "\n",
    "list(zip(list_saisons, list_adjectifs, list_fruits))"
   ]
  },
  {
   "cell_type": "markdown",
   "id": "c26e92e9-4551-4ee5-823b-a1d22cad2428",
   "metadata": {},
   "source": [
    "## Opérateur splat"
   ]
  },
  {
   "cell_type": "code",
   "execution_count": 22,
   "id": "96362a17-97f3-49f0-9f30-e98eada911db",
   "metadata": {},
   "outputs": [
    {
     "name": "stdout",
     "output_type": "stream",
     "text": [
      "4\n",
      "10\n",
      "18\n"
     ]
    }
   ],
   "source": [
    "nombres_a = [1, 2, 3]\n",
    "nombres_b = [4, 5, 6]\n",
    "for couples in zip(nombres_a, nombres_b):\n",
    "    print(multiplication(*couples))"
   ]
  },
  {
   "cell_type": "markdown",
   "id": "9719bbc1-57b6-468d-b457-73bdfdbcf826",
   "metadata": {},
   "source": [
    "## Map qui accepte des fonctions prenant plusieurs paramètres"
   ]
  },
  {
   "cell_type": "code",
   "execution_count": 30,
   "id": "a910c866-648b-40a5-a6d0-e7b612f38756",
   "metadata": {},
   "outputs": [],
   "source": [
    "def my_map(f, iterator, *autre_nombres):\n",
    "    res = []\n",
    "    for values in zip(iterator, *autre_nombres):\n",
    "        # values = list(values)\n",
    "        f_result = f(*values)\n",
    "        res.append(f_result)\n",
    "    return res "
   ]
  },
  {
   "cell_type": "code",
   "execution_count": 34,
   "id": "b8901dc0-f5a2-46a6-ad5b-652ca704ce77",
   "metadata": {},
   "outputs": [
    {
     "name": "stdout",
     "output_type": "stream",
     "text": [
      "[28, 80, 162]\n"
     ]
    }
   ],
   "source": [
    "def multiplication(a, b, c):\n",
    "    return a * b * c\n",
    "\n",
    "print(my_map(multiplication, \n",
    "       [1, 2, 3], \n",
    "       [4, 5, 6], \n",
    "       [7, 8, 9], \n",
    "))\n"
   ]
  },
  {
   "cell_type": "code",
   "execution_count": 33,
   "id": "a7185ad5-557f-468f-9226-7e6b23cb0e92",
   "metadata": {},
   "outputs": [
    {
     "name": "stdout",
     "output_type": "stream",
     "text": [
      "28\n",
      "80\n",
      "162\n"
     ]
    }
   ],
   "source": [
    "print(multiplication(1, 4, 7))\n",
    "print(multiplication(2, 5, 8))\n",
    "print(multiplication(3, 6, 9))"
   ]
  },
  {
   "cell_type": "markdown",
   "id": "a9827eac-9189-42f8-bd02-7ed8799d46f9",
   "metadata": {},
   "source": [
    "## Recoder la fonction filter "
   ]
  },
  {
   "cell_type": "code",
   "execution_count": 50,
   "id": "e89d3a41-0179-4446-b39f-a426f2103a60",
   "metadata": {},
   "outputs": [
    {
     "name": "stdout",
     "output_type": "stream",
     "text": [
      "True\n",
      "False\n"
     ]
    }
   ],
   "source": [
    "def est_pair(nombre):\n",
    "    return nombre % 2 == 0\n",
    "\n",
    "print(est_pair(10))\n",
    "print(est_pair(11))"
   ]
  },
  {
   "cell_type": "code",
   "execution_count": 39,
   "id": "78c7b9d3-f2ac-4eec-9a5d-6997423c7ebb",
   "metadata": {},
   "outputs": [
    {
     "data": {
      "text/plain": [
       "[2, 4]"
      ]
     },
     "execution_count": 39,
     "metadata": {},
     "output_type": "execute_result"
    }
   ],
   "source": [
    "list(filter(est_pair, [1, 2, 3, 4, 5]))"
   ]
  },
  {
   "cell_type": "code",
   "execution_count": 41,
   "id": "6a811455-c4d5-4a79-a337-f0e3b763e31e",
   "metadata": {},
   "outputs": [
    {
     "data": {
      "text/plain": [
       "<filter at 0x1121d5480>"
      ]
     },
     "execution_count": 41,
     "metadata": {},
     "output_type": "execute_result"
    }
   ],
   "source": [
    "filter(est_pair, {1: \"1\", 2:\"2\"}.keys())"
   ]
  },
  {
   "cell_type": "code",
   "execution_count": 82,
   "id": "55f78240-219a-41a4-9cc4-de1107fe3a6c",
   "metadata": {},
   "outputs": [],
   "source": [
    "def my_filter(f, iterator):\n",
    "    res = []\n",
    "    for value in iterator:\n",
    "        if f(value) == True:\n",
    "            res.append(value)\n",
    "    return res "
   ]
  },
  {
   "cell_type": "code",
   "execution_count": 48,
   "id": "bd8b3f72-8255-4376-9e41-e99642467ff1",
   "metadata": {},
   "outputs": [
    {
     "data": {
      "text/plain": [
       "[2, 4]"
      ]
     },
     "execution_count": 48,
     "metadata": {},
     "output_type": "execute_result"
    }
   ],
   "source": [
    "my_filter(est_pair, [1, 2, 3, 4, 5])"
   ]
  },
  {
   "cell_type": "markdown",
   "id": "c5c896fc-1def-4f7b-9797-e1a389d888aa",
   "metadata": {},
   "source": [
    "# Fonctions lambda \n",
    "\n",
    "https://realpython.com/python-lambda/"
   ]
  },
  {
   "cell_type": "code",
   "execution_count": 51,
   "id": "027f1a92-8a37-432f-86ad-060aad61e03b",
   "metadata": {},
   "outputs": [
    {
     "data": {
      "text/plain": [
       "[2, 4]"
      ]
     },
     "execution_count": 51,
     "metadata": {},
     "output_type": "execute_result"
    }
   ],
   "source": [
    "toto = lambda nombre: nombre % 2 == 0\n",
    "my_filter(toto, [1, 2, 3, 4, 5])"
   ]
  },
  {
   "cell_type": "code",
   "execution_count": 52,
   "id": "c50f7b26-d5a9-4b18-b159-10062f2d82fd",
   "metadata": {},
   "outputs": [
    {
     "ename": "SyntaxError",
     "evalue": "invalid syntax (1214171015.py, line 1)",
     "output_type": "error",
     "traceback": [
      "\u001b[0;36m  Cell \u001b[0;32mIn[52], line 1\u001b[0;36m\u001b[0m\n\u001b[0;31m    TUPLE UNPACKING\u001b[0m\n\u001b[0m          ^\u001b[0m\n\u001b[0;31mSyntaxError\u001b[0m\u001b[0;31m:\u001b[0m invalid syntax\n"
     ]
    }
   ],
   "source": [
    "TUPLE UNPACKING \n",
    "YIELD "
   ]
  },
  {
   "cell_type": "markdown",
   "id": "8241eeea-01a2-4500-b3b3-d140738a6cc9",
   "metadata": {},
   "source": [
    "# Tuple unpacking\n",
    "\n",
    "Très utilisé => comme les \"*\" dans les définitions de fonctions"
   ]
  },
  {
   "cell_type": "code",
   "execution_count": 53,
   "id": "c0f2e14c-a835-46a2-8c05-1f08484c8445",
   "metadata": {},
   "outputs": [],
   "source": [
    "def f():\n",
    "    return True, 3.234\n",
    "\n",
    "res = f()\n",
    "is_success = res[0]\n",
    "value = res[1]"
   ]
  },
  {
   "cell_type": "code",
   "execution_count": 54,
   "id": "2dfed787-8a37-419e-80f7-99732bbda583",
   "metadata": {},
   "outputs": [],
   "source": [
    "is_success, value = f()"
   ]
  },
  {
   "cell_type": "code",
   "execution_count": 61,
   "id": "0c4ee5c4-7c1d-4521-934e-69d1d17d6704",
   "metadata": {},
   "outputs": [
    {
     "name": "stdout",
     "output_type": "stream",
     "text": [
      "1 [] 5\n"
     ]
    }
   ],
   "source": [
    "a, *b, c = (1, 5)\n",
    "print(a, b, c)"
   ]
  },
  {
   "cell_type": "markdown",
   "id": "8028beb2-233a-495b-86ed-4b1817f4e777",
   "metadata": {},
   "source": [
    "# Iterables"
   ]
  },
  {
   "cell_type": "code",
   "execution_count": 77,
   "id": "09782207-c677-47eb-aeed-5b54db9c4dd3",
   "metadata": {},
   "outputs": [],
   "source": [
    "def f():\n",
    "    yield 1\n",
    "    print(\"après 1\")\n",
    "    yield 2\n",
    "    print(\"après 2\")"
   ]
  },
  {
   "cell_type": "code",
   "execution_count": 78,
   "id": "3a054382-3c8d-4413-9fcc-54c457767044",
   "metadata": {},
   "outputs": [],
   "source": [
    "mon_generateur = f()"
   ]
  },
  {
   "cell_type": "code",
   "execution_count": 79,
   "id": "0f3f8f38-0a08-4f97-b0fa-45f81984fdfb",
   "metadata": {},
   "outputs": [
    {
     "data": {
      "text/plain": [
       "1"
      ]
     },
     "execution_count": 79,
     "metadata": {},
     "output_type": "execute_result"
    }
   ],
   "source": [
    "next(mon_generateur)"
   ]
  },
  {
   "cell_type": "code",
   "execution_count": 80,
   "id": "0fd3ac7f-bcb9-46ba-a945-2a8805ee8613",
   "metadata": {},
   "outputs": [
    {
     "name": "stdout",
     "output_type": "stream",
     "text": [
      "après 1\n"
     ]
    },
    {
     "data": {
      "text/plain": [
       "2"
      ]
     },
     "execution_count": 80,
     "metadata": {},
     "output_type": "execute_result"
    }
   ],
   "source": [
    "next(mon_generateur)"
   ]
  },
  {
   "cell_type": "code",
   "execution_count": 81,
   "id": "27e58871-704e-4440-a65a-05db98268586",
   "metadata": {},
   "outputs": [
    {
     "name": "stdout",
     "output_type": "stream",
     "text": [
      "après 2\n"
     ]
    },
    {
     "ename": "StopIteration",
     "evalue": "",
     "output_type": "error",
     "traceback": [
      "\u001b[0;31m---------------------------------------------------------------------------\u001b[0m",
      "\u001b[0;31mStopIteration\u001b[0m                             Traceback (most recent call last)",
      "Cell \u001b[0;32mIn[81], line 1\u001b[0m\n\u001b[0;32m----> 1\u001b[0m \u001b[38;5;28;43mnext\u001b[39;49m\u001b[43m(\u001b[49m\u001b[43mmon_generateur\u001b[49m\u001b[43m)\u001b[49m\n",
      "\u001b[0;31mStopIteration\u001b[0m: "
     ]
    }
   ],
   "source": [
    "next(mon_generateur)"
   ]
  },
  {
   "cell_type": "code",
   "execution_count": 70,
   "id": "bf45588e-bae4-4e1e-99ad-38768d0f6c9f",
   "metadata": {},
   "outputs": [
    {
     "name": "stdout",
     "output_type": "stream",
     "text": [
      "1\n",
      "après 1\n",
      "2\n",
      "après 2\n"
     ]
    }
   ],
   "source": [
    "for i in f():\n",
    "    print(i)"
   ]
  },
  {
   "cell_type": "code",
   "execution_count": 75,
   "id": "6be359a5-9ef3-4cf4-8c8d-cc84e00f0d0c",
   "metadata": {},
   "outputs": [
    {
     "name": "stdout",
     "output_type": "stream",
     "text": [
      "1\n",
      "après 1\n",
      "2\n",
      "après 2\n"
     ]
    }
   ],
   "source": [
    "mon_itertor = f()\n",
    "while True:\n",
    "    try:\n",
    "        i = next(mon_itertor)\n",
    "        print(i)\n",
    "    except StopIteration:\n",
    "        break "
   ]
  },
  {
   "cell_type": "markdown",
   "id": "40e721d8-e17f-4d02-bcfc-bd9ec94624fc",
   "metadata": {},
   "source": [
    "# Résumé du matin \n",
    "\n",
    "* itérateurs / générateurs\n",
    "   * duck typing : ce qui compte c'est ce que l'objet peut faire plutôt que son type"
   ]
  },
  {
   "cell_type": "code",
   "execution_count": null,
   "id": "6f8b16d7-ea15-4012-b240-1c5c30cb7728",
   "metadata": {},
   "outputs": [],
   "source": [
    "a = [1,2, 3]\n",
    "b = (4, 5, 6)\n",
    "c = range(7, 11)\n",
    "\n"
   ]
  }
 ],
 "metadata": {
  "kernelspec": {
   "display_name": "Python 3 (ipykernel)",
   "language": "python",
   "name": "python3"
  },
  "language_info": {
   "codemirror_mode": {
    "name": "ipython",
    "version": 3
   },
   "file_extension": ".py",
   "mimetype": "text/x-python",
   "name": "python",
   "nbconvert_exporter": "python",
   "pygments_lexer": "ipython3",
   "version": "3.10.9"
  }
 },
 "nbformat": 4,
 "nbformat_minor": 5
}
