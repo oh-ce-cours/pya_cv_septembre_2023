{
 "cells": [
  {
   "cell_type": "markdown",
   "id": "00a41edb-9588-4ca3-a12b-42632fa6b3dd",
   "metadata": {},
   "source": [
    "# A voir \n",
    "\n",
    "* fonctions d'ordre supérieur (recoder map)\n",
    "* tests unitaires + mocking \n",
    "* manipulation de strings / fstrings "
   ]
  },
  {
   "cell_type": "markdown",
   "id": "c7d5b449-5f52-4e18-b5fc-21cc90145960",
   "metadata": {},
   "source": [
    "# Résumé du jour précédent \n",
    "\n",
    "* environnements virtuels\n",
    "    * un environnement par projet / cela va vous éviter beaucoup de problèmes\n",
    "    * cycle de vie (dans un shell / CMD) :\n",
    "        * création (une fois par projet) : `python -m venv LE_NOM_DU_VENV`\n",
    "        * activer (dès que vous voulez utiliser le projet) :\n",
    "            * sous Unix : `source LE_NOM_DU_VENV/bin/activate`\n",
    "            * sous Windows : `LE_NOM_DU_VENV/source/activate`\n",
    "        * désactivation :\n",
    "            *  `deactivate`\n",
    "            *  fermer le terminal / redémarrer l'ordi\n",
    "        * suppression : on supprime le répertoire\n",
    "    * on ne le met pas dans le dépôt git\n",
    "        * ça prend de la place\n",
    "        * c'est dépendant entre les versions de système d'exploitation et de machine \n",
    "* installation de paquets / requirements.txt : liste les paquets et leur version installés dans le python actif\n",
    "    * ne contient pas la version de python utilisée, elle doit être renseignée ailleurs, par exemple, dans un readme\n",
    "    * construit avec `pip freeze > requirements.txt`\n",
    "    * on installe les paquets avec `pip install -r requirements.txt`\n",
    "* utilisation de jupyter (programmation littérale)\n",
    "    * pour le lancer `jupyter notebook`\n",
    "* exercice\n",
    "* opérations paraisseuses\n",
    "    * on déclenche le calcul uniquement quand on a besoin \n",
    "* discussion sur les commentaires\n",
    "    * qu'est-ce qu'un bon commentaire ?\n",
    "        * il explique le pourquoi et pas le comment\n",
    "    * comment les écrire ?\n",
    "        * soit un dièse, soit une \"docstring\"\n",
    "        * pour les docstring, on peut utiliser l'extension \"autodocsting\" de VSCode\n",
    "        * les docstring permettent de construire des documentations, par exemple avec \"sphinx\" : https://www.sphinx-doc.org/en/master/"
   ]
  },
  {
   "cell_type": "markdown",
   "id": "8aeff66f-c2ac-43bb-aee5-2d4af9c76b4b",
   "metadata": {},
   "source": [
    "# Exercice\n",
    "\n",
    "Recoder la fonction \"map\" de python. \n",
    "\n",
    "Etapes : \n",
    "* la fonction a mapper ne prend qu'un paramètre\n",
    "* la fonction a mapper peut en accepter autant qu'elle le souhaite"
   ]
  },
  {
   "cell_type": "code",
   "execution_count": 5,
   "id": "6a1c90a5-bd6a-4e76-8cf9-96bf3b26d7a9",
   "metadata": {},
   "outputs": [
    {
     "data": {
      "text/plain": [
       "[2, 4, 6]"
      ]
     },
     "execution_count": 5,
     "metadata": {},
     "output_type": "execute_result"
    }
   ],
   "source": [
    "def fois_deux(nombre):\n",
    "    return nombre * 2\n",
    "\n",
    "def my_map(f, iterator):\n",
    "    res = []\n",
    "    for value in iterator:\n",
    "        f_result = f(value)\n",
    "        res.append(f_result)\n",
    "    return res \n",
    "\n",
    "my_map(fois_deux, [1, 2, 3])"
   ]
  },
  {
   "cell_type": "code",
   "execution_count": 7,
   "id": "e2005b5a-a6dc-4fdc-a014-b012538cfb44",
   "metadata": {},
   "outputs": [
    {
     "ename": "TypeError",
     "evalue": "multiplication() missing 1 required positional argument: 'b'",
     "output_type": "error",
     "traceback": [
      "\u001b[0;31m---------------------------------------------------------------------------\u001b[0m",
      "\u001b[0;31mTypeError\u001b[0m                                 Traceback (most recent call last)",
      "Cell \u001b[0;32mIn[7], line 4\u001b[0m\n\u001b[1;32m      1\u001b[0m \u001b[38;5;28;01mdef\u001b[39;00m \u001b[38;5;21mmultiplication\u001b[39m(a, b):\n\u001b[1;32m      2\u001b[0m     \u001b[38;5;28;01mreturn\u001b[39;00m a \u001b[38;5;241m*\u001b[39m b \n\u001b[0;32m----> 4\u001b[0m \u001b[43mmy_map\u001b[49m\u001b[43m(\u001b[49m\u001b[43mmultiplication\u001b[49m\u001b[43m,\u001b[49m\u001b[43m \u001b[49m\u001b[43m[\u001b[49m\u001b[38;5;241;43m1\u001b[39;49m\u001b[43m,\u001b[49m\u001b[43m \u001b[49m\u001b[38;5;241;43m2\u001b[39;49m\u001b[43m,\u001b[49m\u001b[43m \u001b[49m\u001b[38;5;241;43m3\u001b[39;49m\u001b[43m]\u001b[49m\u001b[43m)\u001b[49m\n",
      "Cell \u001b[0;32mIn[5], line 7\u001b[0m, in \u001b[0;36mmy_map\u001b[0;34m(f, iterator)\u001b[0m\n\u001b[1;32m      5\u001b[0m res \u001b[38;5;241m=\u001b[39m []\n\u001b[1;32m      6\u001b[0m \u001b[38;5;28;01mfor\u001b[39;00m value \u001b[38;5;129;01min\u001b[39;00m iterator:\n\u001b[0;32m----> 7\u001b[0m     f_result \u001b[38;5;241m=\u001b[39m \u001b[43mf\u001b[49m\u001b[43m(\u001b[49m\u001b[43mvalue\u001b[49m\u001b[43m)\u001b[49m\n\u001b[1;32m      8\u001b[0m     res\u001b[38;5;241m.\u001b[39mappend(f_result)\n\u001b[1;32m      9\u001b[0m \u001b[38;5;28;01mreturn\u001b[39;00m res\n",
      "\u001b[0;31mTypeError\u001b[0m: multiplication() missing 1 required positional argument: 'b'"
     ]
    }
   ],
   "source": [
    "def multiplication(a, b):\n",
    "    return a * b \n",
    "\n",
    "my_map(multiplication, [1, 2, 3])"
   ]
  },
  {
   "cell_type": "markdown",
   "id": "76b72eda-d6fa-452c-b708-721f25e7ed90",
   "metadata": {},
   "source": [
    "## Zip"
   ]
  },
  {
   "cell_type": "code",
   "execution_count": 12,
   "id": "f3797040-c0da-4725-a724-c08392113f80",
   "metadata": {},
   "outputs": [
    {
     "data": {
      "text/plain": [
       "[('hiver', 'blanc', 'choux'),\n",
       " ('printemps', 'vert', 'cerises'),\n",
       " ('été', 'jaune', 'peches'),\n",
       " ('automne', 'orange', 'pommes')]"
      ]
     },
     "execution_count": 12,
     "metadata": {},
     "output_type": "execute_result"
    }
   ],
   "source": [
    "list_adjectifs = [\"blanc\", \"vert\", \"jaune\", \"orange\"]\n",
    "list_saisons = [\"hiver\", \"printemps\", \"été\", \"automne\"]\n",
    "list_fruits = [\"choux\", \"cerises\", \"peches\", \"pommes\"]\n",
    "\n",
    "list(zip(list_saisons, list_adjectifs, list_fruits))"
   ]
  },
  {
   "cell_type": "markdown",
   "id": "c26e92e9-4551-4ee5-823b-a1d22cad2428",
   "metadata": {},
   "source": [
    "## Opérateur splat"
   ]
  },
  {
   "cell_type": "code",
   "execution_count": 22,
   "id": "96362a17-97f3-49f0-9f30-e98eada911db",
   "metadata": {},
   "outputs": [
    {
     "name": "stdout",
     "output_type": "stream",
     "text": [
      "4\n",
      "10\n",
      "18\n"
     ]
    }
   ],
   "source": [
    "nombres_a = [1, 2, 3]\n",
    "nombres_b = [4, 5, 6]\n",
    "for couples in zip(nombres_a, nombres_b):\n",
    "    print(multiplication(*couples))"
   ]
  },
  {
   "cell_type": "markdown",
   "id": "9719bbc1-57b6-468d-b457-73bdfdbcf826",
   "metadata": {},
   "source": [
    "## Map qui accepte des fonctions prenant plusieurs paramètres"
   ]
  },
  {
   "cell_type": "code",
   "execution_count": 30,
   "id": "a910c866-648b-40a5-a6d0-e7b612f38756",
   "metadata": {},
   "outputs": [],
   "source": [
    "def my_map(f, iterator, *autre_nombres):\n",
    "    res = []\n",
    "    for values in zip(iterator, *autre_nombres):\n",
    "        # values = list(values)\n",
    "        f_result = f(*values)\n",
    "        res.append(f_result)\n",
    "    return res "
   ]
  },
  {
   "cell_type": "code",
   "execution_count": 34,
   "id": "b8901dc0-f5a2-46a6-ad5b-652ca704ce77",
   "metadata": {},
   "outputs": [
    {
     "name": "stdout",
     "output_type": "stream",
     "text": [
      "[28, 80, 162]\n"
     ]
    }
   ],
   "source": [
    "def multiplication(a, b, c):\n",
    "    return a * b * c\n",
    "\n",
    "print(my_map(multiplication, \n",
    "       [1, 2, 3], \n",
    "       [4, 5, 6], \n",
    "       [7, 8, 9], \n",
    "))\n"
   ]
  },
  {
   "cell_type": "code",
   "execution_count": 33,
   "id": "a7185ad5-557f-468f-9226-7e6b23cb0e92",
   "metadata": {},
   "outputs": [
    {
     "name": "stdout",
     "output_type": "stream",
     "text": [
      "28\n",
      "80\n",
      "162\n"
     ]
    }
   ],
   "source": [
    "print(multiplication(1, 4, 7))\n",
    "print(multiplication(2, 5, 8))\n",
    "print(multiplication(3, 6, 9))"
   ]
  },
  {
   "cell_type": "markdown",
   "id": "a9827eac-9189-42f8-bd02-7ed8799d46f9",
   "metadata": {},
   "source": [
    "## Recoder la fonction filter "
   ]
  },
  {
   "cell_type": "code",
   "execution_count": 50,
   "id": "e89d3a41-0179-4446-b39f-a426f2103a60",
   "metadata": {},
   "outputs": [
    {
     "name": "stdout",
     "output_type": "stream",
     "text": [
      "True\n",
      "False\n"
     ]
    }
   ],
   "source": [
    "def est_pair(nombre):\n",
    "    return nombre % 2 == 0\n",
    "\n",
    "print(est_pair(10))\n",
    "print(est_pair(11))"
   ]
  },
  {
   "cell_type": "code",
   "execution_count": 39,
   "id": "78c7b9d3-f2ac-4eec-9a5d-6997423c7ebb",
   "metadata": {},
   "outputs": [
    {
     "data": {
      "text/plain": [
       "[2, 4]"
      ]
     },
     "execution_count": 39,
     "metadata": {},
     "output_type": "execute_result"
    }
   ],
   "source": [
    "list(filter(est_pair, [1, 2, 3, 4, 5]))"
   ]
  },
  {
   "cell_type": "code",
   "execution_count": 41,
   "id": "6a811455-c4d5-4a79-a337-f0e3b763e31e",
   "metadata": {},
   "outputs": [
    {
     "data": {
      "text/plain": [
       "<filter at 0x1121d5480>"
      ]
     },
     "execution_count": 41,
     "metadata": {},
     "output_type": "execute_result"
    }
   ],
   "source": [
    "filter(est_pair, {1: \"1\", 2:\"2\"}.keys())"
   ]
  },
  {
   "cell_type": "code",
   "execution_count": 82,
   "id": "55f78240-219a-41a4-9cc4-de1107fe3a6c",
   "metadata": {},
   "outputs": [],
   "source": [
    "def my_filter(f, iterator):\n",
    "    res = []\n",
    "    for value in iterator:\n",
    "        if f(value) == True:\n",
    "            res.append(value)\n",
    "    return res "
   ]
  },
  {
   "cell_type": "code",
   "execution_count": 48,
   "id": "bd8b3f72-8255-4376-9e41-e99642467ff1",
   "metadata": {},
   "outputs": [
    {
     "data": {
      "text/plain": [
       "[2, 4]"
      ]
     },
     "execution_count": 48,
     "metadata": {},
     "output_type": "execute_result"
    }
   ],
   "source": [
    "my_filter(est_pair, [1, 2, 3, 4, 5])"
   ]
  },
  {
   "cell_type": "markdown",
   "id": "c5c896fc-1def-4f7b-9797-e1a389d888aa",
   "metadata": {},
   "source": [
    "# Fonctions lambda \n",
    "\n",
    "https://realpython.com/python-lambda/"
   ]
  },
  {
   "cell_type": "code",
   "execution_count": 51,
   "id": "027f1a92-8a37-432f-86ad-060aad61e03b",
   "metadata": {},
   "outputs": [
    {
     "data": {
      "text/plain": [
       "[2, 4]"
      ]
     },
     "execution_count": 51,
     "metadata": {},
     "output_type": "execute_result"
    }
   ],
   "source": [
    "toto = lambda nombre: nombre % 2 == 0\n",
    "my_filter(toto, [1, 2, 3, 4, 5])"
   ]
  },
  {
   "cell_type": "code",
   "execution_count": 52,
   "id": "c50f7b26-d5a9-4b18-b159-10062f2d82fd",
   "metadata": {},
   "outputs": [
    {
     "ename": "SyntaxError",
     "evalue": "invalid syntax (1214171015.py, line 1)",
     "output_type": "error",
     "traceback": [
      "\u001b[0;36m  Cell \u001b[0;32mIn[52], line 1\u001b[0;36m\u001b[0m\n\u001b[0;31m    TUPLE UNPACKING\u001b[0m\n\u001b[0m          ^\u001b[0m\n\u001b[0;31mSyntaxError\u001b[0m\u001b[0;31m:\u001b[0m invalid syntax\n"
     ]
    }
   ],
   "source": [
    "TUPLE UNPACKING \n",
    "YIELD "
   ]
  },
  {
   "cell_type": "markdown",
   "id": "8241eeea-01a2-4500-b3b3-d140738a6cc9",
   "metadata": {},
   "source": [
    "# Tuple unpacking\n",
    "\n",
    "Très utilisé => comme les \"*\" dans les définitions de fonctions"
   ]
  },
  {
   "cell_type": "code",
   "execution_count": 53,
   "id": "c0f2e14c-a835-46a2-8c05-1f08484c8445",
   "metadata": {},
   "outputs": [],
   "source": [
    "def f():\n",
    "    return True, 3.234\n",
    "\n",
    "res = f()\n",
    "is_success = res[0]\n",
    "value = res[1]"
   ]
  },
  {
   "cell_type": "code",
   "execution_count": 54,
   "id": "2dfed787-8a37-419e-80f7-99732bbda583",
   "metadata": {},
   "outputs": [],
   "source": [
    "is_success, value = f()"
   ]
  },
  {
   "cell_type": "code",
   "execution_count": 61,
   "id": "0c4ee5c4-7c1d-4521-934e-69d1d17d6704",
   "metadata": {},
   "outputs": [
    {
     "name": "stdout",
     "output_type": "stream",
     "text": [
      "1 [] 5\n"
     ]
    }
   ],
   "source": [
    "a, *b, c = (1, 5)\n",
    "print(a, b, c)"
   ]
  },
  {
   "cell_type": "markdown",
   "id": "8028beb2-233a-495b-86ed-4b1817f4e777",
   "metadata": {},
   "source": [
    "# Iterables"
   ]
  },
  {
   "cell_type": "code",
   "execution_count": 77,
   "id": "09782207-c677-47eb-aeed-5b54db9c4dd3",
   "metadata": {},
   "outputs": [],
   "source": [
    "def f():\n",
    "    yield 1\n",
    "    print(\"après 1\")\n",
    "    yield 2\n",
    "    print(\"après 2\")"
   ]
  },
  {
   "cell_type": "code",
   "execution_count": 78,
   "id": "3a054382-3c8d-4413-9fcc-54c457767044",
   "metadata": {},
   "outputs": [],
   "source": [
    "mon_generateur = f()"
   ]
  },
  {
   "cell_type": "code",
   "execution_count": 79,
   "id": "0f3f8f38-0a08-4f97-b0fa-45f81984fdfb",
   "metadata": {},
   "outputs": [
    {
     "data": {
      "text/plain": [
       "1"
      ]
     },
     "execution_count": 79,
     "metadata": {},
     "output_type": "execute_result"
    }
   ],
   "source": [
    "next(mon_generateur)"
   ]
  },
  {
   "cell_type": "code",
   "execution_count": 80,
   "id": "0fd3ac7f-bcb9-46ba-a945-2a8805ee8613",
   "metadata": {},
   "outputs": [
    {
     "name": "stdout",
     "output_type": "stream",
     "text": [
      "après 1\n"
     ]
    },
    {
     "data": {
      "text/plain": [
       "2"
      ]
     },
     "execution_count": 80,
     "metadata": {},
     "output_type": "execute_result"
    }
   ],
   "source": [
    "next(mon_generateur)"
   ]
  },
  {
   "cell_type": "code",
   "execution_count": 81,
   "id": "27e58871-704e-4440-a65a-05db98268586",
   "metadata": {},
   "outputs": [
    {
     "name": "stdout",
     "output_type": "stream",
     "text": [
      "après 2\n"
     ]
    },
    {
     "ename": "StopIteration",
     "evalue": "",
     "output_type": "error",
     "traceback": [
      "\u001b[0;31m---------------------------------------------------------------------------\u001b[0m",
      "\u001b[0;31mStopIteration\u001b[0m                             Traceback (most recent call last)",
      "Cell \u001b[0;32mIn[81], line 1\u001b[0m\n\u001b[0;32m----> 1\u001b[0m \u001b[38;5;28;43mnext\u001b[39;49m\u001b[43m(\u001b[49m\u001b[43mmon_generateur\u001b[49m\u001b[43m)\u001b[49m\n",
      "\u001b[0;31mStopIteration\u001b[0m: "
     ]
    }
   ],
   "source": [
    "next(mon_generateur)"
   ]
  },
  {
   "cell_type": "code",
   "execution_count": 70,
   "id": "bf45588e-bae4-4e1e-99ad-38768d0f6c9f",
   "metadata": {},
   "outputs": [
    {
     "name": "stdout",
     "output_type": "stream",
     "text": [
      "1\n",
      "après 1\n",
      "2\n",
      "après 2\n"
     ]
    }
   ],
   "source": [
    "for i in f():\n",
    "    print(i)"
   ]
  },
  {
   "cell_type": "code",
   "execution_count": 75,
   "id": "6be359a5-9ef3-4cf4-8c8d-cc84e00f0d0c",
   "metadata": {},
   "outputs": [
    {
     "name": "stdout",
     "output_type": "stream",
     "text": [
      "1\n",
      "après 1\n",
      "2\n",
      "après 2\n"
     ]
    }
   ],
   "source": [
    "mon_itertor = f()\n",
    "while True:\n",
    "    try:\n",
    "        i = next(mon_itertor)\n",
    "        print(i)\n",
    "    except StopIteration:\n",
    "        break "
   ]
  },
  {
   "cell_type": "markdown",
   "id": "40e721d8-e17f-4d02-bcfc-bd9ec94624fc",
   "metadata": {},
   "source": [
    "# Résumé du matin \n",
    "\n",
    "* itérateurs / générateurs\n",
    "   * `yield` : permet de fabriquer un générateur\n",
    "   * méthodes `__iter__` / `__next__`\n",
    "* itérables : \n",
    "    * duck typing : ce qui compte, c'est ce que l'objet peut faire plutôt que son type => à l'exécution\n",
    "* \n"
   ]
  },
  {
   "cell_type": "markdown",
   "id": "3bacd98c-1620-4fdd-8ded-2df3f018112d",
   "metadata": {},
   "source": [
    "# Reprise des itérables"
   ]
  },
  {
   "cell_type": "code",
   "execution_count": 83,
   "id": "6f8b16d7-ea15-4012-b240-1c5c30cb7728",
   "metadata": {},
   "outputs": [
    {
     "name": "stdout",
     "output_type": "stream",
     "text": [
      "1\n",
      "2\n",
      "3\n",
      "4\n",
      "5\n",
      "6\n",
      "7\n",
      "8\n",
      "9\n",
      "10\n"
     ]
    }
   ],
   "source": [
    "a = [1,2, 3]\n",
    "b = (4, 5, 6)\n",
    "c = range(7, 11)\n",
    "\n",
    "for element in a:\n",
    "    print(element)\n",
    "\n",
    "for element in b:\n",
    "    print(element)\n",
    "\n",
    "for element in c:\n",
    "    print(element)\n",
    "\n",
    "\n",
    "import typing\n",
    "def f(elements: typing.Iterable):\n",
    "    for element in elements:\n",
    "        print(element)\n"
   ]
  },
  {
   "cell_type": "code",
   "execution_count": 99,
   "id": "9378caba-f64d-410d-b437-b672a44ef319",
   "metadata": {},
   "outputs": [
    {
     "name": "stdout",
     "output_type": "stream",
     "text": [
      "page 1\n",
      "page 2\n"
     ]
    }
   ],
   "source": [
    "class Book:\n",
    "    def __init__(self, pages):\n",
    "        self.pages = pages \n",
    "\n",
    "    def __iter__(self):\n",
    "        return iter(self.pages)\n",
    "\n",
    "\n",
    "class Book:\n",
    "    def __init__(self, pages):\n",
    "        self.pages = pages \n",
    "        self.index = 0\n",
    "    \n",
    "    def __iter__(self):\n",
    "        self.index = 0\n",
    "        return self\n",
    "\n",
    "    def __next__(self):\n",
    "        try:\n",
    "            page = self.pages[self.index]\n",
    "        except IndexError:\n",
    "            raise StopIteration\n",
    "        self.index += 1\n",
    "        return page\n",
    "\n",
    "\n",
    "b = Book([\"page 1\", \"page 2\"])\n",
    "for page in b:\n",
    "    print(page)"
   ]
  },
  {
   "cell_type": "code",
   "execution_count": 97,
   "id": "3a2efe7a-5584-45db-8bbd-feb67a016bc7",
   "metadata": {},
   "outputs": [
    {
     "name": "stdout",
     "output_type": "stream",
     "text": [
      "page 1\n",
      "page 2\n"
     ]
    }
   ],
   "source": [
    "for page in b:\n",
    "    print(page)"
   ]
  },
  {
   "cell_type": "markdown",
   "id": "2bfca790-76bb-441b-afe7-8f923849435e",
   "metadata": {},
   "source": [
    "# Transformer en code paraisseux les deux fonctions suivantes : \n",
    "\n",
    "```python\n",
    "def my_filter(f, iterator):\n",
    "    res = []\n",
    "    for value in iterator:\n",
    "        if f(value) == True:\n",
    "            res.append(value)\n",
    "    return res \n",
    "\n",
    "def my_map(f, iterator):\n",
    "    res = []\n",
    "    for value in iterator:\n",
    "        f_result = f(value)\n",
    "        res.append(f_result)\n",
    "    return res \n",
    "```"
   ]
  },
  {
   "cell_type": "code",
   "execution_count": 100,
   "id": "7f6b63da-959d-4a8f-b556-3059c4a6acf0",
   "metadata": {},
   "outputs": [],
   "source": [
    "def my_filter(f, iterator):\n",
    "    for value in iterator:\n",
    "        if f(value) == True:\n",
    "            yield value\n",
    "\n",
    "def my_map(f, iterator):\n",
    "    for value in iterator:\n",
    "        f_result = f(value)\n",
    "        yield f_result\n"
   ]
  },
  {
   "cell_type": "code",
   "execution_count": 103,
   "id": "e6bee25e-dfcc-4d84-b0fc-a3328f26b761",
   "metadata": {},
   "outputs": [
    {
     "data": {
      "text/plain": [
       "[2, 3, 4, 5, 6, 7, 8, 9, 10, 11]"
      ]
     },
     "execution_count": 103,
     "metadata": {},
     "output_type": "execute_result"
    }
   ],
   "source": [
    "list(my_map(lambda x: x + 2, range(10)))"
   ]
  },
  {
   "cell_type": "code",
   "execution_count": 108,
   "id": "f599c0f6-aedf-47ee-8b26-b08daf44199b",
   "metadata": {},
   "outputs": [
    {
     "data": {
      "text/plain": [
       "<generator object my_map at 0x1125b3370>"
      ]
     },
     "execution_count": 108,
     "metadata": {},
     "output_type": "execute_result"
    }
   ],
   "source": [
    "my_map(\n",
    "    lambda x: x + 2,\n",
    "    my_filter(\n",
    "        lambda x: x % 2 == 0, \n",
    "        range(1_000_000_000_000)\n",
    "    )\n",
    ")"
   ]
  },
  {
   "cell_type": "code",
   "execution_count": 109,
   "id": "6c9a648e-88cf-4642-9053-19a40d24490b",
   "metadata": {},
   "outputs": [
    {
     "name": "stdout",
     "output_type": "stream",
     "text": [
      "390300\n"
     ]
    }
   ],
   "source": [
    "def is_palindrome(nb):\n",
    "    return str(nb) == str(nb)[::-1]\n",
    "\n",
    "nombres_pairs = (i for i in range(100_000_000) if i % 2 == 0) \n",
    "palindromes = (i for i in nombres_pairs if is_palindrome(i)) \n",
    "fois_cinquante = (i * 50 for i in palindromes)\n",
    "trente_premiers = (i for i, j in zip(fois_cinquante, range(30)))\n",
    "print(sum(trente_premiers))"
   ]
  },
  {
   "cell_type": "markdown",
   "id": "e9b6cb0c-9a1b-4be4-8263-220215438c42",
   "metadata": {},
   "source": [
    "# Ouverture de fichiers"
   ]
  },
  {
   "cell_type": "code",
   "execution_count": 112,
   "id": "570e8eeb-e577-4937-89fc-20eb68697835",
   "metadata": {},
   "outputs": [
    {
     "data": {
      "text/plain": [
       "['ligne 9\\n', 'ligne 10\\n', 'ligne 11\\n', 'ligne 12\\n', 'ligne 13\\n']"
      ]
     },
     "execution_count": 112,
     "metadata": {},
     "output_type": "execute_result"
    }
   ],
   "source": [
    "# méthode non paraisseuse\n",
    "\n",
    "f = open(\"./jour2/exemple.txt\") \n",
    "f.readlines()[-5:]"
   ]
  },
  {
   "cell_type": "code",
   "execution_count": 132,
   "id": "4d98a72d-007c-4c0b-869c-b3538ed175e7",
   "metadata": {},
   "outputs": [
    {
     "name": "stdout",
     "output_type": "stream",
     "text": [
      "Il y a 13 lignes dans le fichier\n",
      "ligne 4\n",
      "ligne 5\n",
      "ligne 6\n",
      "ligne 7\n",
      "ligne 8\n",
      "ligne 9\n",
      "ligne 10\n",
      "ligne 11\n",
      "ligne 12\n",
      "ligne 13\n"
     ]
    }
   ],
   "source": [
    "# méthode paraisseuse naïve => on parcourt une fois pour avoir la taille puis une seconde pour ne garder que les éléments d'intéret\n",
    "\n",
    "f = open(\"./jour2/exemple.txt\") \n",
    "compteur = 0\n",
    "for line in f:\n",
    "    compteur += 1\n",
    "    \n",
    "print(f\"Il y a {compteur} lignes dans le fichier\")\n",
    "\n",
    "new_compteur = 0\n",
    "f = open(\"./jour2/exemple.txt\") \n",
    "for line in f:\n",
    "    new_compteur += 1\n",
    "    if new_compteur > compteur - 10:\n",
    "        print(line.strip())"
   ]
  },
  {
   "cell_type": "code",
   "execution_count": 133,
   "id": "1d5f7820-c214-40b6-b7fb-c60cd4f851d3",
   "metadata": {},
   "outputs": [
    {
     "name": "stdout",
     "output_type": "stream",
     "text": [
      "['ligne 1']\n",
      "['ligne 1', 'ligne 2']\n",
      "['ligne 1', 'ligne 2', 'ligne 3']\n",
      "['ligne 1', 'ligne 2', 'ligne 3', 'ligne 4']\n",
      "['ligne 1', 'ligne 2', 'ligne 3', 'ligne 4', 'ligne 5']\n",
      "['ligne 1', 'ligne 2', 'ligne 3', 'ligne 4', 'ligne 5', 'ligne 6']\n",
      "['ligne 1', 'ligne 2', 'ligne 3', 'ligne 4', 'ligne 5', 'ligne 6', 'ligne 7']\n",
      "['ligne 1', 'ligne 2', 'ligne 3', 'ligne 4', 'ligne 5', 'ligne 6', 'ligne 7', 'ligne 8']\n",
      "['ligne 1', 'ligne 2', 'ligne 3', 'ligne 4', 'ligne 5', 'ligne 6', 'ligne 7', 'ligne 8', 'ligne 9']\n",
      "['ligne 1', 'ligne 2', 'ligne 3', 'ligne 4', 'ligne 5', 'ligne 6', 'ligne 7', 'ligne 8', 'ligne 9', 'ligne 10']\n",
      "['ligne 2', 'ligne 3', 'ligne 4', 'ligne 5', 'ligne 6', 'ligne 7', 'ligne 8', 'ligne 9', 'ligne 10', 'ligne 11']\n",
      "['ligne 3', 'ligne 4', 'ligne 5', 'ligne 6', 'ligne 7', 'ligne 8', 'ligne 9', 'ligne 10', 'ligne 11', 'ligne 12']\n",
      "['ligne 4', 'ligne 5', 'ligne 6', 'ligne 7', 'ligne 8', 'ligne 9', 'ligne 10', 'ligne 11', 'ligne 12', 'ligne 13']\n",
      "ligne 4\n",
      "ligne 5\n",
      "ligne 6\n",
      "ligne 7\n",
      "ligne 8\n",
      "ligne 9\n",
      "ligne 10\n",
      "ligne 11\n",
      "ligne 12\n",
      "ligne 13\n"
     ]
    }
   ],
   "source": [
    "# méthode paraisseuse en 1 seule passe (on utilise une liste \"limitée en taille\")\n",
    "res = []\n",
    "f = open(\"./jour2/exemple.txt\") \n",
    "for line in f:\n",
    "    res.append(line.strip())\n",
    "    if len(res)>10:\n",
    "        res = res[1:]\n",
    "    print(res)\n",
    "\n",
    "for line in res:\n",
    "    print(line)"
   ]
  },
  {
   "cell_type": "code",
   "execution_count": 135,
   "id": "53252c48-fbf1-469c-8c61-3d8315b7bd5d",
   "metadata": {},
   "outputs": [
    {
     "name": "stdout",
     "output_type": "stream",
     "text": [
      "ligne 11\n",
      "ligne 12\n",
      "ligne 13\n"
     ]
    }
   ],
   "source": [
    "# méthode paraisseuse avec les collections.deque\n",
    "from collections import deque\n",
    "\n",
    "def tail(filename, n=10):\n",
    "    'Return the last n lines of a file'\n",
    "    with open(filename) as f:\n",
    "        return deque(\n",
    "            (line.strip() for line in f), # petit pipeline paraisseux pour enlever les retours chariots\n",
    "            n\n",
    "        )  \n",
    "\n",
    "for line in tail(\"./jour2/exemple.txt\", 3):\n",
    "    print(line)"
   ]
  },
  {
   "cell_type": "code",
   "execution_count": null,
   "id": "aed938ec-dfa4-4d8b-a5b3-b54ad345f3dd",
   "metadata": {},
   "outputs": [],
   "source": []
  },
  {
   "cell_type": "code",
   "execution_count": 137,
   "id": "98ff7b66-6802-41d0-a24d-6a04e80abe84",
   "metadata": {},
   "outputs": [
    {
     "name": "stdout",
     "output_type": "stream",
     "text": [
      "Counter({'a': 3, 'l': 2, 'g': 1, 'h': 1, 'd': 1})\n",
      "Counter({'red': 4, 'blue': 2})\n",
      "Counter({'dogs': 8, 'cats': 4})\n"
     ]
    }
   ],
   "source": [
    "from collections import Counter \n",
    "\n",
    "c = Counter()                           # a new, empty counter\n",
    "c = Counter('gallahad')                 # a new counter from an iterable\n",
    "print(c)\n",
    "c = Counter({'red': 4, 'blue': 2})      # a new counter from a mapping\n",
    "print(c)\n",
    "c = Counter(cats=4, dogs=8)             # a new counter from keyword args\n",
    "print(c)\n"
   ]
  },
  {
   "cell_type": "markdown",
   "id": "46e3f103-2c62-4fb7-a7f5-c09df524a595",
   "metadata": {},
   "source": [
    "# Comptage de mots dans une phrase\n",
    "\n",
    "Compter l'occurrence des lettres dans la phrase suivante : \n",
    "\"Python c'est trop bien, surtout quand c'est bien enseigné\""
   ]
  },
  {
   "cell_type": "code",
   "execution_count": 138,
   "id": "016a1e91-6963-4f14-bfcc-c4204944c75b",
   "metadata": {},
   "outputs": [
    {
     "data": {
      "text/plain": [
       "Counter({' ': 8,\n",
       "         't': 6,\n",
       "         'n': 6,\n",
       "         'e': 6,\n",
       "         's': 4,\n",
       "         'o': 3,\n",
       "         'i': 3,\n",
       "         'u': 3,\n",
       "         'c': 2,\n",
       "         \"'\": 2,\n",
       "         'r': 2,\n",
       "         'b': 2,\n",
       "         'P': 1,\n",
       "         'y': 1,\n",
       "         'h': 1,\n",
       "         'p': 1,\n",
       "         ',': 1,\n",
       "         'q': 1,\n",
       "         'a': 1,\n",
       "         'd': 1,\n",
       "         'g': 1,\n",
       "         'é': 1})"
      ]
     },
     "execution_count": 138,
     "metadata": {},
     "output_type": "execute_result"
    }
   ],
   "source": [
    "Counter(\"Python c'est trop bien, surtout quand c'est bien enseigné\")"
   ]
  },
  {
   "cell_type": "code",
   "execution_count": 157,
   "id": "b716519e-fadd-44e8-8c8c-e016c8b94f96",
   "metadata": {},
   "outputs": [
    {
     "name": "stdout",
     "output_type": "stream",
     "text": [
      "{'Python': 1,\n",
      " 'bien': 2,\n",
      " \"c'est\": 2,\n",
      " 'enseigné': 1,\n",
      " 'quand': 1,\n",
      " 'surtout': 1,\n",
      " 'trop': 1}\n"
     ]
    }
   ],
   "source": [
    "import pprint\n",
    "\n",
    "text=\"Python c'est trop bien surtout quand c'est bien enseigné\"\n",
    "counter={}\n",
    "for letter in text.split(\" \"):\n",
    "    if letter not in counter:\n",
    "        counter[letter]=0 \n",
    "    counter[letter]=counter[letter]+1\n",
    "pprint.pprint(counter)"
   ]
  },
  {
   "cell_type": "code",
   "execution_count": 158,
   "id": "86aa9dc7-0790-4983-bfef-c5bed991ef03",
   "metadata": {},
   "outputs": [
    {
     "data": {
      "text/plain": [
       "[('apple', 4), ('banana', 3), ('peach', 2), ('avocado', 1)]"
      ]
     },
     "execution_count": 158,
     "metadata": {},
     "output_type": "execute_result"
    }
   ],
   "source": [
    "sorted([(\"banana\", 3), (\"apple\", 4), (\"avocado\", 1), (\"peach\", 2)], key=lambda t: t[1], reverse=True)"
   ]
  },
  {
   "cell_type": "code",
   "execution_count": 159,
   "id": "d424b3cc-cd4f-46dd-b227-c95e0e53330b",
   "metadata": {},
   "outputs": [
    {
     "data": {
      "text/plain": [
       "{\"c'est\": 2,\n",
       " 'bien': 2,\n",
       " 'Python': 1,\n",
       " 'trop': 1,\n",
       " 'surtout': 1,\n",
       " 'quand': 1,\n",
       " 'enseigné': 1}"
      ]
     },
     "execution_count": 159,
     "metadata": {},
     "output_type": "execute_result"
    }
   ],
   "source": [
    "# on veut trier les lettres par nombre d'occurrences \n",
    "dict(sorted(counter.items(), key=lambda t: t[1], reverse=True))"
   ]
  },
  {
   "cell_type": "code",
   "execution_count": 160,
   "id": "d300f4ad-46ed-4aca-8bb3-514af014c494",
   "metadata": {},
   "outputs": [
    {
     "data": {
      "text/plain": [
       "[('Python', 1),\n",
       " (\"c'est\", 2),\n",
       " ('trop', 1),\n",
       " ('bien', 2),\n",
       " ('surtout', 1),\n",
       " ('quand', 1),\n",
       " ('enseigné', 1)]"
      ]
     },
     "execution_count": 160,
     "metadata": {},
     "output_type": "execute_result"
    }
   ],
   "source": [
    "list(counter.items())"
   ]
  },
  {
   "cell_type": "markdown",
   "id": "4c13c831-1849-48bf-ba87-4d5faf556c2b",
   "metadata": {},
   "source": [
    "# Manipulation de chaines de caractères"
   ]
  },
  {
   "cell_type": "code",
   "execution_count": 163,
   "id": "c683621f-aba7-452f-b2d3-c34f5a857a2e",
   "metadata": {},
   "outputs": [
    {
     "data": {
      "text/plain": [
       "['a', 'b', 'c', 'd']"
      ]
     },
     "execution_count": 163,
     "metadata": {},
     "output_type": "execute_result"
    }
   ],
   "source": [
    "\"a,b,c,d\".split(\",\")"
   ]
  },
  {
   "cell_type": "code",
   "execution_count": 164,
   "id": "81af3c1a-23b4-4cde-b823-07122bf35ca7",
   "metadata": {},
   "outputs": [
    {
     "data": {
      "text/plain": [
       "'a-b-c-d'"
      ]
     },
     "execution_count": 164,
     "metadata": {},
     "output_type": "execute_result"
    }
   ],
   "source": [
    "\"-\".join(['a', 'b', 'c', 'd'])"
   ]
  },
  {
   "cell_type": "code",
   "execution_count": 179,
   "id": "2641e7a7-9c85-41b8-9f26-dda52e7d5b7a",
   "metadata": {},
   "outputs": [
    {
     "name": "stdout",
     "output_type": "stream",
     "text": [
      "Il était var.upper()='TOTO' une fois\n"
     ]
    }
   ],
   "source": [
    "var = \"toto\"\n",
    "print(f\"Il était {var.upper()=} une fois\")"
   ]
  },
  {
   "cell_type": "code",
   "execution_count": 169,
   "id": "f3d7ff3f-c598-43c0-89e2-ea48a0a7d872",
   "metadata": {},
   "outputs": [],
   "source": [
    "number = 4125.6\n",
    "percent = 0.3738\n"
   ]
  },
  {
   "cell_type": "code",
   "execution_count": 175,
   "id": "1ff3fc74-bef7-420b-ad74-036e536d63b7",
   "metadata": {},
   "outputs": [
    {
     "data": {
      "text/plain": [
       "'4125.60'"
      ]
     },
     "execution_count": 175,
     "metadata": {},
     "output_type": "execute_result"
    }
   ],
   "source": [
    "f\"{number:.2f}\""
   ]
  },
  {
   "cell_type": "code",
   "execution_count": 185,
   "id": "9c52f674-cdb3-4724-9680-0e23e1d3dd3a",
   "metadata": {},
   "outputs": [
    {
     "ename": "TypeError",
     "evalue": "sequence item 2: expected str instance, int found",
     "output_type": "error",
     "traceback": [
      "\u001b[0;31m---------------------------------------------------------------------------\u001b[0m",
      "\u001b[0;31mTypeError\u001b[0m                                 Traceback (most recent call last)",
      "Cell \u001b[0;32mIn[185], line 2\u001b[0m\n\u001b[1;32m      1\u001b[0m \u001b[38;5;66;03m# join attend des list de string sinon elle crashe\u001b[39;00m\n\u001b[0;32m----> 2\u001b[0m \u001b[38;5;124;43m\"\u001b[39;49m\u001b[38;5;124;43m-\u001b[39;49m\u001b[38;5;124;43m\"\u001b[39;49m\u001b[38;5;241;43m.\u001b[39;49m\u001b[43mjoin\u001b[49m\u001b[43m(\u001b[49m\u001b[43m[\u001b[49m\u001b[38;5;124;43m\"\u001b[39;49m\u001b[38;5;124;43m1\u001b[39;49m\u001b[38;5;124;43m\"\u001b[39;49m\u001b[43m,\u001b[49m\u001b[43m \u001b[49m\u001b[38;5;124;43m\"\u001b[39;49m\u001b[38;5;124;43m2\u001b[39;49m\u001b[38;5;124;43m\"\u001b[39;49m\u001b[43m,\u001b[49m\u001b[43m \u001b[49m\u001b[38;5;241;43m3\u001b[39;49m\u001b[43m,\u001b[49m\u001b[43m \u001b[49m\u001b[38;5;241;43m4\u001b[39;49m\u001b[43m]\u001b[49m\u001b[43m)\u001b[49m\n",
      "\u001b[0;31mTypeError\u001b[0m: sequence item 2: expected str instance, int found"
     ]
    }
   ],
   "source": [
    "# join attend des list de string sinon elle crashe\n",
    "\"-\".join([\"1\", \"2\", 3, 4])"
   ]
  },
  {
   "cell_type": "code",
   "execution_count": 186,
   "id": "e25faf88-2e1c-46c6-a26e-421714d3fd4f",
   "metadata": {},
   "outputs": [
    {
     "data": {
      "text/plain": [
       "'1-2-3-4'"
      ]
     },
     "execution_count": 186,
     "metadata": {},
     "output_type": "execute_result"
    }
   ],
   "source": [
    "\"-\".join(map(str, [1, 2, 3, 4]))"
   ]
  },
  {
   "cell_type": "markdown",
   "id": "24848b1a-b0f7-438b-b07c-17893a2c9a63",
   "metadata": {},
   "source": [
    "# Fonction"
   ]
  },
  {
   "cell_type": "code",
   "execution_count": 188,
   "id": "48a88a19-1fcb-43a0-874e-b46842b1d7ce",
   "metadata": {},
   "outputs": [],
   "source": [
    "def g(a, b, *args): \n",
    "    print(\"a\", a) \n",
    "    print(\"b\", b)\n",
    "    print(\"args\", args)\n",
    "    print(\"-------\")"
   ]
  },
  {
   "cell_type": "code",
   "execution_count": 191,
   "id": "0ff1efba-2bbf-488a-a529-0b001fd383e1",
   "metadata": {},
   "outputs": [
    {
     "name": "stdout",
     "output_type": "stream",
     "text": [
      "a 1\n",
      "b 2\n",
      "args (3, 4, 5, 6)\n",
      "-------\n"
     ]
    }
   ],
   "source": [
    " g(1, 2, 3, 4, 5, 6)"
   ]
  },
  {
   "cell_type": "code",
   "execution_count": 199,
   "id": "3e54ae2e-2ded-46c9-a36d-3177d4f42a1c",
   "metadata": {},
   "outputs": [
    {
     "name": "stdout",
     "output_type": "stream",
     "text": [
      "a 1\n",
      "b 2\n",
      "args (3, 4, 5)\n",
      "-------\n"
     ]
    }
   ],
   "source": [
    "liste_example = [1, 2, 3, 4, 5]\n",
    "g(*liste_example)"
   ]
  },
  {
   "cell_type": "code",
   "execution_count": 206,
   "id": "2972c718-bd97-4510-b6e1-cb3d42eebf35",
   "metadata": {},
   "outputs": [
    {
     "name": "stdout",
     "output_type": "stream",
     "text": [
      "1 2 {'toto': 3}\n"
     ]
    }
   ],
   "source": [
    "def g(a, b, **kwargs):   # key word arguments\n",
    "    print(a, b, kwargs)\n",
    "\n",
    "g(1, 2, toto=3)"
   ]
  },
  {
   "cell_type": "code",
   "execution_count": 214,
   "id": "a23af5be-07b5-43cc-bfa9-79bbce271c12",
   "metadata": {},
   "outputs": [
    {
     "name": "stdout",
     "output_type": "stream",
     "text": [
      "a 1\n",
      "b 2\n",
      "args ()\n",
      "kwargs={}\n",
      "-------\n",
      "a 1\n",
      "b 2\n",
      "args ()\n",
      "kwargs={}\n",
      "-------\n",
      "a 1\n",
      "b c\n",
      "args (3, 4, 'd', 'e')\n",
      "kwargs={}\n",
      "-------\n"
     ]
    }
   ],
   "source": [
    "def f(a, b, *args, **kwargs): \n",
    "    print(\"a\", a) \n",
    "    print(\"b\", b)\n",
    "    print(\"args\", args)\n",
    "    print(f\"{kwargs=}\")\n",
    "    print(\"-------\")\n",
    "\n",
    "\n",
    "f(1, 2)\n",
    "f(1, b=2)\n",
    "f(1, *[\"c\", 3, 4], *{\"d\": 5, \"e\": 6})"
   ]
  },
  {
   "cell_type": "code",
   "execution_count": 217,
   "id": "642e059c-f37b-4b04-a105-22b43bbc36d0",
   "metadata": {},
   "outputs": [
    {
     "name": "stdout",
     "output_type": "stream",
     "text": [
      "1 default\n",
      "1 2\n"
     ]
    }
   ],
   "source": [
    "def f(a, *, b=\"default\"):\n",
    "    print(a, b)\n",
    "\n",
    "f(1)\n",
    "f(1, b=2)"
   ]
  },
  {
   "cell_type": "code",
   "execution_count": 234,
   "id": "b3285732-44b3-481b-a6e9-9f58c93c8cbb",
   "metadata": {},
   "outputs": [
    {
     "name": "stdout",
     "output_type": "stream",
     "text": [
      "outer\n"
     ]
    }
   ],
   "source": [
    "variable = 1\n",
    "\n",
    "def print_variable():\n",
    "    print(variable)\n",
    "\n",
    "def modifie_variable():\n",
    "    variable = variable + 1\n",
    "\n",
    "def outer(): \n",
    "    variable = \"outer\"\n",
    "    def inner():\n",
    "        print(variable)\n",
    "    inner()\n",
    "\n",
    "outer()"
   ]
  },
  {
   "cell_type": "code",
   "execution_count": 235,
   "id": "a5cc0c1c-3a51-462c-a26e-7397dcc031dc",
   "metadata": {},
   "outputs": [
    {
     "name": "stdout",
     "output_type": "stream",
     "text": [
      "10\n",
      "11\n"
     ]
    }
   ],
   "source": [
    "##### late binding des variables dans les fonctions\n",
    "\n",
    "variable = 10\n",
    "print_variable() \n",
    "variable = 11 \n",
    "print_variable()"
   ]
  },
  {
   "cell_type": "code",
   "execution_count": 236,
   "id": "fae8ea12-acb9-4823-a027-d8415d5c13ba",
   "metadata": {},
   "outputs": [],
   "source": [
    "def f():\n",
    "    print(zefrtyhngrfed)\n",
    "    "
   ]
  },
  {
   "cell_type": "code",
   "execution_count": 238,
   "id": "005203d4-5f54-4f85-b6bd-65b3b3202145",
   "metadata": {},
   "outputs": [
    {
     "name": "stdout",
     "output_type": "stream",
     "text": [
      "2\n"
     ]
    }
   ],
   "source": [
    "zefrtyhngrfed = 2\n",
    "f()"
   ]
  },
  {
   "cell_type": "code",
   "execution_count": 241,
   "id": "d82fb80b-4082-4cab-a5f5-8312108beee4",
   "metadata": {},
   "outputs": [],
   "source": [
    "def f():\n",
    "    h()\n",
    "\n",
    "\n",
    "def h():\n",
    "    pass \n",
    "\n",
    "f()"
   ]
  },
  {
   "cell_type": "code",
   "execution_count": 242,
   "id": "f4e8a0e8-205a-43ff-883f-800b116ae694",
   "metadata": {},
   "outputs": [
    {
     "data": {
      "text/plain": [
       "4"
      ]
     },
     "execution_count": 242,
     "metadata": {},
     "output_type": "execute_result"
    }
   ],
   "source": [
    "def addition(a, b):\n",
    "    return a + b \n",
    "\n",
    "addition(1, 3)"
   ]
  },
  {
   "cell_type": "code",
   "execution_count": 244,
   "id": "c0ad2563-b94f-421a-89bd-481d8d24a95f",
   "metadata": {},
   "outputs": [],
   "source": [
    "def addition(a):\n",
    "    def ajoute_avec(b):\n",
    "        print(f\"dans ajoute avec {a=} {b=}\")\n",
    "        return a + b \n",
    "    print(f\"dans addition {a=} \")\n",
    "    return ajoute_avec"
   ]
  },
  {
   "cell_type": "code",
   "execution_count": 249,
   "id": "df00c653-f107-4926-8210-3ba94b2ce1aa",
   "metadata": {},
   "outputs": [
    {
     "name": "stdout",
     "output_type": "stream",
     "text": [
      "dans addition a=3 \n"
     ]
    }
   ],
   "source": [
    "ajoute_avec_3 = addition(3)"
   ]
  },
  {
   "cell_type": "code",
   "execution_count": 250,
   "id": "478be2f5-eee8-48da-8a2e-492fb89a8f57",
   "metadata": {},
   "outputs": [
    {
     "name": "stdout",
     "output_type": "stream",
     "text": [
      "dans ajoute avec a=3 b=5\n"
     ]
    },
    {
     "data": {
      "text/plain": [
       "8"
      ]
     },
     "execution_count": 250,
     "metadata": {},
     "output_type": "execute_result"
    }
   ],
   "source": [
    "ajoute_avec_3(5)"
   ]
  },
  {
   "cell_type": "code",
   "execution_count": 251,
   "id": "ab9bf8ac-1415-490b-9a62-49120bf835b6",
   "metadata": {},
   "outputs": [
    {
     "name": "stdout",
     "output_type": "stream",
     "text": [
      "dans addition a=3 \n",
      "dans ajoute avec a=3 b=5\n"
     ]
    },
    {
     "data": {
      "text/plain": [
       "8"
      ]
     },
     "execution_count": 251,
     "metadata": {},
     "output_type": "execute_result"
    }
   ],
   "source": [
    "addition(3)(5)"
   ]
  },
  {
   "cell_type": "code",
   "execution_count": null,
   "id": "6055cdc9-4914-4815-83f9-058044127f0e",
   "metadata": {},
   "outputs": [],
   "source": []
  }
 ],
 "metadata": {
  "kernelspec": {
   "display_name": "Python 3 (ipykernel)",
   "language": "python",
   "name": "python3"
  },
  "language_info": {
   "codemirror_mode": {
    "name": "ipython",
    "version": 3
   },
   "file_extension": ".py",
   "mimetype": "text/x-python",
   "name": "python",
   "nbconvert_exporter": "python",
   "pygments_lexer": "ipython3",
   "version": "3.10.9"
  }
 },
 "nbformat": 4,
 "nbformat_minor": 5
}
