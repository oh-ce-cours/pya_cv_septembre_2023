{
 "cells": [
  {
   "cell_type": "markdown",
   "id": "5c86597e-581b-4a48-b2b1-3cb0753c8550",
   "metadata": {},
   "source": [
    "# Rappel du jour 3 \n",
    "\n",
    "* décorateurs\n",
    "    * on n'oublie pas le `wraps(f)` pour être poli avec ses utilisateurs\n",
    "* mise en cache à l'aide de décorateurs\n",
    "* arguments génériques `*args`, `**kwargs`\n",
    "* ouverture de CSV / pandas\n",
    "* tests unitaires\n",
    "    * on peut tester facilement des fonctions pures (qui un jeu d'entrée vont avoir toujours le même résultat)\n",
    "    * si les fonctions ne sont pas pures => on doit simuler le monde extérieur (on utilise le `mocking`)\n",
    "* POO\n",
    "    * compréhension de `self`\n",
    "    * héritage "
   ]
  },
  {
   "cell_type": "code",
   "execution_count": 6,
   "id": "73561fc7-ea92-4b7a-9853-c4d7ab335323",
   "metadata": {},
   "outputs": [
    {
     "name": "stdout",
     "output_type": "stream",
     "text": [
      "<function toto at 0x11133c160>\n"
     ]
    }
   ],
   "source": [
    "import functools\n",
    "\n",
    "def decorateur(f):\n",
    "    @functools.wraps(f)\n",
    "    def wrapper(*args, **kwargs):\n",
    "        res = f(*args, **kwargs)\n",
    "        return res\n",
    "    return wrapper\n",
    "\n",
    "@decorateur\n",
    "def toto():\n",
    "    pass\n",
    "\n",
    "\n",
    "print(toto)"
   ]
  },
  {
   "cell_type": "markdown",
   "id": "981b962b-f7e5-4ec8-9bed-4d40e93ce30e",
   "metadata": {},
   "source": [
    "# Context managers\n",
    "\n",
    "https://realpython.com/python-with-statement/"
   ]
  },
  {
   "cell_type": "code",
   "execution_count": 23,
   "id": "b7984d40-7b9c-4f9d-9cfe-08acb6e9d979",
   "metadata": {},
   "outputs": [
    {
     "name": "stdout",
     "output_type": "stream",
     "text": [
      "False\n"
     ]
    },
    {
     "ename": "ZeroDivisionError",
     "evalue": "division by zero",
     "output_type": "error",
     "traceback": [
      "\u001b[0;31m---------------------------------------------------------------------------\u001b[0m",
      "\u001b[0;31mZeroDivisionError\u001b[0m                         Traceback (most recent call last)",
      "Cell \u001b[0;32mIn[23], line 3\u001b[0m\n\u001b[1;32m      1\u001b[0m \u001b[38;5;28;01mwith\u001b[39;00m \u001b[38;5;28mopen\u001b[39m(\u001b[38;5;124m\"\u001b[39m\u001b[38;5;124m./requirements_and_venv.md\u001b[39m\u001b[38;5;124m\"\u001b[39m) \u001b[38;5;28;01mas\u001b[39;00m f:\n\u001b[1;32m      2\u001b[0m     \u001b[38;5;28mprint\u001b[39m(f\u001b[38;5;241m.\u001b[39mclosed)\n\u001b[0;32m----> 3\u001b[0m     \u001b[38;5;241;43m1\u001b[39;49m\u001b[38;5;241;43m/\u001b[39;49m\u001b[38;5;241;43m0\u001b[39;49m\n\u001b[1;32m      4\u001b[0m     f\u001b[38;5;241m.\u001b[39mreadlines()\n\u001b[1;32m      6\u001b[0m f\u001b[38;5;241m.\u001b[39mclosed\n",
      "\u001b[0;31mZeroDivisionError\u001b[0m: division by zero"
     ]
    }
   ],
   "source": [
    "with open(\"./requirements_and_venv.md\") as f:\n",
    "    print(f.closed)\n",
    "    1/0\n",
    "    f.readlines()\n",
    "    \n",
    "f.closed"
   ]
  },
  {
   "cell_type": "code",
   "execution_count": 24,
   "id": "2c616bd3-b126-47c9-909b-cded657dd05e",
   "metadata": {},
   "outputs": [
    {
     "name": "stdout",
     "output_type": "stream",
     "text": [
      "True\n"
     ]
    }
   ],
   "source": [
    "print(f.closed)"
   ]
  },
  {
   "cell_type": "code",
   "execution_count": 25,
   "id": "d007f0ea-966f-4264-8526-416fa1b7220b",
   "metadata": {},
   "outputs": [],
   "source": [
    "# code équivalent sans contexte manager\n",
    "f = open(\"./requirements_and_venv.md\")\n",
    "try:\n",
    "    f.readlines()\n",
    "finally:\n",
    "    f.close()"
   ]
  },
  {
   "cell_type": "code",
   "execution_count": 26,
   "id": "bd536adb-f2d0-4e61-b220-739de85b5a0f",
   "metadata": {},
   "outputs": [
    {
     "name": "stdout",
     "output_type": "stream",
     "text": [
      "on prend le verrou\n",
      "on vient de le prendre\n",
      "salut\n",
      "on relache le verrou\n",
      "on vient de le relacher\n"
     ]
    },
    {
     "ename": "ZeroDivisionError",
     "evalue": "division by zero",
     "output_type": "error",
     "traceback": [
      "\u001b[0;31m---------------------------------------------------------------------------\u001b[0m",
      "\u001b[0;31mZeroDivisionError\u001b[0m                         Traceback (most recent call last)",
      "Cell \u001b[0;32mIn[26], line 21\u001b[0m\n\u001b[1;32m     19\u001b[0m \u001b[38;5;28;01mwith\u001b[39;00m mon_lock:\n\u001b[1;32m     20\u001b[0m     \u001b[38;5;28mprint\u001b[39m(\u001b[38;5;124m\"\u001b[39m\u001b[38;5;124msalut\u001b[39m\u001b[38;5;124m\"\u001b[39m)\n\u001b[0;32m---> 21\u001b[0m     \u001b[38;5;241;43m1\u001b[39;49m\u001b[38;5;241;43m/\u001b[39;49m\u001b[38;5;241;43m0\u001b[39;49m\n",
      "\u001b[0;31mZeroDivisionError\u001b[0m: division by zero"
     ]
    }
   ],
   "source": [
    "import threading\n",
    "\n",
    "class MyLock:\n",
    "    def __init__(self, mon_verrou):\n",
    "        self.lock = mon_verrou \n",
    "        \n",
    "    def __enter__(self):\n",
    "        print(\"on prend le verrou\")\n",
    "        self.lock.acquire()\n",
    "        print(\"on vient de le prendre\")\n",
    "\n",
    "    def __exit__(self, *args):\n",
    "        print(\"on relache le verrou\")\n",
    "        self.lock.release()\n",
    "        print(\"on vient de le relacher\")\n",
    "\n",
    "\n",
    "mon_lock = MyLock(threading.Lock())\n",
    "with mon_lock:\n",
    "    print(\"salut\")\n",
    "    1/0"
   ]
  },
  {
   "cell_type": "markdown",
   "id": "23a63b45-fc2e-440f-860a-5a36921b9f81",
   "metadata": {},
   "source": [
    "# Accès aux attributs en POO en python"
   ]
  },
  {
   "cell_type": "code",
   "execution_count": 41,
   "id": "cecf1df5-f1c9-4ed5-be0c-f5021d2fe1fe",
   "metadata": {},
   "outputs": [],
   "source": [
    "class Acces:\n",
    "    def __init__(self):\n",
    "        self.a = 1\n",
    "        self.b = 2\n",
    "\n",
    "    def compute(self):\n",
    "        return self.a + self.b\n",
    "    \n",
    "    def get_a(self):\n",
    "        print(\"on est en train de récupérer a\")\n",
    "        return self.a\n",
    "\n",
    "    def set_a(self, value):\n",
    "        print(\"plein de vérifications sur la valeurs\")\n",
    "        self.a = value "
   ]
  },
  {
   "cell_type": "code",
   "execution_count": 42,
   "id": "c97df7ce-7769-4317-9da3-5ad9bec865c1",
   "metadata": {},
   "outputs": [
    {
     "name": "stdout",
     "output_type": "stream",
     "text": [
      "on est en train de récupérer a\n"
     ]
    },
    {
     "data": {
      "text/plain": [
       "1"
      ]
     },
     "execution_count": 42,
     "metadata": {},
     "output_type": "execute_result"
    }
   ],
   "source": [
    "acces = Acces()\n",
    "acces.get_a()"
   ]
  },
  {
   "cell_type": "code",
   "execution_count": 43,
   "id": "5d6518ea-e2e9-4c47-b0ff-51ed4ff6a222",
   "metadata": {},
   "outputs": [
    {
     "name": "stdout",
     "output_type": "stream",
     "text": [
      "plein de vérifications sur la valeurs\n"
     ]
    }
   ],
   "source": [
    "acces.set_a(3)"
   ]
  },
  {
   "cell_type": "code",
   "execution_count": 44,
   "id": "07ade96d-40b3-49c4-a6b4-6d6d286c6417",
   "metadata": {},
   "outputs": [
    {
     "data": {
      "text/plain": [
       "5"
      ]
     },
     "execution_count": 44,
     "metadata": {},
     "output_type": "execute_result"
    }
   ],
   "source": [
    "acces.compute()"
   ]
  },
  {
   "cell_type": "code",
   "execution_count": 45,
   "id": "4bcb6246-1a8b-4e8c-a93d-433a9c577ee2",
   "metadata": {},
   "outputs": [],
   "source": [
    "acces.a = 345"
   ]
  },
  {
   "cell_type": "code",
   "execution_count": 53,
   "id": "61c0e27d-74bf-49cd-bf75-dda2a5247d81",
   "metadata": {},
   "outputs": [],
   "source": [
    "class TemperatureConverter:\n",
    "    def __init__(self, k):\n",
    "        self.kelvin = k \n",
    "\n",
    "    def get_celcius(self):\n",
    "        print(\"access au celcius\")\n",
    "        return self.kelvin - 273.15\n",
    "\n",
    "    def set_celcius(self, value):\n",
    "        print(\"setting des celcius\")\n",
    "        self.kelvin = value + 273.15\n",
    "\n",
    "    celcius = property(get_celcius, set_celcius)"
   ]
  },
  {
   "cell_type": "code",
   "execution_count": 54,
   "id": "ab41f412-fca8-4e57-903f-62fafdc8b062",
   "metadata": {},
   "outputs": [
    {
     "name": "stdout",
     "output_type": "stream",
     "text": [
      "access au celcius\n"
     ]
    },
    {
     "data": {
      "text/plain": [
       "-263.15"
      ]
     },
     "execution_count": 54,
     "metadata": {},
     "output_type": "execute_result"
    }
   ],
   "source": [
    "tc = TemperatureConverter(10)\n",
    "tc.celcius"
   ]
  },
  {
   "cell_type": "code",
   "execution_count": 55,
   "id": "5314b532-2573-4de1-b1a4-e42f6dc46299",
   "metadata": {},
   "outputs": [
    {
     "name": "stdout",
     "output_type": "stream",
     "text": [
      "setting des celcius\n"
     ]
    },
    {
     "data": {
      "text/plain": [
       "285.15"
      ]
     },
     "execution_count": 55,
     "metadata": {},
     "output_type": "execute_result"
    }
   ],
   "source": [
    "tc.celcius = 12\n",
    "tc.kelvin"
   ]
  },
  {
   "cell_type": "code",
   "execution_count": 58,
   "id": "24113c6f-c31e-42cc-b0a0-0e9dfb6eb860",
   "metadata": {},
   "outputs": [],
   "source": [
    "class TemperatureConverter:\n",
    "    def __init__(self, k):\n",
    "        self.kelvin = k \n",
    "\n",
    "    @property\n",
    "    def celcius(self):\n",
    "        print(\"access au celcius\")\n",
    "        return self.kelvin - 273.15"
   ]
  },
  {
   "cell_type": "code",
   "execution_count": 59,
   "id": "6f512647-7cdc-4060-a047-bf7641d93599",
   "metadata": {},
   "outputs": [
    {
     "name": "stdout",
     "output_type": "stream",
     "text": [
      "access au celcius\n"
     ]
    },
    {
     "ename": "AttributeError",
     "evalue": "can't set attribute 'celcius'",
     "output_type": "error",
     "traceback": [
      "\u001b[0;31m---------------------------------------------------------------------------\u001b[0m",
      "\u001b[0;31mAttributeError\u001b[0m                            Traceback (most recent call last)",
      "Cell \u001b[0;32mIn[59], line 3\u001b[0m\n\u001b[1;32m      1\u001b[0m tc \u001b[38;5;241m=\u001b[39m TemperatureConverter(\u001b[38;5;241m10\u001b[39m)\n\u001b[1;32m      2\u001b[0m tc\u001b[38;5;241m.\u001b[39mcelcius\n\u001b[0;32m----> 3\u001b[0m \u001b[43mtc\u001b[49m\u001b[38;5;241;43m.\u001b[39;49m\u001b[43mcelcius\u001b[49m \u001b[38;5;241m=\u001b[39m \u001b[38;5;241m12\u001b[39m\n\u001b[1;32m      4\u001b[0m tc\u001b[38;5;241m.\u001b[39mkelvin\n",
      "\u001b[0;31mAttributeError\u001b[0m: can't set attribute 'celcius'"
     ]
    }
   ],
   "source": [
    "tc = TemperatureConverter(10)\n",
    "tc.celcius\n",
    "tc.celcius = 12\n",
    "tc.kelvin"
   ]
  },
  {
   "attachments": {
    "d57767d1-5082-4da2-8203-83972db70c2f.png": {
     "image/png": "[encoded data removed]"
    }
   },
   "cell_type": "markdown",
   "id": "52771c1b-56a7-4a8f-8d6d-90031d99a5fb",
   "metadata": {},
   "source": [
    "# exercice sur l'acces aux attributs\n",
    "\n",
    "![image.png](attachment:d57767d1-5082-4da2-8203-83972db70c2f.png)"
   ]
  },
  {
   "cell_type": "code",
   "execution_count": 60,
   "id": "f1ed1f79-ed20-4899-878c-2d15b935dab7",
   "metadata": {},
   "outputs": [
    {
     "ename": "NameError",
     "evalue": "name 'Note' is not defined",
     "output_type": "error",
     "traceback": [
      "\u001b[0;31m---------------------------------------------------------------------------\u001b[0m",
      "\u001b[0;31mNameError\u001b[0m                                 Traceback (most recent call last)",
      "Cell \u001b[0;32mIn[60], line 1\u001b[0m\n\u001b[0;32m----> 1\u001b[0m n \u001b[38;5;241m=\u001b[39m \u001b[43mNote\u001b[49m(\u001b[38;5;241m15\u001b[39m)\n\u001b[1;32m      2\u001b[0m n \u001b[38;5;241m=\u001b[39m \u001b[38;5;241m25\u001b[39m \u001b[38;5;66;03m## ça refuse \u001b[39;00m\n\u001b[1;32m      3\u001b[0m n \u001b[38;5;241m=\u001b[39m \u001b[38;5;241m-\u001b[39m\u001b[38;5;241m3\u001b[39m \u001b[38;5;66;03m## ça reduse => les notes c'est entre 0 et 20 \u001b[39;00m\n",
      "\u001b[0;31mNameError\u001b[0m: name 'Note' is not defined"
     ]
    }
   ],
   "source": [
    "n = Note(15)\n",
    "n = 25 ## ça refuse \n",
    "n = -3 ## ça reduse => les notes c'est entre 0 et 20 \n",
    "n.nombre # => 15\n",
    "n.couleur # => \"vert\"\n",
    "n.couleur = \"jaune\" # => pas possible\n",
    "n.nombre = 20\n",
    "n.couleur = \"vert fluo\" "
   ]
  },
  {
   "cell_type": "code",
   "execution_count": null,
   "id": "795ee8a2-c2be-40ef-8f8c-86b7b483a474",
   "metadata": {},
   "outputs": [],
   "source": []
  }
 ],
 "metadata": {
  "kernelspec": {
   "display_name": "Python 3 (ipykernel)",
   "language": "python",
   "name": "python3"
  },
  "language_info": {
   "codemirror_mode": {
    "name": "ipython",
    "version": 3
   },
   "file_extension": ".py",
   "mimetype": "text/x-python",
   "name": "python",
   "nbconvert_exporter": "python",
   "pygments_lexer": "ipython3",
   "version": "3.10.9"
  }
 },
 "nbformat": 4,
 "nbformat_minor": 5
}
