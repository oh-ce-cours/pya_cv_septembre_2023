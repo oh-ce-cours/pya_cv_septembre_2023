{
 "cells": [
  {
   "cell_type": "markdown",
   "id": "5c86597e-581b-4a48-b2b1-3cb0753c8550",
   "metadata": {},
   "source": [
    "# Rappel du jour 3 \n",
    "\n",
    "* décorateurs\n",
    "    * \n",
    "* mise en cache à l'aide de décorateurs\n",
    "* "
   ]
  }
 ],
 "metadata": {
  "kernelspec": {
   "display_name": "Python 3 (ipykernel)",
   "language": "python",
   "name": "python3"
  },
  "language_info": {
   "codemirror_mode": {
    "name": "ipython",
    "version": 3
   },
   "file_extension": ".py",
   "mimetype": "text/x-python",
   "name": "python",
   "nbconvert_exporter": "python",
   "pygments_lexer": "ipython3",
   "version": "3.10.9"
  }
 },
 "nbformat": 4,
 "nbformat_minor": 5
}
