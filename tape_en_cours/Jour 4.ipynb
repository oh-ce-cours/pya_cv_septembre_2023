{
 "cells": [
  {
   "cell_type": "markdown",
   "id": "5c86597e-581b-4a48-b2b1-3cb0753c8550",
   "metadata": {},
   "source": [
    "# Rappel du jour 3 \n",
    "\n",
    "* décorateurs\n",
    "* mise en cache à l'aide de décorateurs\n",
    "* arguments génériques `*args`, `**kwargs`\n",
    "* "
   ]
  },
  {
   "cell_type": "code",
   "execution_count": null,
   "id": "73561fc7-ea92-4b7a-9853-c4d7ab335323",
   "metadata": {},
   "outputs": [],
   "source": [
    "def decorateur(f):\n",
    "    \n",
    "    def wrapper(*args, **kwargs):\n",
    "        res = f(*args, **kwargs)\n",
    "        return res\n",
    "    return wrapper "
   ]
  }
 ],
 "metadata": {
  "kernelspec": {
   "display_name": "Python 3 (ipykernel)",
   "language": "python",
   "name": "python3"
  },
  "language_info": {
   "codemirror_mode": {
    "name": "ipython",
    "version": 3
   },
   "file_extension": ".py",
   "mimetype": "text/x-python",
   "name": "python",
   "nbconvert_exporter": "python",
   "pygments_lexer": "ipython3",
   "version": "3.10.9"
  }
 },
 "nbformat": 4,
 "nbformat_minor": 5
}
